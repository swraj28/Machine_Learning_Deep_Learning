{
 "cells": [
  {
   "cell_type": "markdown",
   "metadata": {
    "papermill": {
     "duration": 0.036492,
     "end_time": "2021-07-20T04:11:18.372531",
     "exception": false,
     "start_time": "2021-07-20T04:11:18.336039",
     "status": "completed"
    },
    "tags": []
   },
   "source": [
    "# **Read the Data**"
   ]
  },
  {
   "cell_type": "code",
   "execution_count": 1,
   "metadata": {
    "execution": {
     "iopub.execute_input": "2021-07-20T04:11:18.446993Z",
     "iopub.status.busy": "2021-07-20T04:11:18.445633Z",
     "iopub.status.idle": "2021-07-20T04:11:18.633476Z",
     "shell.execute_reply": "2021-07-20T04:11:18.632886Z",
     "shell.execute_reply.started": "2021-07-20T04:08:43.573077Z"
    },
    "papermill": {
     "duration": 0.2263,
     "end_time": "2021-07-20T04:11:18.633640",
     "exception": false,
     "start_time": "2021-07-20T04:11:18.407340",
     "status": "completed"
    },
    "tags": []
   },
   "outputs": [
    {
     "data": {
      "text/html": [
       "<div>\n",
       "<style scoped>\n",
       "    .dataframe tbody tr th:only-of-type {\n",
       "        vertical-align: middle;\n",
       "    }\n",
       "\n",
       "    .dataframe tbody tr th {\n",
       "        vertical-align: top;\n",
       "    }\n",
       "\n",
       "    .dataframe thead th {\n",
       "        text-align: right;\n",
       "    }\n",
       "</style>\n",
       "<table border=\"1\" class=\"dataframe\">\n",
       "  <thead>\n",
       "    <tr style=\"text-align: right;\">\n",
       "      <th></th>\n",
       "      <th>school</th>\n",
       "      <th>sex</th>\n",
       "      <th>age</th>\n",
       "      <th>address</th>\n",
       "      <th>famsize</th>\n",
       "      <th>Pstatus</th>\n",
       "      <th>Medu</th>\n",
       "      <th>Fedu</th>\n",
       "      <th>Mjob</th>\n",
       "      <th>Fjob</th>\n",
       "      <th>...</th>\n",
       "      <th>famrel</th>\n",
       "      <th>freetime</th>\n",
       "      <th>goout</th>\n",
       "      <th>Dalc</th>\n",
       "      <th>Walc</th>\n",
       "      <th>health</th>\n",
       "      <th>absences</th>\n",
       "      <th>G1</th>\n",
       "      <th>G2</th>\n",
       "      <th>G3</th>\n",
       "    </tr>\n",
       "  </thead>\n",
       "  <tbody>\n",
       "    <tr>\n",
       "      <th>0</th>\n",
       "      <td>GP</td>\n",
       "      <td>F</td>\n",
       "      <td>18</td>\n",
       "      <td>U</td>\n",
       "      <td>GT3</td>\n",
       "      <td>A</td>\n",
       "      <td>4</td>\n",
       "      <td>4</td>\n",
       "      <td>at_home</td>\n",
       "      <td>teacher</td>\n",
       "      <td>...</td>\n",
       "      <td>4</td>\n",
       "      <td>3</td>\n",
       "      <td>4</td>\n",
       "      <td>1</td>\n",
       "      <td>1</td>\n",
       "      <td>3</td>\n",
       "      <td>6</td>\n",
       "      <td>5</td>\n",
       "      <td>6</td>\n",
       "      <td>6</td>\n",
       "    </tr>\n",
       "    <tr>\n",
       "      <th>1</th>\n",
       "      <td>GP</td>\n",
       "      <td>F</td>\n",
       "      <td>17</td>\n",
       "      <td>U</td>\n",
       "      <td>GT3</td>\n",
       "      <td>T</td>\n",
       "      <td>1</td>\n",
       "      <td>1</td>\n",
       "      <td>at_home</td>\n",
       "      <td>other</td>\n",
       "      <td>...</td>\n",
       "      <td>5</td>\n",
       "      <td>3</td>\n",
       "      <td>3</td>\n",
       "      <td>1</td>\n",
       "      <td>1</td>\n",
       "      <td>3</td>\n",
       "      <td>4</td>\n",
       "      <td>5</td>\n",
       "      <td>5</td>\n",
       "      <td>6</td>\n",
       "    </tr>\n",
       "    <tr>\n",
       "      <th>2</th>\n",
       "      <td>GP</td>\n",
       "      <td>F</td>\n",
       "      <td>15</td>\n",
       "      <td>U</td>\n",
       "      <td>LE3</td>\n",
       "      <td>T</td>\n",
       "      <td>1</td>\n",
       "      <td>1</td>\n",
       "      <td>at_home</td>\n",
       "      <td>other</td>\n",
       "      <td>...</td>\n",
       "      <td>4</td>\n",
       "      <td>3</td>\n",
       "      <td>2</td>\n",
       "      <td>2</td>\n",
       "      <td>3</td>\n",
       "      <td>3</td>\n",
       "      <td>10</td>\n",
       "      <td>7</td>\n",
       "      <td>8</td>\n",
       "      <td>10</td>\n",
       "    </tr>\n",
       "    <tr>\n",
       "      <th>3</th>\n",
       "      <td>GP</td>\n",
       "      <td>F</td>\n",
       "      <td>15</td>\n",
       "      <td>U</td>\n",
       "      <td>GT3</td>\n",
       "      <td>T</td>\n",
       "      <td>4</td>\n",
       "      <td>2</td>\n",
       "      <td>health</td>\n",
       "      <td>services</td>\n",
       "      <td>...</td>\n",
       "      <td>3</td>\n",
       "      <td>2</td>\n",
       "      <td>2</td>\n",
       "      <td>1</td>\n",
       "      <td>1</td>\n",
       "      <td>5</td>\n",
       "      <td>2</td>\n",
       "      <td>15</td>\n",
       "      <td>14</td>\n",
       "      <td>15</td>\n",
       "    </tr>\n",
       "    <tr>\n",
       "      <th>4</th>\n",
       "      <td>GP</td>\n",
       "      <td>F</td>\n",
       "      <td>16</td>\n",
       "      <td>U</td>\n",
       "      <td>GT3</td>\n",
       "      <td>T</td>\n",
       "      <td>3</td>\n",
       "      <td>3</td>\n",
       "      <td>other</td>\n",
       "      <td>other</td>\n",
       "      <td>...</td>\n",
       "      <td>4</td>\n",
       "      <td>3</td>\n",
       "      <td>2</td>\n",
       "      <td>1</td>\n",
       "      <td>2</td>\n",
       "      <td>5</td>\n",
       "      <td>4</td>\n",
       "      <td>6</td>\n",
       "      <td>10</td>\n",
       "      <td>10</td>\n",
       "    </tr>\n",
       "  </tbody>\n",
       "</table>\n",
       "<p>5 rows × 33 columns</p>\n",
       "</div>"
      ],
      "text/plain": [
       "  school sex  age address famsize Pstatus  Medu  Fedu     Mjob      Fjob  ...  \\\n",
       "0     GP   F   18       U     GT3       A     4     4  at_home   teacher  ...   \n",
       "1     GP   F   17       U     GT3       T     1     1  at_home     other  ...   \n",
       "2     GP   F   15       U     LE3       T     1     1  at_home     other  ...   \n",
       "3     GP   F   15       U     GT3       T     4     2   health  services  ...   \n",
       "4     GP   F   16       U     GT3       T     3     3    other     other  ...   \n",
       "\n",
       "  famrel freetime  goout  Dalc  Walc health absences  G1  G2  G3  \n",
       "0      4        3      4     1     1      3        6   5   6   6  \n",
       "1      5        3      3     1     1      3        4   5   5   6  \n",
       "2      4        3      2     2     3      3       10   7   8  10  \n",
       "3      3        2      2     1     1      5        2  15  14  15  \n",
       "4      4        3      2     1     2      5        4   6  10  10  \n",
       "\n",
       "[5 rows x 33 columns]"
      ]
     },
     "execution_count": 1,
     "metadata": {},
     "output_type": "execute_result"
    }
   ],
   "source": [
    "import pandas as pd\n",
    "data=pd.read_csv('../input/student-grade-prediction/student-mat.csv')\n",
    "data.head()"
   ]
  },
  {
   "cell_type": "code",
   "execution_count": 2,
   "metadata": {
    "execution": {
     "iopub.execute_input": "2021-07-20T04:11:18.711934Z",
     "iopub.status.busy": "2021-07-20T04:11:18.711320Z",
     "iopub.status.idle": "2021-07-20T04:11:18.717166Z",
     "shell.execute_reply": "2021-07-20T04:11:18.716581Z",
     "shell.execute_reply.started": "2021-07-20T04:08:43.724532Z"
    },
    "papermill": {
     "duration": 0.047487,
     "end_time": "2021-07-20T04:11:18.717325",
     "exception": false,
     "start_time": "2021-07-20T04:11:18.669838",
     "status": "completed"
    },
    "tags": []
   },
   "outputs": [
    {
     "data": {
      "text/plain": [
       "(395, 33)"
      ]
     },
     "execution_count": 2,
     "metadata": {},
     "output_type": "execute_result"
    }
   ],
   "source": [
    "data.shape"
   ]
  },
  {
   "cell_type": "code",
   "execution_count": 3,
   "metadata": {
    "execution": {
     "iopub.execute_input": "2021-07-20T04:11:18.793532Z",
     "iopub.status.busy": "2021-07-20T04:11:18.792919Z",
     "iopub.status.idle": "2021-07-20T04:11:18.797777Z",
     "shell.execute_reply": "2021-07-20T04:11:18.798284Z",
     "shell.execute_reply.started": "2021-07-20T04:08:43.732939Z"
    },
    "papermill": {
     "duration": 0.044003,
     "end_time": "2021-07-20T04:11:18.798455",
     "exception": false,
     "start_time": "2021-07-20T04:11:18.754452",
     "status": "completed"
    },
    "tags": []
   },
   "outputs": [
    {
     "data": {
      "text/plain": [
       "Index(['school', 'sex', 'age', 'address', 'famsize', 'Pstatus', 'Medu', 'Fedu',\n",
       "       'Mjob', 'Fjob', 'reason', 'guardian', 'traveltime', 'studytime',\n",
       "       'failures', 'schoolsup', 'famsup', 'paid', 'activities', 'nursery',\n",
       "       'higher', 'internet', 'romantic', 'famrel', 'freetime', 'goout', 'Dalc',\n",
       "       'Walc', 'health', 'absences', 'G1', 'G2', 'G3'],\n",
       "      dtype='object')"
      ]
     },
     "execution_count": 3,
     "metadata": {},
     "output_type": "execute_result"
    }
   ],
   "source": [
    "data.columns"
   ]
  },
  {
   "cell_type": "code",
   "execution_count": 4,
   "metadata": {
    "execution": {
     "iopub.execute_input": "2021-07-20T04:11:18.873216Z",
     "iopub.status.busy": "2021-07-20T04:11:18.872657Z",
     "iopub.status.idle": "2021-07-20T04:11:18.893962Z",
     "shell.execute_reply": "2021-07-20T04:11:18.894616Z",
     "shell.execute_reply.started": "2021-07-20T04:08:43.746163Z"
    },
    "papermill": {
     "duration": 0.060706,
     "end_time": "2021-07-20T04:11:18.894790",
     "exception": false,
     "start_time": "2021-07-20T04:11:18.834084",
     "status": "completed"
    },
    "tags": []
   },
   "outputs": [
    {
     "name": "stdout",
     "output_type": "stream",
     "text": [
      "<class 'pandas.core.frame.DataFrame'>\n",
      "RangeIndex: 395 entries, 0 to 394\n",
      "Data columns (total 33 columns):\n",
      " #   Column      Non-Null Count  Dtype \n",
      "---  ------      --------------  ----- \n",
      " 0   school      395 non-null    object\n",
      " 1   sex         395 non-null    object\n",
      " 2   age         395 non-null    int64 \n",
      " 3   address     395 non-null    object\n",
      " 4   famsize     395 non-null    object\n",
      " 5   Pstatus     395 non-null    object\n",
      " 6   Medu        395 non-null    int64 \n",
      " 7   Fedu        395 non-null    int64 \n",
      " 8   Mjob        395 non-null    object\n",
      " 9   Fjob        395 non-null    object\n",
      " 10  reason      395 non-null    object\n",
      " 11  guardian    395 non-null    object\n",
      " 12  traveltime  395 non-null    int64 \n",
      " 13  studytime   395 non-null    int64 \n",
      " 14  failures    395 non-null    int64 \n",
      " 15  schoolsup   395 non-null    object\n",
      " 16  famsup      395 non-null    object\n",
      " 17  paid        395 non-null    object\n",
      " 18  activities  395 non-null    object\n",
      " 19  nursery     395 non-null    object\n",
      " 20  higher      395 non-null    object\n",
      " 21  internet    395 non-null    object\n",
      " 22  romantic    395 non-null    object\n",
      " 23  famrel      395 non-null    int64 \n",
      " 24  freetime    395 non-null    int64 \n",
      " 25  goout       395 non-null    int64 \n",
      " 26  Dalc        395 non-null    int64 \n",
      " 27  Walc        395 non-null    int64 \n",
      " 28  health      395 non-null    int64 \n",
      " 29  absences    395 non-null    int64 \n",
      " 30  G1          395 non-null    int64 \n",
      " 31  G2          395 non-null    int64 \n",
      " 32  G3          395 non-null    int64 \n",
      "dtypes: int64(16), object(17)\n",
      "memory usage: 102.0+ KB\n"
     ]
    }
   ],
   "source": [
    "data.info()"
   ]
  },
  {
   "cell_type": "code",
   "execution_count": 5,
   "metadata": {
    "execution": {
     "iopub.execute_input": "2021-07-20T04:11:18.970879Z",
     "iopub.status.busy": "2021-07-20T04:11:18.970204Z",
     "iopub.status.idle": "2021-07-20T04:11:19.040910Z",
     "shell.execute_reply": "2021-07-20T04:11:19.040273Z",
     "shell.execute_reply.started": "2021-07-20T04:08:43.775365Z"
    },
    "papermill": {
     "duration": 0.1105,
     "end_time": "2021-07-20T04:11:19.041049",
     "exception": false,
     "start_time": "2021-07-20T04:11:18.930549",
     "status": "completed"
    },
    "tags": []
   },
   "outputs": [
    {
     "data": {
      "text/html": [
       "<div>\n",
       "<style scoped>\n",
       "    .dataframe tbody tr th:only-of-type {\n",
       "        vertical-align: middle;\n",
       "    }\n",
       "\n",
       "    .dataframe tbody tr th {\n",
       "        vertical-align: top;\n",
       "    }\n",
       "\n",
       "    .dataframe thead th {\n",
       "        text-align: right;\n",
       "    }\n",
       "</style>\n",
       "<table border=\"1\" class=\"dataframe\">\n",
       "  <thead>\n",
       "    <tr style=\"text-align: right;\">\n",
       "      <th></th>\n",
       "      <th>age</th>\n",
       "      <th>Medu</th>\n",
       "      <th>Fedu</th>\n",
       "      <th>traveltime</th>\n",
       "      <th>studytime</th>\n",
       "      <th>failures</th>\n",
       "      <th>famrel</th>\n",
       "      <th>freetime</th>\n",
       "      <th>goout</th>\n",
       "      <th>Dalc</th>\n",
       "      <th>Walc</th>\n",
       "      <th>health</th>\n",
       "      <th>absences</th>\n",
       "      <th>G1</th>\n",
       "      <th>G2</th>\n",
       "      <th>G3</th>\n",
       "    </tr>\n",
       "  </thead>\n",
       "  <tbody>\n",
       "    <tr>\n",
       "      <th>count</th>\n",
       "      <td>395.000000</td>\n",
       "      <td>395.000000</td>\n",
       "      <td>395.000000</td>\n",
       "      <td>395.000000</td>\n",
       "      <td>395.000000</td>\n",
       "      <td>395.000000</td>\n",
       "      <td>395.000000</td>\n",
       "      <td>395.000000</td>\n",
       "      <td>395.000000</td>\n",
       "      <td>395.000000</td>\n",
       "      <td>395.000000</td>\n",
       "      <td>395.000000</td>\n",
       "      <td>395.000000</td>\n",
       "      <td>395.000000</td>\n",
       "      <td>395.000000</td>\n",
       "      <td>395.000000</td>\n",
       "    </tr>\n",
       "    <tr>\n",
       "      <th>mean</th>\n",
       "      <td>16.696203</td>\n",
       "      <td>2.749367</td>\n",
       "      <td>2.521519</td>\n",
       "      <td>1.448101</td>\n",
       "      <td>2.035443</td>\n",
       "      <td>0.334177</td>\n",
       "      <td>3.944304</td>\n",
       "      <td>3.235443</td>\n",
       "      <td>3.108861</td>\n",
       "      <td>1.481013</td>\n",
       "      <td>2.291139</td>\n",
       "      <td>3.554430</td>\n",
       "      <td>5.708861</td>\n",
       "      <td>10.908861</td>\n",
       "      <td>10.713924</td>\n",
       "      <td>10.415190</td>\n",
       "    </tr>\n",
       "    <tr>\n",
       "      <th>std</th>\n",
       "      <td>1.276043</td>\n",
       "      <td>1.094735</td>\n",
       "      <td>1.088201</td>\n",
       "      <td>0.697505</td>\n",
       "      <td>0.839240</td>\n",
       "      <td>0.743651</td>\n",
       "      <td>0.896659</td>\n",
       "      <td>0.998862</td>\n",
       "      <td>1.113278</td>\n",
       "      <td>0.890741</td>\n",
       "      <td>1.287897</td>\n",
       "      <td>1.390303</td>\n",
       "      <td>8.003096</td>\n",
       "      <td>3.319195</td>\n",
       "      <td>3.761505</td>\n",
       "      <td>4.581443</td>\n",
       "    </tr>\n",
       "    <tr>\n",
       "      <th>min</th>\n",
       "      <td>15.000000</td>\n",
       "      <td>0.000000</td>\n",
       "      <td>0.000000</td>\n",
       "      <td>1.000000</td>\n",
       "      <td>1.000000</td>\n",
       "      <td>0.000000</td>\n",
       "      <td>1.000000</td>\n",
       "      <td>1.000000</td>\n",
       "      <td>1.000000</td>\n",
       "      <td>1.000000</td>\n",
       "      <td>1.000000</td>\n",
       "      <td>1.000000</td>\n",
       "      <td>0.000000</td>\n",
       "      <td>3.000000</td>\n",
       "      <td>0.000000</td>\n",
       "      <td>0.000000</td>\n",
       "    </tr>\n",
       "    <tr>\n",
       "      <th>25%</th>\n",
       "      <td>16.000000</td>\n",
       "      <td>2.000000</td>\n",
       "      <td>2.000000</td>\n",
       "      <td>1.000000</td>\n",
       "      <td>1.000000</td>\n",
       "      <td>0.000000</td>\n",
       "      <td>4.000000</td>\n",
       "      <td>3.000000</td>\n",
       "      <td>2.000000</td>\n",
       "      <td>1.000000</td>\n",
       "      <td>1.000000</td>\n",
       "      <td>3.000000</td>\n",
       "      <td>0.000000</td>\n",
       "      <td>8.000000</td>\n",
       "      <td>9.000000</td>\n",
       "      <td>8.000000</td>\n",
       "    </tr>\n",
       "    <tr>\n",
       "      <th>50%</th>\n",
       "      <td>17.000000</td>\n",
       "      <td>3.000000</td>\n",
       "      <td>2.000000</td>\n",
       "      <td>1.000000</td>\n",
       "      <td>2.000000</td>\n",
       "      <td>0.000000</td>\n",
       "      <td>4.000000</td>\n",
       "      <td>3.000000</td>\n",
       "      <td>3.000000</td>\n",
       "      <td>1.000000</td>\n",
       "      <td>2.000000</td>\n",
       "      <td>4.000000</td>\n",
       "      <td>4.000000</td>\n",
       "      <td>11.000000</td>\n",
       "      <td>11.000000</td>\n",
       "      <td>11.000000</td>\n",
       "    </tr>\n",
       "    <tr>\n",
       "      <th>75%</th>\n",
       "      <td>18.000000</td>\n",
       "      <td>4.000000</td>\n",
       "      <td>3.000000</td>\n",
       "      <td>2.000000</td>\n",
       "      <td>2.000000</td>\n",
       "      <td>0.000000</td>\n",
       "      <td>5.000000</td>\n",
       "      <td>4.000000</td>\n",
       "      <td>4.000000</td>\n",
       "      <td>2.000000</td>\n",
       "      <td>3.000000</td>\n",
       "      <td>5.000000</td>\n",
       "      <td>8.000000</td>\n",
       "      <td>13.000000</td>\n",
       "      <td>13.000000</td>\n",
       "      <td>14.000000</td>\n",
       "    </tr>\n",
       "    <tr>\n",
       "      <th>max</th>\n",
       "      <td>22.000000</td>\n",
       "      <td>4.000000</td>\n",
       "      <td>4.000000</td>\n",
       "      <td>4.000000</td>\n",
       "      <td>4.000000</td>\n",
       "      <td>3.000000</td>\n",
       "      <td>5.000000</td>\n",
       "      <td>5.000000</td>\n",
       "      <td>5.000000</td>\n",
       "      <td>5.000000</td>\n",
       "      <td>5.000000</td>\n",
       "      <td>5.000000</td>\n",
       "      <td>75.000000</td>\n",
       "      <td>19.000000</td>\n",
       "      <td>19.000000</td>\n",
       "      <td>20.000000</td>\n",
       "    </tr>\n",
       "  </tbody>\n",
       "</table>\n",
       "</div>"
      ],
      "text/plain": [
       "              age        Medu        Fedu  traveltime   studytime    failures  \\\n",
       "count  395.000000  395.000000  395.000000  395.000000  395.000000  395.000000   \n",
       "mean    16.696203    2.749367    2.521519    1.448101    2.035443    0.334177   \n",
       "std      1.276043    1.094735    1.088201    0.697505    0.839240    0.743651   \n",
       "min     15.000000    0.000000    0.000000    1.000000    1.000000    0.000000   \n",
       "25%     16.000000    2.000000    2.000000    1.000000    1.000000    0.000000   \n",
       "50%     17.000000    3.000000    2.000000    1.000000    2.000000    0.000000   \n",
       "75%     18.000000    4.000000    3.000000    2.000000    2.000000    0.000000   \n",
       "max     22.000000    4.000000    4.000000    4.000000    4.000000    3.000000   \n",
       "\n",
       "           famrel    freetime       goout        Dalc        Walc      health  \\\n",
       "count  395.000000  395.000000  395.000000  395.000000  395.000000  395.000000   \n",
       "mean     3.944304    3.235443    3.108861    1.481013    2.291139    3.554430   \n",
       "std      0.896659    0.998862    1.113278    0.890741    1.287897    1.390303   \n",
       "min      1.000000    1.000000    1.000000    1.000000    1.000000    1.000000   \n",
       "25%      4.000000    3.000000    2.000000    1.000000    1.000000    3.000000   \n",
       "50%      4.000000    3.000000    3.000000    1.000000    2.000000    4.000000   \n",
       "75%      5.000000    4.000000    4.000000    2.000000    3.000000    5.000000   \n",
       "max      5.000000    5.000000    5.000000    5.000000    5.000000    5.000000   \n",
       "\n",
       "         absences          G1          G2          G3  \n",
       "count  395.000000  395.000000  395.000000  395.000000  \n",
       "mean     5.708861   10.908861   10.713924   10.415190  \n",
       "std      8.003096    3.319195    3.761505    4.581443  \n",
       "min      0.000000    3.000000    0.000000    0.000000  \n",
       "25%      0.000000    8.000000    9.000000    8.000000  \n",
       "50%      4.000000   11.000000   11.000000   11.000000  \n",
       "75%      8.000000   13.000000   13.000000   14.000000  \n",
       "max     75.000000   19.000000   19.000000   20.000000  "
      ]
     },
     "execution_count": 5,
     "metadata": {},
     "output_type": "execute_result"
    }
   ],
   "source": [
    "data.describe()"
   ]
  },
  {
   "cell_type": "markdown",
   "metadata": {
    "papermill": {
     "duration": 0.04008,
     "end_time": "2021-07-20T04:11:19.118971",
     "exception": false,
     "start_time": "2021-07-20T04:11:19.078891",
     "status": "completed"
    },
    "tags": []
   },
   "source": [
    "# **Regression**"
   ]
  },
  {
   "cell_type": "code",
   "execution_count": 6,
   "metadata": {
    "execution": {
     "iopub.execute_input": "2021-07-20T04:11:19.198572Z",
     "iopub.status.busy": "2021-07-20T04:11:19.197930Z",
     "iopub.status.idle": "2021-07-20T04:11:20.457545Z",
     "shell.execute_reply": "2021-07-20T04:11:20.457968Z",
     "shell.execute_reply.started": "2021-07-20T04:08:43.840320Z"
    },
    "papermill": {
     "duration": 1.300932,
     "end_time": "2021-07-20T04:11:20.458145",
     "exception": false,
     "start_time": "2021-07-20T04:11:19.157213",
     "status": "completed"
    },
    "tags": []
   },
   "outputs": [
    {
     "data": {
      "image/png": "[encoded data removed]",
      "text/plain": [
       "<Figure size 864x288 with 1 Axes>"
      ]
     },
     "metadata": {
      "needs_background": "light"
     },
     "output_type": "display_data"
    }
   ],
   "source": [
    "import matplotlib.pyplot as plt\n",
    "import seaborn as sns\n",
    "\n",
    "plt.figure(figsize=(12,4))\n",
    "sns.heatmap(data.isnull(),cbar=False,cmap='viridis',yticklabels=False)\n",
    "plt.title('Missing value in the dataset');"
   ]
  },
  {
   "cell_type": "code",
   "execution_count": 7,
   "metadata": {
    "execution": {
     "iopub.execute_input": "2021-07-20T04:11:20.546273Z",
     "iopub.status.busy": "2021-07-20T04:11:20.545230Z",
     "iopub.status.idle": "2021-07-20T04:11:20.548549Z",
     "shell.execute_reply": "2021-07-20T04:11:20.547893Z",
     "shell.execute_reply.started": "2021-07-20T04:08:45.214254Z"
    },
    "papermill": {
     "duration": 0.053101,
     "end_time": "2021-07-20T04:11:20.548698",
     "exception": false,
     "start_time": "2021-07-20T04:11:20.495597",
     "status": "completed"
    },
    "tags": []
   },
   "outputs": [],
   "source": [
    "import numpy as np\n",
    "numeric_columns=data.loc[:, data.columns != 'G3'].select_dtypes(include=np.number).columns.tolist()"
   ]
  },
  {
   "cell_type": "code",
   "execution_count": 8,
   "metadata": {
    "execution": {
     "iopub.execute_input": "2021-07-20T04:11:20.653520Z",
     "iopub.status.busy": "2021-07-20T04:11:20.652917Z",
     "iopub.status.idle": "2021-07-20T04:11:21.011690Z",
     "shell.execute_reply": "2021-07-20T04:11:21.011178Z",
     "shell.execute_reply.started": "2021-07-20T04:08:45.225002Z"
    },
    "papermill": {
     "duration": 0.409293,
     "end_time": "2021-07-20T04:11:21.011830",
     "exception": false,
     "start_time": "2021-07-20T04:11:20.602537",
     "status": "completed"
    },
    "tags": []
   },
   "outputs": [
    {
     "data": {
      "text/plain": [
       "<AxesSubplot:>"
      ]
     },
     "execution_count": 8,
     "metadata": {},
     "output_type": "execute_result"
    },
    {
     "data": {
      "image/png": "[encoded data removed]",
      "text/plain": [
       "<Figure size 720x720 with 1 Axes>"
      ]
     },
     "metadata": {
      "needs_background": "light"
     },
     "output_type": "display_data"
    }
   ],
   "source": [
    "data.boxplot(column=numeric_columns,fontsize=10,rot=0,grid=False,figsize=(10,10),vert=False)"
   ]
  },
  {
   "cell_type": "code",
   "execution_count": 9,
   "metadata": {
    "execution": {
     "iopub.execute_input": "2021-07-20T04:11:21.096789Z",
     "iopub.status.busy": "2021-07-20T04:11:21.095264Z",
     "iopub.status.idle": "2021-07-20T04:11:21.124513Z",
     "shell.execute_reply": "2021-07-20T04:11:21.123884Z",
     "shell.execute_reply.started": "2021-07-20T04:08:45.662101Z"
    },
    "papermill": {
     "duration": 0.074703,
     "end_time": "2021-07-20T04:11:21.124646",
     "exception": false,
     "start_time": "2021-07-20T04:11:21.049943",
     "status": "completed"
    },
    "tags": []
   },
   "outputs": [
    {
     "name": "stdout",
     "output_type": "stream",
     "text": [
      "Q1:\n",
      " age           16.0\n",
      "Medu           2.0\n",
      "Fedu           2.0\n",
      "traveltime     1.0\n",
      "studytime      1.0\n",
      "failures       0.0\n",
      "famrel         4.0\n",
      "freetime       3.0\n",
      "goout          2.0\n",
      "Dalc           1.0\n",
      "Walc           1.0\n",
      "health         3.0\n",
      "absences       0.0\n",
      "G1             8.0\n",
      "G2             9.0\n",
      "Name: 0.25, dtype: float64\n",
      "\n",
      "Q3:\n",
      " age           18.0\n",
      "Medu           4.0\n",
      "Fedu           3.0\n",
      "traveltime     2.0\n",
      "studytime      2.0\n",
      "failures       0.0\n",
      "famrel         5.0\n",
      "freetime       4.0\n",
      "goout          4.0\n",
      "Dalc           2.0\n",
      "Walc           3.0\n",
      "health         5.0\n",
      "absences       8.0\n",
      "G1            13.0\n",
      "G2            13.0\n",
      "Name: 0.75, dtype: float64\n",
      "\n",
      "IQR:\n",
      " age           2.0\n",
      "Medu          2.0\n",
      "Fedu          1.0\n",
      "traveltime    1.0\n",
      "studytime     1.0\n",
      "failures      0.0\n",
      "famrel        1.0\n",
      "freetime      1.0\n",
      "goout         2.0\n",
      "Dalc          1.0\n",
      "Walc          2.0\n",
      "health        2.0\n",
      "absences      8.0\n",
      "G1            5.0\n",
      "G2            4.0\n",
      "dtype: float64\n",
      "\n",
      "Min:\n",
      " age           13.0\n",
      "Medu          -1.0\n",
      "Fedu           0.5\n",
      "traveltime    -0.5\n",
      "studytime     -0.5\n",
      "failures       0.0\n",
      "famrel         2.5\n",
      "freetime       1.5\n",
      "goout         -1.0\n",
      "Dalc          -0.5\n",
      "Walc          -2.0\n",
      "health         0.0\n",
      "absences     -12.0\n",
      "G1             0.5\n",
      "G2             3.0\n",
      "dtype: float64\n",
      "\n",
      "Max:\n",
      " age           21.0\n",
      "Medu           7.0\n",
      "Fedu           4.5\n",
      "traveltime     3.5\n",
      "studytime      3.5\n",
      "failures       0.0\n",
      "famrel         6.5\n",
      "freetime       5.5\n",
      "goout          7.0\n",
      "Dalc           3.5\n",
      "Walc           6.0\n",
      "health         8.0\n",
      "absences      20.0\n",
      "G1            20.5\n",
      "G2            19.0\n",
      "dtype: float64\n"
     ]
    }
   ],
   "source": [
    "# get IQR for each numeric column\n",
    "Q1 = data[numeric_columns].quantile(0.25)\n",
    "Q3 = data[numeric_columns].quantile(0.75)\n",
    "IQR = Q3 - Q1\n",
    "boxplot_min = Q1 - 1.5 * IQR\n",
    "boxplot_max = Q3 + 1.5 * IQR\n",
    "print('Q1:\\n',Q1)\n",
    "print('\\nQ3:\\n',Q3)\n",
    "print('\\nIQR:\\n',IQR)\n",
    "print('\\nMin:\\n',boxplot_min)\n",
    "print('\\nMax:\\n',boxplot_max)"
   ]
  },
  {
   "cell_type": "code",
   "execution_count": 10,
   "metadata": {
    "execution": {
     "iopub.execute_input": "2021-07-20T04:11:21.228628Z",
     "iopub.status.busy": "2021-07-20T04:11:21.227802Z",
     "iopub.status.idle": "2021-07-20T04:11:21.231103Z",
     "shell.execute_reply": "2021-07-20T04:11:21.230548Z",
     "shell.execute_reply.started": "2021-07-20T04:08:45.701507Z"
    },
    "papermill": {
     "duration": 0.067718,
     "end_time": "2021-07-20T04:11:21.231238",
     "exception": false,
     "start_time": "2021-07-20T04:11:21.163520",
     "status": "completed"
    },
    "tags": []
   },
   "outputs": [],
   "source": [
    "# remove outlier\n",
    "non_outlier_data = data.copy()\n",
    "for x in numeric_columns:\n",
    "  filter_min = non_outlier_data[x]<boxplot_min[x]\n",
    "  filter_max = non_outlier_data[x]>boxplot_max[x]\n",
    "  non_outlier_data = non_outlier_data[~(\n",
    "    filter_min|filter_max\n",
    "    )]"
   ]
  },
  {
   "cell_type": "code",
   "execution_count": 11,
   "metadata": {
    "execution": {
     "iopub.execute_input": "2021-07-20T04:11:21.332277Z",
     "iopub.status.busy": "2021-07-20T04:11:21.331661Z",
     "iopub.status.idle": "2021-07-20T04:11:21.335825Z",
     "shell.execute_reply": "2021-07-20T04:11:21.335274Z",
     "shell.execute_reply.started": "2021-07-20T04:08:45.731039Z"
    },
    "papermill": {
     "duration": 0.064314,
     "end_time": "2021-07-20T04:11:21.335988",
     "exception": false,
     "start_time": "2021-07-20T04:11:21.271674",
     "status": "completed"
    },
    "tags": []
   },
   "outputs": [
    {
     "data": {
      "text/html": [
       "<div>\n",
       "<style scoped>\n",
       "    .dataframe tbody tr th:only-of-type {\n",
       "        vertical-align: middle;\n",
       "    }\n",
       "\n",
       "    .dataframe tbody tr th {\n",
       "        vertical-align: top;\n",
       "    }\n",
       "\n",
       "    .dataframe thead th {\n",
       "        text-align: right;\n",
       "    }\n",
       "</style>\n",
       "<table border=\"1\" class=\"dataframe\">\n",
       "  <thead>\n",
       "    <tr style=\"text-align: right;\">\n",
       "      <th></th>\n",
       "      <th>school</th>\n",
       "      <th>sex</th>\n",
       "      <th>age</th>\n",
       "      <th>address</th>\n",
       "      <th>famsize</th>\n",
       "      <th>Pstatus</th>\n",
       "      <th>Medu</th>\n",
       "      <th>Fedu</th>\n",
       "      <th>Mjob</th>\n",
       "      <th>Fjob</th>\n",
       "      <th>...</th>\n",
       "      <th>famrel</th>\n",
       "      <th>freetime</th>\n",
       "      <th>goout</th>\n",
       "      <th>Dalc</th>\n",
       "      <th>Walc</th>\n",
       "      <th>health</th>\n",
       "      <th>absences</th>\n",
       "      <th>G1</th>\n",
       "      <th>G2</th>\n",
       "      <th>G3</th>\n",
       "    </tr>\n",
       "  </thead>\n",
       "  <tbody>\n",
       "    <tr>\n",
       "      <th>0</th>\n",
       "      <td>GP</td>\n",
       "      <td>F</td>\n",
       "      <td>18</td>\n",
       "      <td>U</td>\n",
       "      <td>GT3</td>\n",
       "      <td>A</td>\n",
       "      <td>4</td>\n",
       "      <td>4</td>\n",
       "      <td>at_home</td>\n",
       "      <td>teacher</td>\n",
       "      <td>...</td>\n",
       "      <td>4</td>\n",
       "      <td>3</td>\n",
       "      <td>4</td>\n",
       "      <td>1</td>\n",
       "      <td>1</td>\n",
       "      <td>3</td>\n",
       "      <td>6</td>\n",
       "      <td>5</td>\n",
       "      <td>6</td>\n",
       "      <td>6</td>\n",
       "    </tr>\n",
       "    <tr>\n",
       "      <th>1</th>\n",
       "      <td>GP</td>\n",
       "      <td>F</td>\n",
       "      <td>17</td>\n",
       "      <td>U</td>\n",
       "      <td>GT3</td>\n",
       "      <td>T</td>\n",
       "      <td>1</td>\n",
       "      <td>1</td>\n",
       "      <td>at_home</td>\n",
       "      <td>other</td>\n",
       "      <td>...</td>\n",
       "      <td>5</td>\n",
       "      <td>3</td>\n",
       "      <td>3</td>\n",
       "      <td>1</td>\n",
       "      <td>1</td>\n",
       "      <td>3</td>\n",
       "      <td>4</td>\n",
       "      <td>5</td>\n",
       "      <td>5</td>\n",
       "      <td>6</td>\n",
       "    </tr>\n",
       "    <tr>\n",
       "      <th>3</th>\n",
       "      <td>GP</td>\n",
       "      <td>F</td>\n",
       "      <td>15</td>\n",
       "      <td>U</td>\n",
       "      <td>GT3</td>\n",
       "      <td>T</td>\n",
       "      <td>4</td>\n",
       "      <td>2</td>\n",
       "      <td>health</td>\n",
       "      <td>services</td>\n",
       "      <td>...</td>\n",
       "      <td>3</td>\n",
       "      <td>2</td>\n",
       "      <td>2</td>\n",
       "      <td>1</td>\n",
       "      <td>1</td>\n",
       "      <td>5</td>\n",
       "      <td>2</td>\n",
       "      <td>15</td>\n",
       "      <td>14</td>\n",
       "      <td>15</td>\n",
       "    </tr>\n",
       "    <tr>\n",
       "      <th>4</th>\n",
       "      <td>GP</td>\n",
       "      <td>F</td>\n",
       "      <td>16</td>\n",
       "      <td>U</td>\n",
       "      <td>GT3</td>\n",
       "      <td>T</td>\n",
       "      <td>3</td>\n",
       "      <td>3</td>\n",
       "      <td>other</td>\n",
       "      <td>other</td>\n",
       "      <td>...</td>\n",
       "      <td>4</td>\n",
       "      <td>3</td>\n",
       "      <td>2</td>\n",
       "      <td>1</td>\n",
       "      <td>2</td>\n",
       "      <td>5</td>\n",
       "      <td>4</td>\n",
       "      <td>6</td>\n",
       "      <td>10</td>\n",
       "      <td>10</td>\n",
       "    </tr>\n",
       "    <tr>\n",
       "      <th>5</th>\n",
       "      <td>GP</td>\n",
       "      <td>M</td>\n",
       "      <td>16</td>\n",
       "      <td>U</td>\n",
       "      <td>LE3</td>\n",
       "      <td>T</td>\n",
       "      <td>4</td>\n",
       "      <td>3</td>\n",
       "      <td>services</td>\n",
       "      <td>other</td>\n",
       "      <td>...</td>\n",
       "      <td>5</td>\n",
       "      <td>4</td>\n",
       "      <td>2</td>\n",
       "      <td>1</td>\n",
       "      <td>2</td>\n",
       "      <td>5</td>\n",
       "      <td>10</td>\n",
       "      <td>15</td>\n",
       "      <td>15</td>\n",
       "      <td>15</td>\n",
       "    </tr>\n",
       "  </tbody>\n",
       "</table>\n",
       "<p>5 rows × 33 columns</p>\n",
       "</div>"
      ],
      "text/plain": [
       "  school sex  age address famsize Pstatus  Medu  Fedu      Mjob      Fjob  \\\n",
       "0     GP   F   18       U     GT3       A     4     4   at_home   teacher   \n",
       "1     GP   F   17       U     GT3       T     1     1   at_home     other   \n",
       "3     GP   F   15       U     GT3       T     4     2    health  services   \n",
       "4     GP   F   16       U     GT3       T     3     3     other     other   \n",
       "5     GP   M   16       U     LE3       T     4     3  services     other   \n",
       "\n",
       "   ... famrel freetime  goout  Dalc  Walc health absences  G1  G2  G3  \n",
       "0  ...      4        3      4     1     1      3        6   5   6   6  \n",
       "1  ...      5        3      3     1     1      3        4   5   5   6  \n",
       "3  ...      3        2      2     1     1      5        2  15  14  15  \n",
       "4  ...      4        3      2     1     2      5        4   6  10  10  \n",
       "5  ...      5        4      2     1     2      5       10  15  15  15  \n",
       "\n",
       "[5 rows x 33 columns]"
      ]
     },
     "execution_count": 11,
     "metadata": {},
     "output_type": "execute_result"
    }
   ],
   "source": [
    "non_outlier_data.head(5)"
   ]
  },
  {
   "cell_type": "code",
   "execution_count": 12,
   "metadata": {
    "execution": {
     "iopub.execute_input": "2021-07-20T04:11:21.419116Z",
     "iopub.status.busy": "2021-07-20T04:11:21.418559Z",
     "iopub.status.idle": "2021-07-20T04:11:21.421984Z",
     "shell.execute_reply": "2021-07-20T04:11:21.421425Z",
     "shell.execute_reply.started": "2021-07-20T04:08:45.757724Z"
    },
    "papermill": {
     "duration": 0.046381,
     "end_time": "2021-07-20T04:11:21.422116",
     "exception": false,
     "start_time": "2021-07-20T04:11:21.375735",
     "status": "completed"
    },
    "tags": []
   },
   "outputs": [
    {
     "data": {
      "text/plain": [
       "(232, 33)"
      ]
     },
     "execution_count": 12,
     "metadata": {},
     "output_type": "execute_result"
    }
   ],
   "source": [
    "non_outlier_data.shape"
   ]
  },
  {
   "cell_type": "code",
   "execution_count": 13,
   "metadata": {
    "execution": {
     "iopub.execute_input": "2021-07-20T04:11:21.509002Z",
     "iopub.status.busy": "2021-07-20T04:11:21.507070Z",
     "iopub.status.idle": "2021-07-20T04:11:22.436975Z",
     "shell.execute_reply": "2021-07-20T04:11:22.437481Z",
     "shell.execute_reply.started": "2021-07-20T04:08:45.770253Z"
    },
    "papermill": {
     "duration": 0.975953,
     "end_time": "2021-07-20T04:11:22.437650",
     "exception": false,
     "start_time": "2021-07-20T04:11:21.461697",
     "status": "completed"
    },
    "tags": []
   },
   "outputs": [
    {
     "data": {
      "text/plain": [
       "<AxesSubplot:>"
      ]
     },
     "execution_count": 13,
     "metadata": {},
     "output_type": "execute_result"
    },
    {
     "data": {
      "image/png": "[encoded data removed]",
      "text/plain": [
       "<Figure size 864x864 with 2 Axes>"
      ]
     },
     "metadata": {
      "needs_background": "light"
     },
     "output_type": "display_data"
    }
   ],
   "source": [
    "# check correlation between column\n",
    "correlation_between_columns = non_outlier_data[numeric_columns].corr()\n",
    "upper_triangle_corr = np.triu(correlation_between_columns)\n",
    "\n",
    "fig, ax = plt.subplots(figsize=(12,12))\n",
    "sns.heatmap(correlation_between_columns, annot = True, cmap=\"YlGnBu\",ax=ax,annot_kws={\"size\":15},mask=upper_triangle_corr)"
   ]
  },
  {
   "cell_type": "code",
   "execution_count": 14,
   "metadata": {
    "execution": {
     "iopub.execute_input": "2021-07-20T04:11:22.526828Z",
     "iopub.status.busy": "2021-07-20T04:11:22.525864Z",
     "iopub.status.idle": "2021-07-20T04:11:24.756062Z",
     "shell.execute_reply": "2021-07-20T04:11:24.755584Z",
     "shell.execute_reply.started": "2021-07-20T04:08:46.904940Z"
    },
    "papermill": {
     "duration": 2.275904,
     "end_time": "2021-07-20T04:11:24.756206",
     "exception": false,
     "start_time": "2021-07-20T04:11:22.480302",
     "status": "completed"
    },
    "tags": []
   },
   "outputs": [
    {
     "data": {
      "image/png": "[encoded data removed]",
      "text/plain": [
       "<Figure size 3240x216 with 15 Axes>"
      ]
     },
     "metadata": {
      "needs_background": "light"
     },
     "output_type": "display_data"
    }
   ],
   "source": [
    "# check linearity between target vs feature\n",
    "scatter_plot_between_target_feature = sns.pairplot(\n",
    "    data=non_outlier_data,\n",
    "    y_vars=['G3'],\n",
    "    x_vars=numeric_columns,\n",
    "    height=3,\n",
    "    kind='scatter'\n",
    "    )"
   ]
  },
  {
   "cell_type": "code",
   "execution_count": 15,
   "metadata": {
    "execution": {
     "iopub.execute_input": "2021-07-20T04:11:24.853459Z",
     "iopub.status.busy": "2021-07-20T04:11:24.852486Z",
     "iopub.status.idle": "2021-07-20T04:11:24.854764Z",
     "shell.execute_reply": "2021-07-20T04:11:24.855199Z",
     "shell.execute_reply.started": "2021-07-20T04:08:49.490740Z"
    },
    "papermill": {
     "duration": 0.05379,
     "end_time": "2021-07-20T04:11:24.855378",
     "exception": false,
     "start_time": "2021-07-20T04:11:24.801588",
     "status": "completed"
    },
    "tags": []
   },
   "outputs": [],
   "source": [
    "final_feature_column = ['G1','G2']\n",
    "target_column = ['G3']\n",
    "final_column = final_feature_column+target_column\n",
    "final_data = non_outlier_data[final_column]"
   ]
  },
  {
   "cell_type": "code",
   "execution_count": 16,
   "metadata": {
    "execution": {
     "iopub.execute_input": "2021-07-20T04:11:24.947683Z",
     "iopub.status.busy": "2021-07-20T04:11:24.946787Z",
     "iopub.status.idle": "2021-07-20T04:11:24.951719Z",
     "shell.execute_reply": "2021-07-20T04:11:24.952143Z",
     "shell.execute_reply.started": "2021-07-20T04:08:49.497440Z"
    },
    "papermill": {
     "duration": 0.052496,
     "end_time": "2021-07-20T04:11:24.952321",
     "exception": false,
     "start_time": "2021-07-20T04:11:24.899825",
     "status": "completed"
    },
    "tags": []
   },
   "outputs": [
    {
     "data": {
      "text/plain": [
       "(232, 3)"
      ]
     },
     "execution_count": 16,
     "metadata": {},
     "output_type": "execute_result"
    }
   ],
   "source": [
    "final_data.shape"
   ]
  },
  {
   "cell_type": "code",
   "execution_count": 17,
   "metadata": {
    "execution": {
     "iopub.execute_input": "2021-07-20T04:11:25.045497Z",
     "iopub.status.busy": "2021-07-20T04:11:25.044609Z",
     "iopub.status.idle": "2021-07-20T04:11:25.054582Z",
     "shell.execute_reply": "2021-07-20T04:11:25.054043Z",
     "shell.execute_reply.started": "2021-07-20T04:08:49.515108Z"
    },
    "papermill": {
     "duration": 0.058092,
     "end_time": "2021-07-20T04:11:25.054719",
     "exception": false,
     "start_time": "2021-07-20T04:11:24.996627",
     "status": "completed"
    },
    "tags": []
   },
   "outputs": [
    {
     "data": {
      "text/html": [
       "<div>\n",
       "<style scoped>\n",
       "    .dataframe tbody tr th:only-of-type {\n",
       "        vertical-align: middle;\n",
       "    }\n",
       "\n",
       "    .dataframe tbody tr th {\n",
       "        vertical-align: top;\n",
       "    }\n",
       "\n",
       "    .dataframe thead th {\n",
       "        text-align: right;\n",
       "    }\n",
       "</style>\n",
       "<table border=\"1\" class=\"dataframe\">\n",
       "  <thead>\n",
       "    <tr style=\"text-align: right;\">\n",
       "      <th></th>\n",
       "      <th>G1</th>\n",
       "      <th>G2</th>\n",
       "      <th>G3</th>\n",
       "    </tr>\n",
       "  </thead>\n",
       "  <tbody>\n",
       "    <tr>\n",
       "      <th>0</th>\n",
       "      <td>5</td>\n",
       "      <td>6</td>\n",
       "      <td>6</td>\n",
       "    </tr>\n",
       "    <tr>\n",
       "      <th>1</th>\n",
       "      <td>5</td>\n",
       "      <td>5</td>\n",
       "      <td>6</td>\n",
       "    </tr>\n",
       "    <tr>\n",
       "      <th>3</th>\n",
       "      <td>15</td>\n",
       "      <td>14</td>\n",
       "      <td>15</td>\n",
       "    </tr>\n",
       "    <tr>\n",
       "      <th>4</th>\n",
       "      <td>6</td>\n",
       "      <td>10</td>\n",
       "      <td>10</td>\n",
       "    </tr>\n",
       "    <tr>\n",
       "      <th>5</th>\n",
       "      <td>15</td>\n",
       "      <td>15</td>\n",
       "      <td>15</td>\n",
       "    </tr>\n",
       "    <tr>\n",
       "      <th>6</th>\n",
       "      <td>12</td>\n",
       "      <td>12</td>\n",
       "      <td>11</td>\n",
       "    </tr>\n",
       "    <tr>\n",
       "      <th>8</th>\n",
       "      <td>16</td>\n",
       "      <td>18</td>\n",
       "      <td>19</td>\n",
       "    </tr>\n",
       "    <tr>\n",
       "      <th>9</th>\n",
       "      <td>14</td>\n",
       "      <td>15</td>\n",
       "      <td>15</td>\n",
       "    </tr>\n",
       "    <tr>\n",
       "      <th>10</th>\n",
       "      <td>10</td>\n",
       "      <td>8</td>\n",
       "      <td>9</td>\n",
       "    </tr>\n",
       "    <tr>\n",
       "      <th>11</th>\n",
       "      <td>10</td>\n",
       "      <td>12</td>\n",
       "      <td>12</td>\n",
       "    </tr>\n",
       "  </tbody>\n",
       "</table>\n",
       "</div>"
      ],
      "text/plain": [
       "    G1  G2  G3\n",
       "0    5   6   6\n",
       "1    5   5   6\n",
       "3   15  14  15\n",
       "4    6  10  10\n",
       "5   15  15  15\n",
       "6   12  12  11\n",
       "8   16  18  19\n",
       "9   14  15  15\n",
       "10  10   8   9\n",
       "11  10  12  12"
      ]
     },
     "execution_count": 17,
     "metadata": {},
     "output_type": "execute_result"
    }
   ],
   "source": [
    "final_data.head(10)"
   ]
  },
  {
   "cell_type": "code",
   "execution_count": 18,
   "metadata": {
    "execution": {
     "iopub.execute_input": "2021-07-20T04:11:25.151965Z",
     "iopub.status.busy": "2021-07-20T04:11:25.151369Z",
     "iopub.status.idle": "2021-07-20T04:11:25.154482Z",
     "shell.execute_reply": "2021-07-20T04:11:25.153894Z",
     "shell.execute_reply.started": "2021-07-20T04:08:49.531140Z"
    },
    "papermill": {
     "duration": 0.054849,
     "end_time": "2021-07-20T04:11:25.154616",
     "exception": false,
     "start_time": "2021-07-20T04:11:25.099767",
     "status": "completed"
    },
    "tags": []
   },
   "outputs": [],
   "source": [
    "# prepare the data to numpy array\n",
    "final_feature_array = final_data[final_feature_column].to_numpy()\n",
    "target_array = final_data[target_column].to_numpy()"
   ]
  },
  {
   "cell_type": "code",
   "execution_count": 19,
   "metadata": {
    "execution": {
     "iopub.execute_input": "2021-07-20T04:11:25.249880Z",
     "iopub.status.busy": "2021-07-20T04:11:25.248912Z",
     "iopub.status.idle": "2021-07-20T04:11:25.253668Z",
     "shell.execute_reply": "2021-07-20T04:11:25.254577Z",
     "shell.execute_reply.started": "2021-07-20T04:08:49.545815Z"
    },
    "papermill": {
     "duration": 0.05493,
     "end_time": "2021-07-20T04:11:25.254820",
     "exception": false,
     "start_time": "2021-07-20T04:11:25.199890",
     "status": "completed"
    },
    "tags": []
   },
   "outputs": [
    {
     "name": "stdout",
     "output_type": "stream",
     "text": [
      "shape of final feature: (232, 2)\n",
      "shape of target: (232, 1)\n"
     ]
    }
   ],
   "source": [
    "print('shape of final feature:',final_feature_array.shape)\n",
    "print('shape of target:',target_array.shape)"
   ]
  },
  {
   "cell_type": "code",
   "execution_count": 20,
   "metadata": {
    "execution": {
     "iopub.execute_input": "2021-07-20T04:11:25.351787Z",
     "iopub.status.busy": "2021-07-20T04:11:25.351193Z",
     "iopub.status.idle": "2021-07-20T04:11:25.545400Z",
     "shell.execute_reply": "2021-07-20T04:11:25.544732Z",
     "shell.execute_reply.started": "2021-07-20T04:08:49.561894Z"
    },
    "papermill": {
     "duration": 0.243155,
     "end_time": "2021-07-20T04:11:25.545542",
     "exception": false,
     "start_time": "2021-07-20T04:11:25.302387",
     "status": "completed"
    },
    "tags": []
   },
   "outputs": [],
   "source": [
    "import sklearn.model_selection as model_selection\n",
    "# split the data into test and train\n",
    "X_train, X_test, y_train, y_test = model_selection.train_test_split(\n",
    "    final_feature_array,\n",
    "    target_array,\n",
    "    train_size=0.8,\n",
    "    random_state=0\n",
    "    )"
   ]
  },
  {
   "cell_type": "code",
   "execution_count": 21,
   "metadata": {
    "execution": {
     "iopub.execute_input": "2021-07-20T04:11:25.641080Z",
     "iopub.status.busy": "2021-07-20T04:11:25.640499Z",
     "iopub.status.idle": "2021-07-20T04:11:25.644803Z",
     "shell.execute_reply": "2021-07-20T04:11:25.644235Z",
     "shell.execute_reply.started": "2021-07-20T04:08:49.748345Z"
    },
    "papermill": {
     "duration": 0.053976,
     "end_time": "2021-07-20T04:11:25.644934",
     "exception": false,
     "start_time": "2021-07-20T04:11:25.590958",
     "status": "completed"
    },
    "tags": []
   },
   "outputs": [
    {
     "name": "stdout",
     "output_type": "stream",
     "text": [
      "Shape Data X Train:\n",
      "(185, 2)\n",
      "\n",
      "Shape Data X Test:\n",
      "(47, 2)\n",
      "\n",
      "Shape Data y Train:\n",
      "(185, 1)\n",
      "\n",
      "Shape Data y Test:\n",
      "(47, 1)\n"
     ]
    }
   ],
   "source": [
    "# check the shape data\n",
    "print('Shape Data X Train:')\n",
    "print(X_train.shape)\n",
    "print('\\nShape Data X Test:')\n",
    "print(X_test.shape)\n",
    "print('\\nShape Data y Train:')\n",
    "print(y_train.shape)\n",
    "print('\\nShape Data y Test:')\n",
    "print(y_test.shape)"
   ]
  },
  {
   "cell_type": "code",
   "execution_count": 22,
   "metadata": {
    "execution": {
     "iopub.execute_input": "2021-07-20T04:11:25.740489Z",
     "iopub.status.busy": "2021-07-20T04:11:25.739836Z",
     "iopub.status.idle": "2021-07-20T04:11:25.831587Z",
     "shell.execute_reply": "2021-07-20T04:11:25.830937Z",
     "shell.execute_reply.started": "2021-07-20T04:08:49.757260Z"
    },
    "papermill": {
     "duration": 0.14099,
     "end_time": "2021-07-20T04:11:25.831721",
     "exception": false,
     "start_time": "2021-07-20T04:11:25.690731",
     "status": "completed"
    },
    "tags": []
   },
   "outputs": [],
   "source": [
    "import sklearn.linear_model as linear_model\n",
    "regression_model = linear_model.LinearRegression()"
   ]
  },
  {
   "cell_type": "code",
   "execution_count": 23,
   "metadata": {
    "execution": {
     "iopub.execute_input": "2021-07-20T04:11:25.927368Z",
     "iopub.status.busy": "2021-07-20T04:11:25.926744Z",
     "iopub.status.idle": "2021-07-20T04:11:26.158311Z",
     "shell.execute_reply": "2021-07-20T04:11:26.157772Z",
     "shell.execute_reply.started": "2021-07-20T04:08:49.844056Z"
    },
    "papermill": {
     "duration": 0.279706,
     "end_time": "2021-07-20T04:11:26.158452",
     "exception": false,
     "start_time": "2021-07-20T04:11:25.878746",
     "status": "completed"
    },
    "tags": []
   },
   "outputs": [
    {
     "data": {
      "text/plain": [
       "LinearRegression()"
      ]
     },
     "execution_count": 23,
     "metadata": {},
     "output_type": "execute_result"
    }
   ],
   "source": [
    "# train the data\n",
    "regression_model.fit(X_train, y_train)"
   ]
  },
  {
   "cell_type": "code",
   "execution_count": 24,
   "metadata": {
    "execution": {
     "iopub.execute_input": "2021-07-20T04:11:26.257771Z",
     "iopub.status.busy": "2021-07-20T04:11:26.256917Z",
     "iopub.status.idle": "2021-07-20T04:11:26.261038Z",
     "shell.execute_reply": "2021-07-20T04:11:26.261551Z",
     "shell.execute_reply.started": "2021-07-20T04:08:50.009569Z"
    },
    "papermill": {
     "duration": 0.056076,
     "end_time": "2021-07-20T04:11:26.261722",
     "exception": false,
     "start_time": "2021-07-20T04:11:26.205646",
     "status": "completed"
    },
    "tags": []
   },
   "outputs": [
    {
     "name": "stdout",
     "output_type": "stream",
     "text": [
      "Coefficients:\n",
      " [[0.04993185 0.99253691]]\n",
      "Intercept: [-0.43815522]\n"
     ]
    }
   ],
   "source": [
    "# model result\n",
    "print('Coefficients:\\n',regression_model.coef_)\n",
    "# print('\\n')\n",
    "print('Intercept:',regression_model.intercept_)"
   ]
  },
  {
   "cell_type": "code",
   "execution_count": 25,
   "metadata": {
    "execution": {
     "iopub.execute_input": "2021-07-20T04:11:26.363706Z",
     "iopub.status.busy": "2021-07-20T04:11:26.363008Z",
     "iopub.status.idle": "2021-07-20T04:11:26.366130Z",
     "shell.execute_reply": "2021-07-20T04:11:26.365684Z",
     "shell.execute_reply.started": "2021-07-20T04:08:50.017327Z"
    },
    "papermill": {
     "duration": 0.056142,
     "end_time": "2021-07-20T04:11:26.366294",
     "exception": false,
     "start_time": "2021-07-20T04:11:26.310152",
     "status": "completed"
    },
    "tags": []
   },
   "outputs": [],
   "source": [
    "# predict the X using trained model\n",
    "y_train_pred = regression_model.predict(X_train)\n",
    "y_test_pred = regression_model.predict(X_test)\n",
    "target_array_pred = regression_model.predict(final_feature_array)"
   ]
  },
  {
   "cell_type": "code",
   "execution_count": 26,
   "metadata": {
    "execution": {
     "iopub.execute_input": "2021-07-20T04:11:26.464742Z",
     "iopub.status.busy": "2021-07-20T04:11:26.464106Z",
     "iopub.status.idle": "2021-07-20T04:11:26.467357Z",
     "shell.execute_reply": "2021-07-20T04:11:26.467874Z",
     "shell.execute_reply.started": "2021-07-20T04:08:50.028160Z"
    },
    "papermill": {
     "duration": 0.055501,
     "end_time": "2021-07-20T04:11:26.468040",
     "exception": false,
     "start_time": "2021-07-20T04:11:26.412539",
     "status": "completed"
    },
    "tags": []
   },
   "outputs": [
    {
     "name": "stdout",
     "output_type": "stream",
     "text": [
      "Real Data\n",
      "[[16]\n",
      " [18]\n",
      " [10]\n",
      " [10]\n",
      " [11]]\n",
      "\n",
      " Predicted Data\n",
      "[[15.19887623]\n",
      " [18.37621437]\n",
      " [ 9.88666871]\n",
      " [ 8.8941318 ]\n",
      " [11.12886488]]\n"
     ]
    }
   ],
   "source": [
    "# check the raw prediction data & compare with real data\n",
    "print('Real Data')\n",
    "print(y_train[:5])\n",
    "print('\\n Predicted Data')\n",
    "print(y_train_pred[:5])"
   ]
  },
  {
   "cell_type": "code",
   "execution_count": 27,
   "metadata": {
    "execution": {
     "iopub.execute_input": "2021-07-20T04:11:26.572542Z",
     "iopub.status.busy": "2021-07-20T04:11:26.571953Z",
     "iopub.status.idle": "2021-07-20T04:11:26.576133Z",
     "shell.execute_reply": "2021-07-20T04:11:26.575639Z",
     "shell.execute_reply.started": "2021-07-20T04:08:50.043979Z"
    },
    "papermill": {
     "duration": 0.060828,
     "end_time": "2021-07-20T04:11:26.576285",
     "exception": false,
     "start_time": "2021-07-20T04:11:26.515457",
     "status": "completed"
    },
    "tags": []
   },
   "outputs": [
    {
     "data": {
      "text/html": [
       "<div>\n",
       "<style scoped>\n",
       "    .dataframe tbody tr th:only-of-type {\n",
       "        vertical-align: middle;\n",
       "    }\n",
       "\n",
       "    .dataframe tbody tr th {\n",
       "        vertical-align: top;\n",
       "    }\n",
       "\n",
       "    .dataframe thead th {\n",
       "        text-align: right;\n",
       "    }\n",
       "</style>\n",
       "<table border=\"1\" class=\"dataframe\">\n",
       "  <thead>\n",
       "    <tr style=\"text-align: right;\">\n",
       "      <th></th>\n",
       "      <th>G1</th>\n",
       "      <th>G2</th>\n",
       "      <th>G3</th>\n",
       "    </tr>\n",
       "  </thead>\n",
       "  <tbody>\n",
       "    <tr>\n",
       "      <th>0</th>\n",
       "      <td>5</td>\n",
       "      <td>6</td>\n",
       "      <td>5.766726</td>\n",
       "    </tr>\n",
       "    <tr>\n",
       "      <th>1</th>\n",
       "      <td>5</td>\n",
       "      <td>5</td>\n",
       "      <td>4.774189</td>\n",
       "    </tr>\n",
       "    <tr>\n",
       "      <th>3</th>\n",
       "      <td>15</td>\n",
       "      <td>14</td>\n",
       "      <td>14.206339</td>\n",
       "    </tr>\n",
       "    <tr>\n",
       "      <th>4</th>\n",
       "      <td>6</td>\n",
       "      <td>10</td>\n",
       "      <td>9.786805</td>\n",
       "    </tr>\n",
       "    <tr>\n",
       "      <th>5</th>\n",
       "      <td>15</td>\n",
       "      <td>15</td>\n",
       "      <td>15.198876</td>\n",
       "    </tr>\n",
       "  </tbody>\n",
       "</table>\n",
       "</div>"
      ],
      "text/plain": [
       "   G1  G2         G3\n",
       "0   5   6   5.766726\n",
       "1   5   5   4.774189\n",
       "3  15  14  14.206339\n",
       "4   6  10   9.786805\n",
       "5  15  15  15.198876"
      ]
     },
     "execution_count": 27,
     "metadata": {},
     "output_type": "execute_result"
    }
   ],
   "source": [
    "# check the data in the form of dataframe\n",
    "final_with_pred_data = final_data.copy()\n",
    "final_with_pred_data['G3'] = target_array_pred.reshape(-1,)\n",
    "final_with_pred_data.head(5)"
   ]
  },
  {
   "cell_type": "code",
   "execution_count": 28,
   "metadata": {
    "execution": {
     "iopub.execute_input": "2021-07-20T04:11:26.676526Z",
     "iopub.status.busy": "2021-07-20T04:11:26.675896Z",
     "iopub.status.idle": "2021-07-20T04:11:26.678464Z",
     "shell.execute_reply": "2021-07-20T04:11:26.678895Z",
     "shell.execute_reply.started": "2021-07-20T04:08:50.058808Z"
    },
    "papermill": {
     "duration": 0.055582,
     "end_time": "2021-07-20T04:11:26.679054",
     "exception": false,
     "start_time": "2021-07-20T04:11:26.623472",
     "status": "completed"
    },
    "tags": []
   },
   "outputs": [
    {
     "name": "stdout",
     "output_type": "stream",
     "text": [
      "RMSE Training Data: 1.2477881806787772\n",
      "RMSE Test Data: 1.989689866631723\n"
     ]
    }
   ],
   "source": [
    "# evaluate regression model - RMSE\n",
    "from sklearn.metrics import mean_squared_error\n",
    "rmse_training = mean_squared_error(y_true=y_train,y_pred=y_train_pred,squared=False)\n",
    "rmse_test = mean_squared_error(y_true=y_test,y_pred=y_test_pred,squared=False)\n",
    "\n",
    "print('RMSE Training Data: {}'.format(rmse_training))\n",
    "print('RMSE Test Data: {}'.format(rmse_test))"
   ]
  },
  {
   "cell_type": "code",
   "execution_count": 29,
   "metadata": {
    "execution": {
     "iopub.execute_input": "2021-07-20T04:11:26.776232Z",
     "iopub.status.busy": "2021-07-20T04:11:26.775637Z",
     "iopub.status.idle": "2021-07-20T04:11:26.779972Z",
     "shell.execute_reply": "2021-07-20T04:11:26.780650Z",
     "shell.execute_reply.started": "2021-07-20T04:08:50.067144Z"
    },
    "papermill": {
     "duration": 0.054547,
     "end_time": "2021-07-20T04:11:26.780865",
     "exception": false,
     "start_time": "2021-07-20T04:11:26.726318",
     "status": "completed"
    },
    "tags": []
   },
   "outputs": [
    {
     "name": "stdout",
     "output_type": "stream",
     "text": [
      "R^2 score: 0.8737413075631311\n"
     ]
    }
   ],
   "source": [
    "# evaluate regression model - R squared\n",
    "print('R^2 score:',regression_model.score(X_train, y_train))"
   ]
  },
  {
   "cell_type": "code",
   "execution_count": 30,
   "metadata": {
    "execution": {
     "iopub.execute_input": "2021-07-20T04:11:26.881563Z",
     "iopub.status.busy": "2021-07-20T04:11:26.880935Z",
     "iopub.status.idle": "2021-07-20T04:11:26.886949Z",
     "shell.execute_reply": "2021-07-20T04:11:26.887395Z",
     "shell.execute_reply.started": "2021-07-20T04:08:50.077948Z"
    },
    "papermill": {
     "duration": 0.057456,
     "end_time": "2021-07-20T04:11:26.887572",
     "exception": false,
     "start_time": "2021-07-20T04:11:26.830116",
     "status": "completed"
    },
    "tags": []
   },
   "outputs": [
    {
     "name": "stdout",
     "output_type": "stream",
     "text": [
      "Shapiro-Wilk test ---- statistic: 0.6510142087936401, p-value: 1.502751297287303e-21\n",
      "Kolmogorov-Smirnov test ---- statistic: 1.0, p-value: 0.0\n"
     ]
    }
   ],
   "source": [
    "from scipy import stats\n",
    "residual = (abs(target_array) - abs(target_array_pred))\n",
    "sw = stats.shapiro(residual)\n",
    "ks = stats.kstest(residual, 'norm')\n",
    "\n",
    "print('Shapiro-Wilk test ---- statistic: {}, p-value: {}'.format(sw[0],sw[1]))\n",
    "print('Kolmogorov-Smirnov test ---- statistic: {}, p-value: {}'.format(ks.statistic,ks.pvalue))"
   ]
  },
  {
   "cell_type": "code",
   "execution_count": 31,
   "metadata": {
    "execution": {
     "iopub.execute_input": "2021-07-20T04:11:26.986295Z",
     "iopub.status.busy": "2021-07-20T04:11:26.985678Z",
     "iopub.status.idle": "2021-07-20T04:11:27.896641Z",
     "shell.execute_reply": "2021-07-20T04:11:27.896029Z",
     "shell.execute_reply.started": "2021-07-20T04:08:50.091259Z"
    },
    "papermill": {
     "duration": 0.961416,
     "end_time": "2021-07-20T04:11:27.896788",
     "exception": false,
     "start_time": "2021-07-20T04:11:26.935372",
     "status": "completed"
    },
    "tags": []
   },
   "outputs": [
    {
     "name": "stdout",
     "output_type": "stream",
     "text": [
      "                                 OLS Regression Results                                \n",
      "=======================================================================================\n",
      "Dep. Variable:                      y   R-squared (uncentered):                   0.990\n",
      "Model:                            OLS   Adj. R-squared (uncentered):              0.990\n",
      "Method:                 Least Squares   F-statistic:                              8723.\n",
      "Date:                Tue, 20 Jul 2021   Prob (F-statistic):                   3.06e-182\n",
      "Time:                        04:11:27   Log-Likelihood:                         -304.20\n",
      "No. Observations:                 185   AIC:                                      612.4\n",
      "Df Residuals:                     183   BIC:                                      618.8\n",
      "Df Model:                           2                                                  \n",
      "Covariance Type:            nonrobust                                                  \n",
      "==============================================================================\n",
      "                 coef    std err          t      P>|t|      [0.025      0.975]\n",
      "------------------------------------------------------------------------------\n",
      "x1             0.0332      0.069      0.479      0.632      -0.103       0.170\n",
      "x2             0.9742      0.069     14.211      0.000       0.839       1.109\n",
      "==============================================================================\n",
      "Omnibus:                      165.987   Durbin-Watson:                   2.033\n",
      "Prob(Omnibus):                  0.000   Jarque-Bera (JB):             3091.644\n",
      "Skew:                          -3.306   Prob(JB):                         0.00\n",
      "Kurtosis:                      21.904   Cond. No.                         17.9\n",
      "==============================================================================\n",
      "\n",
      "Notes:\n",
      "[1] R² is computed without centering (uncentered) since the model does not contain a constant.\n",
      "[2] Standard Errors assume that the covariance matrix of the errors is correctly specified.\n"
     ]
    }
   ],
   "source": [
    "import statsmodels.api as sm\n",
    "model = sm.OLS(y_train,X_train)\n",
    "results = model.fit()\n",
    "print(results.summary())"
   ]
  },
  {
   "cell_type": "markdown",
   "metadata": {
    "papermill": {
     "duration": 0.047991,
     "end_time": "2021-07-20T04:11:27.994088",
     "exception": false,
     "start_time": "2021-07-20T04:11:27.946097",
     "status": "completed"
    },
    "tags": []
   },
   "source": [
    "# **Classification**"
   ]
  },
  {
   "cell_type": "code",
   "execution_count": 32,
   "metadata": {
    "execution": {
     "iopub.execute_input": "2021-07-20T04:11:28.116389Z",
     "iopub.status.busy": "2021-07-20T04:11:28.115741Z",
     "iopub.status.idle": "2021-07-20T04:11:28.119781Z",
     "shell.execute_reply": "2021-07-20T04:11:28.120279Z",
     "shell.execute_reply.started": "2021-07-20T04:08:50.971262Z"
    },
    "papermill": {
     "duration": 0.075503,
     "end_time": "2021-07-20T04:11:28.120455",
     "exception": false,
     "start_time": "2021-07-20T04:11:28.044952",
     "status": "completed"
    },
    "tags": []
   },
   "outputs": [
    {
     "data": {
      "text/html": [
       "<div>\n",
       "<style scoped>\n",
       "    .dataframe tbody tr th:only-of-type {\n",
       "        vertical-align: middle;\n",
       "    }\n",
       "\n",
       "    .dataframe tbody tr th {\n",
       "        vertical-align: top;\n",
       "    }\n",
       "\n",
       "    .dataframe thead th {\n",
       "        text-align: right;\n",
       "    }\n",
       "</style>\n",
       "<table border=\"1\" class=\"dataframe\">\n",
       "  <thead>\n",
       "    <tr style=\"text-align: right;\">\n",
       "      <th></th>\n",
       "      <th>school</th>\n",
       "      <th>sex</th>\n",
       "      <th>age</th>\n",
       "      <th>address</th>\n",
       "      <th>famsize</th>\n",
       "      <th>Pstatus</th>\n",
       "      <th>Medu</th>\n",
       "      <th>Fedu</th>\n",
       "      <th>Mjob</th>\n",
       "      <th>Fjob</th>\n",
       "      <th>...</th>\n",
       "      <th>famrel</th>\n",
       "      <th>freetime</th>\n",
       "      <th>goout</th>\n",
       "      <th>Dalc</th>\n",
       "      <th>Walc</th>\n",
       "      <th>health</th>\n",
       "      <th>absences</th>\n",
       "      <th>G1</th>\n",
       "      <th>G2</th>\n",
       "      <th>G3</th>\n",
       "    </tr>\n",
       "  </thead>\n",
       "  <tbody>\n",
       "    <tr>\n",
       "      <th>0</th>\n",
       "      <td>GP</td>\n",
       "      <td>F</td>\n",
       "      <td>18</td>\n",
       "      <td>U</td>\n",
       "      <td>GT3</td>\n",
       "      <td>A</td>\n",
       "      <td>4</td>\n",
       "      <td>4</td>\n",
       "      <td>at_home</td>\n",
       "      <td>teacher</td>\n",
       "      <td>...</td>\n",
       "      <td>4</td>\n",
       "      <td>3</td>\n",
       "      <td>4</td>\n",
       "      <td>1</td>\n",
       "      <td>1</td>\n",
       "      <td>3</td>\n",
       "      <td>6</td>\n",
       "      <td>5</td>\n",
       "      <td>6</td>\n",
       "      <td>6</td>\n",
       "    </tr>\n",
       "    <tr>\n",
       "      <th>1</th>\n",
       "      <td>GP</td>\n",
       "      <td>F</td>\n",
       "      <td>17</td>\n",
       "      <td>U</td>\n",
       "      <td>GT3</td>\n",
       "      <td>T</td>\n",
       "      <td>1</td>\n",
       "      <td>1</td>\n",
       "      <td>at_home</td>\n",
       "      <td>other</td>\n",
       "      <td>...</td>\n",
       "      <td>5</td>\n",
       "      <td>3</td>\n",
       "      <td>3</td>\n",
       "      <td>1</td>\n",
       "      <td>1</td>\n",
       "      <td>3</td>\n",
       "      <td>4</td>\n",
       "      <td>5</td>\n",
       "      <td>5</td>\n",
       "      <td>6</td>\n",
       "    </tr>\n",
       "    <tr>\n",
       "      <th>3</th>\n",
       "      <td>GP</td>\n",
       "      <td>F</td>\n",
       "      <td>15</td>\n",
       "      <td>U</td>\n",
       "      <td>GT3</td>\n",
       "      <td>T</td>\n",
       "      <td>4</td>\n",
       "      <td>2</td>\n",
       "      <td>health</td>\n",
       "      <td>services</td>\n",
       "      <td>...</td>\n",
       "      <td>3</td>\n",
       "      <td>2</td>\n",
       "      <td>2</td>\n",
       "      <td>1</td>\n",
       "      <td>1</td>\n",
       "      <td>5</td>\n",
       "      <td>2</td>\n",
       "      <td>15</td>\n",
       "      <td>14</td>\n",
       "      <td>15</td>\n",
       "    </tr>\n",
       "    <tr>\n",
       "      <th>4</th>\n",
       "      <td>GP</td>\n",
       "      <td>F</td>\n",
       "      <td>16</td>\n",
       "      <td>U</td>\n",
       "      <td>GT3</td>\n",
       "      <td>T</td>\n",
       "      <td>3</td>\n",
       "      <td>3</td>\n",
       "      <td>other</td>\n",
       "      <td>other</td>\n",
       "      <td>...</td>\n",
       "      <td>4</td>\n",
       "      <td>3</td>\n",
       "      <td>2</td>\n",
       "      <td>1</td>\n",
       "      <td>2</td>\n",
       "      <td>5</td>\n",
       "      <td>4</td>\n",
       "      <td>6</td>\n",
       "      <td>10</td>\n",
       "      <td>10</td>\n",
       "    </tr>\n",
       "    <tr>\n",
       "      <th>5</th>\n",
       "      <td>GP</td>\n",
       "      <td>M</td>\n",
       "      <td>16</td>\n",
       "      <td>U</td>\n",
       "      <td>LE3</td>\n",
       "      <td>T</td>\n",
       "      <td>4</td>\n",
       "      <td>3</td>\n",
       "      <td>services</td>\n",
       "      <td>other</td>\n",
       "      <td>...</td>\n",
       "      <td>5</td>\n",
       "      <td>4</td>\n",
       "      <td>2</td>\n",
       "      <td>1</td>\n",
       "      <td>2</td>\n",
       "      <td>5</td>\n",
       "      <td>10</td>\n",
       "      <td>15</td>\n",
       "      <td>15</td>\n",
       "      <td>15</td>\n",
       "    </tr>\n",
       "  </tbody>\n",
       "</table>\n",
       "<p>5 rows × 33 columns</p>\n",
       "</div>"
      ],
      "text/plain": [
       "  school sex  age address famsize Pstatus  Medu  Fedu      Mjob      Fjob  \\\n",
       "0     GP   F   18       U     GT3       A     4     4   at_home   teacher   \n",
       "1     GP   F   17       U     GT3       T     1     1   at_home     other   \n",
       "3     GP   F   15       U     GT3       T     4     2    health  services   \n",
       "4     GP   F   16       U     GT3       T     3     3     other     other   \n",
       "5     GP   M   16       U     LE3       T     4     3  services     other   \n",
       "\n",
       "   ... famrel freetime  goout  Dalc  Walc health absences  G1  G2  G3  \n",
       "0  ...      4        3      4     1     1      3        6   5   6   6  \n",
       "1  ...      5        3      3     1     1      3        4   5   5   6  \n",
       "3  ...      3        2      2     1     1      5        2  15  14  15  \n",
       "4  ...      4        3      2     1     2      5        4   6  10  10  \n",
       "5  ...      5        4      2     1     2      5       10  15  15  15  \n",
       "\n",
       "[5 rows x 33 columns]"
      ]
     },
     "execution_count": 32,
     "metadata": {},
     "output_type": "execute_result"
    }
   ],
   "source": [
    "non_outlier_data.head()"
   ]
  },
  {
   "cell_type": "code",
   "execution_count": 33,
   "metadata": {
    "execution": {
     "iopub.execute_input": "2021-07-20T04:11:28.245636Z",
     "iopub.status.busy": "2021-07-20T04:11:28.235509Z",
     "iopub.status.idle": "2021-07-20T04:11:28.250450Z",
     "shell.execute_reply": "2021-07-20T04:11:28.249949Z",
     "shell.execute_reply.started": "2021-07-20T04:08:50.998149Z"
    },
    "papermill": {
     "duration": 0.080377,
     "end_time": "2021-07-20T04:11:28.250589",
     "exception": false,
     "start_time": "2021-07-20T04:11:28.170212",
     "status": "completed"
    },
    "tags": []
   },
   "outputs": [
    {
     "data": {
      "text/html": [
       "<div>\n",
       "<style scoped>\n",
       "    .dataframe tbody tr th:only-of-type {\n",
       "        vertical-align: middle;\n",
       "    }\n",
       "\n",
       "    .dataframe tbody tr th {\n",
       "        vertical-align: top;\n",
       "    }\n",
       "\n",
       "    .dataframe thead th {\n",
       "        text-align: right;\n",
       "    }\n",
       "</style>\n",
       "<table border=\"1\" class=\"dataframe\">\n",
       "  <thead>\n",
       "    <tr style=\"text-align: right;\">\n",
       "      <th></th>\n",
       "      <th>school</th>\n",
       "      <th>sex</th>\n",
       "      <th>age</th>\n",
       "      <th>address</th>\n",
       "      <th>famsize</th>\n",
       "      <th>Pstatus</th>\n",
       "      <th>Medu</th>\n",
       "      <th>Fedu</th>\n",
       "      <th>Mjob</th>\n",
       "      <th>Fjob</th>\n",
       "      <th>...</th>\n",
       "      <th>internet</th>\n",
       "      <th>romantic</th>\n",
       "      <th>famrel</th>\n",
       "      <th>freetime</th>\n",
       "      <th>goout</th>\n",
       "      <th>Dalc</th>\n",
       "      <th>Walc</th>\n",
       "      <th>health</th>\n",
       "      <th>absences</th>\n",
       "      <th>avg_score</th>\n",
       "    </tr>\n",
       "  </thead>\n",
       "  <tbody>\n",
       "    <tr>\n",
       "      <th>0</th>\n",
       "      <td>GP</td>\n",
       "      <td>F</td>\n",
       "      <td>18</td>\n",
       "      <td>U</td>\n",
       "      <td>GT3</td>\n",
       "      <td>A</td>\n",
       "      <td>4</td>\n",
       "      <td>4</td>\n",
       "      <td>at_home</td>\n",
       "      <td>teacher</td>\n",
       "      <td>...</td>\n",
       "      <td>no</td>\n",
       "      <td>no</td>\n",
       "      <td>4</td>\n",
       "      <td>3</td>\n",
       "      <td>4</td>\n",
       "      <td>1</td>\n",
       "      <td>1</td>\n",
       "      <td>3</td>\n",
       "      <td>6</td>\n",
       "      <td>5.666667</td>\n",
       "    </tr>\n",
       "    <tr>\n",
       "      <th>1</th>\n",
       "      <td>GP</td>\n",
       "      <td>F</td>\n",
       "      <td>17</td>\n",
       "      <td>U</td>\n",
       "      <td>GT3</td>\n",
       "      <td>T</td>\n",
       "      <td>1</td>\n",
       "      <td>1</td>\n",
       "      <td>at_home</td>\n",
       "      <td>other</td>\n",
       "      <td>...</td>\n",
       "      <td>yes</td>\n",
       "      <td>no</td>\n",
       "      <td>5</td>\n",
       "      <td>3</td>\n",
       "      <td>3</td>\n",
       "      <td>1</td>\n",
       "      <td>1</td>\n",
       "      <td>3</td>\n",
       "      <td>4</td>\n",
       "      <td>5.333333</td>\n",
       "    </tr>\n",
       "    <tr>\n",
       "      <th>3</th>\n",
       "      <td>GP</td>\n",
       "      <td>F</td>\n",
       "      <td>15</td>\n",
       "      <td>U</td>\n",
       "      <td>GT3</td>\n",
       "      <td>T</td>\n",
       "      <td>4</td>\n",
       "      <td>2</td>\n",
       "      <td>health</td>\n",
       "      <td>services</td>\n",
       "      <td>...</td>\n",
       "      <td>yes</td>\n",
       "      <td>yes</td>\n",
       "      <td>3</td>\n",
       "      <td>2</td>\n",
       "      <td>2</td>\n",
       "      <td>1</td>\n",
       "      <td>1</td>\n",
       "      <td>5</td>\n",
       "      <td>2</td>\n",
       "      <td>14.666667</td>\n",
       "    </tr>\n",
       "    <tr>\n",
       "      <th>4</th>\n",
       "      <td>GP</td>\n",
       "      <td>F</td>\n",
       "      <td>16</td>\n",
       "      <td>U</td>\n",
       "      <td>GT3</td>\n",
       "      <td>T</td>\n",
       "      <td>3</td>\n",
       "      <td>3</td>\n",
       "      <td>other</td>\n",
       "      <td>other</td>\n",
       "      <td>...</td>\n",
       "      <td>no</td>\n",
       "      <td>no</td>\n",
       "      <td>4</td>\n",
       "      <td>3</td>\n",
       "      <td>2</td>\n",
       "      <td>1</td>\n",
       "      <td>2</td>\n",
       "      <td>5</td>\n",
       "      <td>4</td>\n",
       "      <td>8.666667</td>\n",
       "    </tr>\n",
       "    <tr>\n",
       "      <th>5</th>\n",
       "      <td>GP</td>\n",
       "      <td>M</td>\n",
       "      <td>16</td>\n",
       "      <td>U</td>\n",
       "      <td>LE3</td>\n",
       "      <td>T</td>\n",
       "      <td>4</td>\n",
       "      <td>3</td>\n",
       "      <td>services</td>\n",
       "      <td>other</td>\n",
       "      <td>...</td>\n",
       "      <td>yes</td>\n",
       "      <td>no</td>\n",
       "      <td>5</td>\n",
       "      <td>4</td>\n",
       "      <td>2</td>\n",
       "      <td>1</td>\n",
       "      <td>2</td>\n",
       "      <td>5</td>\n",
       "      <td>10</td>\n",
       "      <td>15.000000</td>\n",
       "    </tr>\n",
       "  </tbody>\n",
       "</table>\n",
       "<p>5 rows × 31 columns</p>\n",
       "</div>"
      ],
      "text/plain": [
       "  school sex  age address famsize Pstatus  Medu  Fedu      Mjob      Fjob  \\\n",
       "0     GP   F   18       U     GT3       A     4     4   at_home   teacher   \n",
       "1     GP   F   17       U     GT3       T     1     1   at_home     other   \n",
       "3     GP   F   15       U     GT3       T     4     2    health  services   \n",
       "4     GP   F   16       U     GT3       T     3     3     other     other   \n",
       "5     GP   M   16       U     LE3       T     4     3  services     other   \n",
       "\n",
       "   ... internet romantic  famrel  freetime  goout Dalc Walc health absences  \\\n",
       "0  ...       no       no       4         3      4    1    1      3        6   \n",
       "1  ...      yes       no       5         3      3    1    1      3        4   \n",
       "3  ...      yes      yes       3         2      2    1    1      5        2   \n",
       "4  ...       no       no       4         3      2    1    2      5        4   \n",
       "5  ...      yes       no       5         4      2    1    2      5       10   \n",
       "\n",
       "   avg_score  \n",
       "0   5.666667  \n",
       "1   5.333333  \n",
       "3  14.666667  \n",
       "4   8.666667  \n",
       "5  15.000000  \n",
       "\n",
       "[5 rows x 31 columns]"
      ]
     },
     "execution_count": 33,
     "metadata": {},
     "output_type": "execute_result"
    }
   ],
   "source": [
    "non_outlier_data['avg_score'] = non_outlier_data[['G1', 'G2','G3']].mean(axis=1)\n",
    "non_outlier_data.drop(['G1', 'G2','G3'], axis=1,inplace=True)\n",
    "non_outlier_data.head()"
   ]
  },
  {
   "cell_type": "code",
   "execution_count": 34,
   "metadata": {
    "execution": {
     "iopub.execute_input": "2021-07-20T04:11:28.366355Z",
     "iopub.status.busy": "2021-07-20T04:11:28.365715Z",
     "iopub.status.idle": "2021-07-20T04:11:28.369034Z",
     "shell.execute_reply": "2021-07-20T04:11:28.368140Z",
     "shell.execute_reply.started": "2021-07-20T04:08:51.029362Z"
    },
    "papermill": {
     "duration": 0.06964,
     "end_time": "2021-07-20T04:11:28.369180",
     "exception": false,
     "start_time": "2021-07-20T04:11:28.299540",
     "status": "completed"
    },
    "tags": []
   },
   "outputs": [],
   "source": [
    "numeric_columns=non_outlier_data.loc[:, non_outlier_data.columns != 'avg_score'].select_dtypes(include=np.number).columns.tolist()"
   ]
  },
  {
   "cell_type": "code",
   "execution_count": 35,
   "metadata": {
    "execution": {
     "iopub.execute_input": "2021-07-20T04:11:28.475625Z",
     "iopub.status.busy": "2021-07-20T04:11:28.474944Z",
     "iopub.status.idle": "2021-07-20T04:11:29.502922Z",
     "shell.execute_reply": "2021-07-20T04:11:29.503403Z",
     "shell.execute_reply.started": "2021-07-20T04:08:51.041608Z"
    },
    "papermill": {
     "duration": 1.084831,
     "end_time": "2021-07-20T04:11:29.503576",
     "exception": false,
     "start_time": "2021-07-20T04:11:28.418745",
     "status": "completed"
    },
    "tags": []
   },
   "outputs": [
    {
     "data": {
      "text/plain": [
       "<AxesSubplot:>"
      ]
     },
     "execution_count": 35,
     "metadata": {},
     "output_type": "execute_result"
    },
    {
     "data": {
      "image/png": "[encoded data removed]",
      "text/plain": [
       "<Figure size 2880x2880 with 2 Axes>"
      ]
     },
     "metadata": {
      "needs_background": "light"
     },
     "output_type": "display_data"
    }
   ],
   "source": [
    "# check correlation between column\n",
    "correlation_between_column = non_outlier_data[numeric_columns].corr()\n",
    "upper_triangle_corr = np.triu(correlation_between_column)\n",
    "\n",
    "fig, ax = plt.subplots(figsize=(40,40))\n",
    "sns.heatmap(correlation_between_column, annot = True, cmap=\"YlGnBu\",ax=ax,annot_kws={\"size\":15},mask=upper_triangle_corr)"
   ]
  },
  {
   "cell_type": "code",
   "execution_count": 36,
   "metadata": {
    "execution": {
     "iopub.execute_input": "2021-07-20T04:11:29.617521Z",
     "iopub.status.busy": "2021-07-20T04:11:29.614976Z",
     "iopub.status.idle": "2021-07-20T04:11:29.627503Z",
     "shell.execute_reply": "2021-07-20T04:11:29.626882Z",
     "shell.execute_reply.started": "2021-07-20T04:08:52.119801Z"
    },
    "papermill": {
     "duration": 0.070766,
     "end_time": "2021-07-20T04:11:29.627638",
     "exception": false,
     "start_time": "2021-07-20T04:11:29.556872",
     "status": "completed"
    },
    "tags": []
   },
   "outputs": [],
   "source": [
    "from sklearn.preprocessing import LabelEncoder, LabelBinarizer\n",
    "binary_cols = []\n",
    "\n",
    "for col in non_outlier_data.columns:\n",
    "    if non_outlier_data[col].nunique()==2:\n",
    "        binary_cols.append(col)"
   ]
  },
  {
   "cell_type": "code",
   "execution_count": 37,
   "metadata": {
    "execution": {
     "iopub.execute_input": "2021-07-20T04:11:29.739935Z",
     "iopub.status.busy": "2021-07-20T04:11:29.739099Z",
     "iopub.status.idle": "2021-07-20T04:11:29.758404Z",
     "shell.execute_reply": "2021-07-20T04:11:29.757829Z",
     "shell.execute_reply.started": "2021-07-20T04:08:52.138011Z"
    },
    "papermill": {
     "duration": 0.077932,
     "end_time": "2021-07-20T04:11:29.758538",
     "exception": false,
     "start_time": "2021-07-20T04:11:29.680606",
     "status": "completed"
    },
    "tags": []
   },
   "outputs": [],
   "source": [
    "for i in binary_cols:\n",
    "    non_outlier_data[i] = LabelBinarizer().fit_transform(non_outlier_data[i])"
   ]
  },
  {
   "cell_type": "code",
   "execution_count": 38,
   "metadata": {
    "execution": {
     "iopub.execute_input": "2021-07-20T04:11:29.882444Z",
     "iopub.status.busy": "2021-07-20T04:11:29.871184Z",
     "iopub.status.idle": "2021-07-20T04:11:29.887122Z",
     "shell.execute_reply": "2021-07-20T04:11:29.886548Z",
     "shell.execute_reply.started": "2021-07-20T04:08:52.167266Z"
    },
    "papermill": {
     "duration": 0.075382,
     "end_time": "2021-07-20T04:11:29.887281",
     "exception": false,
     "start_time": "2021-07-20T04:11:29.811899",
     "status": "completed"
    },
    "tags": []
   },
   "outputs": [
    {
     "data": {
      "text/html": [
       "<div>\n",
       "<style scoped>\n",
       "    .dataframe tbody tr th:only-of-type {\n",
       "        vertical-align: middle;\n",
       "    }\n",
       "\n",
       "    .dataframe tbody tr th {\n",
       "        vertical-align: top;\n",
       "    }\n",
       "\n",
       "    .dataframe thead th {\n",
       "        text-align: right;\n",
       "    }\n",
       "</style>\n",
       "<table border=\"1\" class=\"dataframe\">\n",
       "  <thead>\n",
       "    <tr style=\"text-align: right;\">\n",
       "      <th></th>\n",
       "      <th>0</th>\n",
       "      <th>1</th>\n",
       "      <th>3</th>\n",
       "      <th>4</th>\n",
       "      <th>5</th>\n",
       "    </tr>\n",
       "  </thead>\n",
       "  <tbody>\n",
       "    <tr>\n",
       "      <th>school</th>\n",
       "      <td>0</td>\n",
       "      <td>0</td>\n",
       "      <td>0</td>\n",
       "      <td>0</td>\n",
       "      <td>0</td>\n",
       "    </tr>\n",
       "    <tr>\n",
       "      <th>sex</th>\n",
       "      <td>0</td>\n",
       "      <td>0</td>\n",
       "      <td>0</td>\n",
       "      <td>0</td>\n",
       "      <td>1</td>\n",
       "    </tr>\n",
       "    <tr>\n",
       "      <th>age</th>\n",
       "      <td>18</td>\n",
       "      <td>17</td>\n",
       "      <td>15</td>\n",
       "      <td>16</td>\n",
       "      <td>16</td>\n",
       "    </tr>\n",
       "    <tr>\n",
       "      <th>address</th>\n",
       "      <td>1</td>\n",
       "      <td>1</td>\n",
       "      <td>1</td>\n",
       "      <td>1</td>\n",
       "      <td>1</td>\n",
       "    </tr>\n",
       "    <tr>\n",
       "      <th>famsize</th>\n",
       "      <td>0</td>\n",
       "      <td>0</td>\n",
       "      <td>0</td>\n",
       "      <td>0</td>\n",
       "      <td>1</td>\n",
       "    </tr>\n",
       "    <tr>\n",
       "      <th>Pstatus</th>\n",
       "      <td>0</td>\n",
       "      <td>1</td>\n",
       "      <td>1</td>\n",
       "      <td>1</td>\n",
       "      <td>1</td>\n",
       "    </tr>\n",
       "    <tr>\n",
       "      <th>Medu</th>\n",
       "      <td>4</td>\n",
       "      <td>1</td>\n",
       "      <td>4</td>\n",
       "      <td>3</td>\n",
       "      <td>4</td>\n",
       "    </tr>\n",
       "    <tr>\n",
       "      <th>Fedu</th>\n",
       "      <td>4</td>\n",
       "      <td>1</td>\n",
       "      <td>2</td>\n",
       "      <td>3</td>\n",
       "      <td>3</td>\n",
       "    </tr>\n",
       "    <tr>\n",
       "      <th>Mjob</th>\n",
       "      <td>at_home</td>\n",
       "      <td>at_home</td>\n",
       "      <td>health</td>\n",
       "      <td>other</td>\n",
       "      <td>services</td>\n",
       "    </tr>\n",
       "    <tr>\n",
       "      <th>Fjob</th>\n",
       "      <td>teacher</td>\n",
       "      <td>other</td>\n",
       "      <td>services</td>\n",
       "      <td>other</td>\n",
       "      <td>other</td>\n",
       "    </tr>\n",
       "    <tr>\n",
       "      <th>reason</th>\n",
       "      <td>course</td>\n",
       "      <td>course</td>\n",
       "      <td>home</td>\n",
       "      <td>home</td>\n",
       "      <td>reputation</td>\n",
       "    </tr>\n",
       "    <tr>\n",
       "      <th>guardian</th>\n",
       "      <td>mother</td>\n",
       "      <td>father</td>\n",
       "      <td>mother</td>\n",
       "      <td>father</td>\n",
       "      <td>mother</td>\n",
       "    </tr>\n",
       "    <tr>\n",
       "      <th>traveltime</th>\n",
       "      <td>2</td>\n",
       "      <td>1</td>\n",
       "      <td>1</td>\n",
       "      <td>1</td>\n",
       "      <td>1</td>\n",
       "    </tr>\n",
       "    <tr>\n",
       "      <th>studytime</th>\n",
       "      <td>2</td>\n",
       "      <td>2</td>\n",
       "      <td>3</td>\n",
       "      <td>2</td>\n",
       "      <td>2</td>\n",
       "    </tr>\n",
       "    <tr>\n",
       "      <th>failures</th>\n",
       "      <td>0</td>\n",
       "      <td>0</td>\n",
       "      <td>0</td>\n",
       "      <td>0</td>\n",
       "      <td>0</td>\n",
       "    </tr>\n",
       "    <tr>\n",
       "      <th>schoolsup</th>\n",
       "      <td>1</td>\n",
       "      <td>0</td>\n",
       "      <td>0</td>\n",
       "      <td>0</td>\n",
       "      <td>0</td>\n",
       "    </tr>\n",
       "    <tr>\n",
       "      <th>famsup</th>\n",
       "      <td>0</td>\n",
       "      <td>1</td>\n",
       "      <td>1</td>\n",
       "      <td>1</td>\n",
       "      <td>1</td>\n",
       "    </tr>\n",
       "    <tr>\n",
       "      <th>paid</th>\n",
       "      <td>0</td>\n",
       "      <td>0</td>\n",
       "      <td>1</td>\n",
       "      <td>1</td>\n",
       "      <td>1</td>\n",
       "    </tr>\n",
       "    <tr>\n",
       "      <th>activities</th>\n",
       "      <td>0</td>\n",
       "      <td>0</td>\n",
       "      <td>1</td>\n",
       "      <td>0</td>\n",
       "      <td>1</td>\n",
       "    </tr>\n",
       "    <tr>\n",
       "      <th>nursery</th>\n",
       "      <td>1</td>\n",
       "      <td>0</td>\n",
       "      <td>1</td>\n",
       "      <td>1</td>\n",
       "      <td>1</td>\n",
       "    </tr>\n",
       "    <tr>\n",
       "      <th>higher</th>\n",
       "      <td>1</td>\n",
       "      <td>1</td>\n",
       "      <td>1</td>\n",
       "      <td>1</td>\n",
       "      <td>1</td>\n",
       "    </tr>\n",
       "    <tr>\n",
       "      <th>internet</th>\n",
       "      <td>0</td>\n",
       "      <td>1</td>\n",
       "      <td>1</td>\n",
       "      <td>0</td>\n",
       "      <td>1</td>\n",
       "    </tr>\n",
       "    <tr>\n",
       "      <th>romantic</th>\n",
       "      <td>0</td>\n",
       "      <td>0</td>\n",
       "      <td>1</td>\n",
       "      <td>0</td>\n",
       "      <td>0</td>\n",
       "    </tr>\n",
       "    <tr>\n",
       "      <th>famrel</th>\n",
       "      <td>4</td>\n",
       "      <td>5</td>\n",
       "      <td>3</td>\n",
       "      <td>4</td>\n",
       "      <td>5</td>\n",
       "    </tr>\n",
       "    <tr>\n",
       "      <th>freetime</th>\n",
       "      <td>3</td>\n",
       "      <td>3</td>\n",
       "      <td>2</td>\n",
       "      <td>3</td>\n",
       "      <td>4</td>\n",
       "    </tr>\n",
       "    <tr>\n",
       "      <th>goout</th>\n",
       "      <td>4</td>\n",
       "      <td>3</td>\n",
       "      <td>2</td>\n",
       "      <td>2</td>\n",
       "      <td>2</td>\n",
       "    </tr>\n",
       "    <tr>\n",
       "      <th>Dalc</th>\n",
       "      <td>1</td>\n",
       "      <td>1</td>\n",
       "      <td>1</td>\n",
       "      <td>1</td>\n",
       "      <td>1</td>\n",
       "    </tr>\n",
       "    <tr>\n",
       "      <th>Walc</th>\n",
       "      <td>1</td>\n",
       "      <td>1</td>\n",
       "      <td>1</td>\n",
       "      <td>2</td>\n",
       "      <td>2</td>\n",
       "    </tr>\n",
       "    <tr>\n",
       "      <th>health</th>\n",
       "      <td>3</td>\n",
       "      <td>3</td>\n",
       "      <td>5</td>\n",
       "      <td>5</td>\n",
       "      <td>5</td>\n",
       "    </tr>\n",
       "    <tr>\n",
       "      <th>absences</th>\n",
       "      <td>6</td>\n",
       "      <td>4</td>\n",
       "      <td>2</td>\n",
       "      <td>4</td>\n",
       "      <td>10</td>\n",
       "    </tr>\n",
       "    <tr>\n",
       "      <th>avg_score</th>\n",
       "      <td>5.666667</td>\n",
       "      <td>5.333333</td>\n",
       "      <td>14.666667</td>\n",
       "      <td>8.666667</td>\n",
       "      <td>15.0</td>\n",
       "    </tr>\n",
       "  </tbody>\n",
       "</table>\n",
       "</div>"
      ],
      "text/plain": [
       "                   0         1          3         4           5\n",
       "school             0         0          0         0           0\n",
       "sex                0         0          0         0           1\n",
       "age               18        17         15        16          16\n",
       "address            1         1          1         1           1\n",
       "famsize            0         0          0         0           1\n",
       "Pstatus            0         1          1         1           1\n",
       "Medu               4         1          4         3           4\n",
       "Fedu               4         1          2         3           3\n",
       "Mjob         at_home   at_home     health     other    services\n",
       "Fjob         teacher     other   services     other       other\n",
       "reason        course    course       home      home  reputation\n",
       "guardian      mother    father     mother    father      mother\n",
       "traveltime         2         1          1         1           1\n",
       "studytime          2         2          3         2           2\n",
       "failures           0         0          0         0           0\n",
       "schoolsup          1         0          0         0           0\n",
       "famsup             0         1          1         1           1\n",
       "paid               0         0          1         1           1\n",
       "activities         0         0          1         0           1\n",
       "nursery            1         0          1         1           1\n",
       "higher             1         1          1         1           1\n",
       "internet           0         1          1         0           1\n",
       "romantic           0         0          1         0           0\n",
       "famrel             4         5          3         4           5\n",
       "freetime           3         3          2         3           4\n",
       "goout              4         3          2         2           2\n",
       "Dalc               1         1          1         1           1\n",
       "Walc               1         1          1         2           2\n",
       "health             3         3          5         5           5\n",
       "absences           6         4          2         4          10\n",
       "avg_score   5.666667  5.333333  14.666667  8.666667        15.0"
      ]
     },
     "execution_count": 38,
     "metadata": {},
     "output_type": "execute_result"
    }
   ],
   "source": [
    "non_outlier_data.head().transpose()"
   ]
  },
  {
   "cell_type": "code",
   "execution_count": 39,
   "metadata": {
    "execution": {
     "iopub.execute_input": "2021-07-20T04:11:30.010672Z",
     "iopub.status.busy": "2021-07-20T04:11:30.009817Z",
     "iopub.status.idle": "2021-07-20T04:11:30.014404Z",
     "shell.execute_reply": "2021-07-20T04:11:30.013813Z",
     "shell.execute_reply.started": "2021-07-20T04:08:52.191081Z"
    },
    "papermill": {
     "duration": 0.074014,
     "end_time": "2021-07-20T04:11:30.014535",
     "exception": false,
     "start_time": "2021-07-20T04:11:29.940521",
     "status": "completed"
    },
    "tags": []
   },
   "outputs": [
    {
     "data": {
      "text/plain": [
       "['school',\n",
       " 'sex',\n",
       " 'address',\n",
       " 'famsize',\n",
       " 'Pstatus',\n",
       " 'Mjob',\n",
       " 'Fjob',\n",
       " 'reason',\n",
       " 'guardian',\n",
       " 'schoolsup',\n",
       " 'famsup',\n",
       " 'paid',\n",
       " 'activities',\n",
       " 'nursery',\n",
       " 'higher',\n",
       " 'internet',\n",
       " 'romantic']"
      ]
     },
     "execution_count": 39,
     "metadata": {},
     "output_type": "execute_result"
    }
   ],
   "source": [
    "categorical_cols = [column for column in non_outlier_data.columns if (non_outlier_data[column].nunique()<=30)]\n",
    "str_col = [col for col in categorical_cols if data[col].dtype =='O']\n",
    "str_col"
   ]
  },
  {
   "cell_type": "code",
   "execution_count": 40,
   "metadata": {
    "execution": {
     "iopub.execute_input": "2021-07-20T04:11:30.127850Z",
     "iopub.status.busy": "2021-07-20T04:11:30.126649Z",
     "iopub.status.idle": "2021-07-20T04:11:30.141798Z",
     "shell.execute_reply": "2021-07-20T04:11:30.142561Z",
     "shell.execute_reply.started": "2021-07-20T04:08:52.210791Z"
    },
    "papermill": {
     "duration": 0.074422,
     "end_time": "2021-07-20T04:11:30.142804",
     "exception": false,
     "start_time": "2021-07-20T04:11:30.068382",
     "status": "completed"
    },
    "tags": []
   },
   "outputs": [
    {
     "name": "stdout",
     "output_type": "stream",
     "text": [
      "school  : [0 1]\n",
      "sex  : [0 1]\n",
      "address  : [1 0]\n",
      "famsize  : [0 1]\n",
      "Pstatus  : [0 1]\n",
      "Mjob  : ['at_home' 'health' 'other' 'services' 'teacher']\n",
      "Fjob  : ['teacher' 'other' 'services' 'health' 'at_home']\n",
      "reason  : ['course' 'home' 'reputation' 'other']\n",
      "guardian  : ['mother' 'father' 'other']\n",
      "schoolsup  : [1 0]\n",
      "famsup  : [0 1]\n",
      "paid  : [0 1]\n",
      "activities  : [0 1]\n",
      "nursery  : [1 0]\n",
      "higher  : [1 0]\n",
      "internet  : [0 1]\n",
      "romantic  : [0 1]\n"
     ]
    }
   ],
   "source": [
    "for i in str_col:\n",
    "    print(i, ' :', non_outlier_data[i].unique())"
   ]
  },
  {
   "cell_type": "code",
   "execution_count": 41,
   "metadata": {
    "execution": {
     "iopub.execute_input": "2021-07-20T04:11:30.258773Z",
     "iopub.status.busy": "2021-07-20T04:11:30.258130Z",
     "iopub.status.idle": "2021-07-20T04:11:30.262173Z",
     "shell.execute_reply": "2021-07-20T04:11:30.261205Z",
     "shell.execute_reply.started": "2021-07-20T04:08:52.232060Z"
    },
    "papermill": {
     "duration": 0.064768,
     "end_time": "2021-07-20T04:11:30.262356",
     "exception": false,
     "start_time": "2021-07-20T04:11:30.197588",
     "status": "completed"
    },
    "tags": []
   },
   "outputs": [],
   "source": [
    "non_outlier_data_ = non_outlier_data.copy()"
   ]
  },
  {
   "cell_type": "code",
   "execution_count": 42,
   "metadata": {
    "execution": {
     "iopub.execute_input": "2021-07-20T04:11:30.383532Z",
     "iopub.status.busy": "2021-07-20T04:11:30.380508Z",
     "iopub.status.idle": "2021-07-20T04:11:30.428292Z",
     "shell.execute_reply": "2021-07-20T04:11:30.428981Z",
     "shell.execute_reply.started": "2021-07-20T04:08:52.237773Z"
    },
    "papermill": {
     "duration": 0.108664,
     "end_time": "2021-07-20T04:11:30.429200",
     "exception": false,
     "start_time": "2021-07-20T04:11:30.320536",
     "status": "completed"
    },
    "tags": []
   },
   "outputs": [
    {
     "name": "stdout",
     "output_type": "stream",
     "text": [
      "school\n",
      "sex\n",
      "address\n",
      "famsize\n",
      "Pstatus\n",
      "Mjob\n",
      "Fjob\n",
      "reason\n",
      "guardian\n",
      "schoolsup\n",
      "famsup\n",
      "paid\n",
      "activities\n",
      "nursery\n",
      "higher\n",
      "internet\n",
      "romantic\n"
     ]
    }
   ],
   "source": [
    "for i in str_col:\n",
    "    print(i)\n",
    "    non_outlier_data = pd.concat([non_outlier_data.drop(i, axis = 1), pd.get_dummies(non_outlier_data[i], prefix=i, drop_first = True)], axis = 1)"
   ]
  },
  {
   "cell_type": "markdown",
   "metadata": {
    "papermill": {
     "duration": 0.056166,
     "end_time": "2021-07-20T04:11:30.540237",
     "exception": false,
     "start_time": "2021-07-20T04:11:30.484071",
     "status": "completed"
    },
    "tags": []
   },
   "source": []
  },
  {
   "cell_type": "code",
   "execution_count": 43,
   "metadata": {
    "execution": {
     "iopub.execute_input": "2021-07-20T04:11:30.653625Z",
     "iopub.status.busy": "2021-07-20T04:11:30.653012Z",
     "iopub.status.idle": "2021-07-20T04:11:30.656294Z",
     "shell.execute_reply": "2021-07-20T04:11:30.655784Z",
     "shell.execute_reply.started": "2021-07-20T04:08:52.299338Z"
    },
    "papermill": {
     "duration": 0.062109,
     "end_time": "2021-07-20T04:11:30.656430",
     "exception": false,
     "start_time": "2021-07-20T04:11:30.594321",
     "status": "completed"
    },
    "tags": []
   },
   "outputs": [],
   "source": [
    "non_outlier_data['Good_Student'] = non_outlier_data['avg_score'].copy()"
   ]
  },
  {
   "cell_type": "code",
   "execution_count": 44,
   "metadata": {
    "execution": {
     "iopub.execute_input": "2021-07-20T04:11:30.773103Z",
     "iopub.status.busy": "2021-07-20T04:11:30.772067Z",
     "iopub.status.idle": "2021-07-20T04:11:30.775427Z",
     "shell.execute_reply": "2021-07-20T04:11:30.774922Z",
     "shell.execute_reply.started": "2021-07-20T04:08:52.306014Z"
    },
    "papermill": {
     "duration": 0.065133,
     "end_time": "2021-07-20T04:11:30.775576",
     "exception": false,
     "start_time": "2021-07-20T04:11:30.710443",
     "status": "completed"
    },
    "tags": []
   },
   "outputs": [],
   "source": [
    "def classify(x):\n",
    "    if x > 15:\n",
    "        return 1\n",
    "    else:\n",
    "        return 0\n",
    "\n",
    "non_outlier_data['Good_Student'] = non_outlier_data['avg_score'].apply(classify)"
   ]
  },
  {
   "cell_type": "code",
   "execution_count": 45,
   "metadata": {
    "execution": {
     "iopub.execute_input": "2021-07-20T04:11:30.891499Z",
     "iopub.status.busy": "2021-07-20T04:11:30.890899Z",
     "iopub.status.idle": "2021-07-20T04:11:30.917428Z",
     "shell.execute_reply": "2021-07-20T04:11:30.917850Z",
     "shell.execute_reply.started": "2021-07-20T04:08:52.319778Z"
    },
    "papermill": {
     "duration": 0.088593,
     "end_time": "2021-07-20T04:11:30.918034",
     "exception": false,
     "start_time": "2021-07-20T04:11:30.829441",
     "status": "completed"
    },
    "tags": []
   },
   "outputs": [
    {
     "data": {
      "text/html": [
       "<div>\n",
       "<style scoped>\n",
       "    .dataframe tbody tr th:only-of-type {\n",
       "        vertical-align: middle;\n",
       "    }\n",
       "\n",
       "    .dataframe tbody tr th {\n",
       "        vertical-align: top;\n",
       "    }\n",
       "\n",
       "    .dataframe thead th {\n",
       "        text-align: right;\n",
       "    }\n",
       "</style>\n",
       "<table border=\"1\" class=\"dataframe\">\n",
       "  <thead>\n",
       "    <tr style=\"text-align: right;\">\n",
       "      <th></th>\n",
       "      <th>0</th>\n",
       "      <th>1</th>\n",
       "      <th>3</th>\n",
       "      <th>4</th>\n",
       "      <th>5</th>\n",
       "      <th>6</th>\n",
       "      <th>8</th>\n",
       "      <th>9</th>\n",
       "      <th>10</th>\n",
       "      <th>11</th>\n",
       "    </tr>\n",
       "  </thead>\n",
       "  <tbody>\n",
       "    <tr>\n",
       "      <th>age</th>\n",
       "      <td>18.000000</td>\n",
       "      <td>17.000000</td>\n",
       "      <td>15.000000</td>\n",
       "      <td>16.000000</td>\n",
       "      <td>16.0</td>\n",
       "      <td>16.000000</td>\n",
       "      <td>15.000000</td>\n",
       "      <td>15.000000</td>\n",
       "      <td>15.0</td>\n",
       "      <td>15.000000</td>\n",
       "    </tr>\n",
       "    <tr>\n",
       "      <th>Medu</th>\n",
       "      <td>4.000000</td>\n",
       "      <td>1.000000</td>\n",
       "      <td>4.000000</td>\n",
       "      <td>3.000000</td>\n",
       "      <td>4.0</td>\n",
       "      <td>2.000000</td>\n",
       "      <td>3.000000</td>\n",
       "      <td>3.000000</td>\n",
       "      <td>4.0</td>\n",
       "      <td>2.000000</td>\n",
       "    </tr>\n",
       "    <tr>\n",
       "      <th>Fedu</th>\n",
       "      <td>4.000000</td>\n",
       "      <td>1.000000</td>\n",
       "      <td>2.000000</td>\n",
       "      <td>3.000000</td>\n",
       "      <td>3.0</td>\n",
       "      <td>2.000000</td>\n",
       "      <td>2.000000</td>\n",
       "      <td>4.000000</td>\n",
       "      <td>4.0</td>\n",
       "      <td>1.000000</td>\n",
       "    </tr>\n",
       "    <tr>\n",
       "      <th>traveltime</th>\n",
       "      <td>2.000000</td>\n",
       "      <td>1.000000</td>\n",
       "      <td>1.000000</td>\n",
       "      <td>1.000000</td>\n",
       "      <td>1.0</td>\n",
       "      <td>1.000000</td>\n",
       "      <td>1.000000</td>\n",
       "      <td>1.000000</td>\n",
       "      <td>1.0</td>\n",
       "      <td>3.000000</td>\n",
       "    </tr>\n",
       "    <tr>\n",
       "      <th>studytime</th>\n",
       "      <td>2.000000</td>\n",
       "      <td>2.000000</td>\n",
       "      <td>3.000000</td>\n",
       "      <td>2.000000</td>\n",
       "      <td>2.0</td>\n",
       "      <td>2.000000</td>\n",
       "      <td>2.000000</td>\n",
       "      <td>2.000000</td>\n",
       "      <td>2.0</td>\n",
       "      <td>3.000000</td>\n",
       "    </tr>\n",
       "    <tr>\n",
       "      <th>failures</th>\n",
       "      <td>0.000000</td>\n",
       "      <td>0.000000</td>\n",
       "      <td>0.000000</td>\n",
       "      <td>0.000000</td>\n",
       "      <td>0.0</td>\n",
       "      <td>0.000000</td>\n",
       "      <td>0.000000</td>\n",
       "      <td>0.000000</td>\n",
       "      <td>0.0</td>\n",
       "      <td>0.000000</td>\n",
       "    </tr>\n",
       "    <tr>\n",
       "      <th>famrel</th>\n",
       "      <td>4.000000</td>\n",
       "      <td>5.000000</td>\n",
       "      <td>3.000000</td>\n",
       "      <td>4.000000</td>\n",
       "      <td>5.0</td>\n",
       "      <td>4.000000</td>\n",
       "      <td>4.000000</td>\n",
       "      <td>5.000000</td>\n",
       "      <td>3.0</td>\n",
       "      <td>5.000000</td>\n",
       "    </tr>\n",
       "    <tr>\n",
       "      <th>freetime</th>\n",
       "      <td>3.000000</td>\n",
       "      <td>3.000000</td>\n",
       "      <td>2.000000</td>\n",
       "      <td>3.000000</td>\n",
       "      <td>4.0</td>\n",
       "      <td>4.000000</td>\n",
       "      <td>2.000000</td>\n",
       "      <td>5.000000</td>\n",
       "      <td>3.0</td>\n",
       "      <td>2.000000</td>\n",
       "    </tr>\n",
       "    <tr>\n",
       "      <th>goout</th>\n",
       "      <td>4.000000</td>\n",
       "      <td>3.000000</td>\n",
       "      <td>2.000000</td>\n",
       "      <td>2.000000</td>\n",
       "      <td>2.0</td>\n",
       "      <td>4.000000</td>\n",
       "      <td>2.000000</td>\n",
       "      <td>1.000000</td>\n",
       "      <td>3.0</td>\n",
       "      <td>2.000000</td>\n",
       "    </tr>\n",
       "    <tr>\n",
       "      <th>Dalc</th>\n",
       "      <td>1.000000</td>\n",
       "      <td>1.000000</td>\n",
       "      <td>1.000000</td>\n",
       "      <td>1.000000</td>\n",
       "      <td>1.0</td>\n",
       "      <td>1.000000</td>\n",
       "      <td>1.000000</td>\n",
       "      <td>1.000000</td>\n",
       "      <td>1.0</td>\n",
       "      <td>1.000000</td>\n",
       "    </tr>\n",
       "    <tr>\n",
       "      <th>Walc</th>\n",
       "      <td>1.000000</td>\n",
       "      <td>1.000000</td>\n",
       "      <td>1.000000</td>\n",
       "      <td>2.000000</td>\n",
       "      <td>2.0</td>\n",
       "      <td>1.000000</td>\n",
       "      <td>1.000000</td>\n",
       "      <td>1.000000</td>\n",
       "      <td>2.0</td>\n",
       "      <td>1.000000</td>\n",
       "    </tr>\n",
       "    <tr>\n",
       "      <th>health</th>\n",
       "      <td>3.000000</td>\n",
       "      <td>3.000000</td>\n",
       "      <td>5.000000</td>\n",
       "      <td>5.000000</td>\n",
       "      <td>5.0</td>\n",
       "      <td>3.000000</td>\n",
       "      <td>1.000000</td>\n",
       "      <td>5.000000</td>\n",
       "      <td>2.0</td>\n",
       "      <td>4.000000</td>\n",
       "    </tr>\n",
       "    <tr>\n",
       "      <th>absences</th>\n",
       "      <td>6.000000</td>\n",
       "      <td>4.000000</td>\n",
       "      <td>2.000000</td>\n",
       "      <td>4.000000</td>\n",
       "      <td>10.0</td>\n",
       "      <td>0.000000</td>\n",
       "      <td>0.000000</td>\n",
       "      <td>0.000000</td>\n",
       "      <td>0.0</td>\n",
       "      <td>4.000000</td>\n",
       "    </tr>\n",
       "    <tr>\n",
       "      <th>avg_score</th>\n",
       "      <td>5.666667</td>\n",
       "      <td>5.333333</td>\n",
       "      <td>14.666667</td>\n",
       "      <td>8.666667</td>\n",
       "      <td>15.0</td>\n",
       "      <td>11.666667</td>\n",
       "      <td>17.666667</td>\n",
       "      <td>14.666667</td>\n",
       "      <td>9.0</td>\n",
       "      <td>11.333333</td>\n",
       "    </tr>\n",
       "    <tr>\n",
       "      <th>school_1</th>\n",
       "      <td>0.000000</td>\n",
       "      <td>0.000000</td>\n",
       "      <td>0.000000</td>\n",
       "      <td>0.000000</td>\n",
       "      <td>0.0</td>\n",
       "      <td>0.000000</td>\n",
       "      <td>0.000000</td>\n",
       "      <td>0.000000</td>\n",
       "      <td>0.0</td>\n",
       "      <td>0.000000</td>\n",
       "    </tr>\n",
       "    <tr>\n",
       "      <th>sex_1</th>\n",
       "      <td>0.000000</td>\n",
       "      <td>0.000000</td>\n",
       "      <td>0.000000</td>\n",
       "      <td>0.000000</td>\n",
       "      <td>1.0</td>\n",
       "      <td>1.000000</td>\n",
       "      <td>1.000000</td>\n",
       "      <td>1.000000</td>\n",
       "      <td>0.0</td>\n",
       "      <td>0.000000</td>\n",
       "    </tr>\n",
       "    <tr>\n",
       "      <th>address_1</th>\n",
       "      <td>1.000000</td>\n",
       "      <td>1.000000</td>\n",
       "      <td>1.000000</td>\n",
       "      <td>1.000000</td>\n",
       "      <td>1.0</td>\n",
       "      <td>1.000000</td>\n",
       "      <td>1.000000</td>\n",
       "      <td>1.000000</td>\n",
       "      <td>1.0</td>\n",
       "      <td>1.000000</td>\n",
       "    </tr>\n",
       "    <tr>\n",
       "      <th>famsize_1</th>\n",
       "      <td>0.000000</td>\n",
       "      <td>0.000000</td>\n",
       "      <td>0.000000</td>\n",
       "      <td>0.000000</td>\n",
       "      <td>1.0</td>\n",
       "      <td>1.000000</td>\n",
       "      <td>1.000000</td>\n",
       "      <td>0.000000</td>\n",
       "      <td>0.0</td>\n",
       "      <td>0.000000</td>\n",
       "    </tr>\n",
       "    <tr>\n",
       "      <th>Pstatus_1</th>\n",
       "      <td>0.000000</td>\n",
       "      <td>1.000000</td>\n",
       "      <td>1.000000</td>\n",
       "      <td>1.000000</td>\n",
       "      <td>1.0</td>\n",
       "      <td>1.000000</td>\n",
       "      <td>0.000000</td>\n",
       "      <td>1.000000</td>\n",
       "      <td>1.0</td>\n",
       "      <td>1.000000</td>\n",
       "    </tr>\n",
       "    <tr>\n",
       "      <th>Mjob_health</th>\n",
       "      <td>0.000000</td>\n",
       "      <td>0.000000</td>\n",
       "      <td>1.000000</td>\n",
       "      <td>0.000000</td>\n",
       "      <td>0.0</td>\n",
       "      <td>0.000000</td>\n",
       "      <td>0.000000</td>\n",
       "      <td>0.000000</td>\n",
       "      <td>0.0</td>\n",
       "      <td>0.000000</td>\n",
       "    </tr>\n",
       "    <tr>\n",
       "      <th>Mjob_other</th>\n",
       "      <td>0.000000</td>\n",
       "      <td>0.000000</td>\n",
       "      <td>0.000000</td>\n",
       "      <td>1.000000</td>\n",
       "      <td>0.0</td>\n",
       "      <td>1.000000</td>\n",
       "      <td>0.000000</td>\n",
       "      <td>1.000000</td>\n",
       "      <td>0.0</td>\n",
       "      <td>0.000000</td>\n",
       "    </tr>\n",
       "    <tr>\n",
       "      <th>Mjob_services</th>\n",
       "      <td>0.000000</td>\n",
       "      <td>0.000000</td>\n",
       "      <td>0.000000</td>\n",
       "      <td>0.000000</td>\n",
       "      <td>1.0</td>\n",
       "      <td>0.000000</td>\n",
       "      <td>1.000000</td>\n",
       "      <td>0.000000</td>\n",
       "      <td>0.0</td>\n",
       "      <td>1.000000</td>\n",
       "    </tr>\n",
       "    <tr>\n",
       "      <th>Mjob_teacher</th>\n",
       "      <td>0.000000</td>\n",
       "      <td>0.000000</td>\n",
       "      <td>0.000000</td>\n",
       "      <td>0.000000</td>\n",
       "      <td>0.0</td>\n",
       "      <td>0.000000</td>\n",
       "      <td>0.000000</td>\n",
       "      <td>0.000000</td>\n",
       "      <td>1.0</td>\n",
       "      <td>0.000000</td>\n",
       "    </tr>\n",
       "    <tr>\n",
       "      <th>Fjob_health</th>\n",
       "      <td>0.000000</td>\n",
       "      <td>0.000000</td>\n",
       "      <td>0.000000</td>\n",
       "      <td>0.000000</td>\n",
       "      <td>0.0</td>\n",
       "      <td>0.000000</td>\n",
       "      <td>0.000000</td>\n",
       "      <td>0.000000</td>\n",
       "      <td>1.0</td>\n",
       "      <td>0.000000</td>\n",
       "    </tr>\n",
       "    <tr>\n",
       "      <th>Fjob_other</th>\n",
       "      <td>0.000000</td>\n",
       "      <td>1.000000</td>\n",
       "      <td>0.000000</td>\n",
       "      <td>1.000000</td>\n",
       "      <td>1.0</td>\n",
       "      <td>1.000000</td>\n",
       "      <td>1.000000</td>\n",
       "      <td>1.000000</td>\n",
       "      <td>0.0</td>\n",
       "      <td>1.000000</td>\n",
       "    </tr>\n",
       "    <tr>\n",
       "      <th>Fjob_services</th>\n",
       "      <td>0.000000</td>\n",
       "      <td>0.000000</td>\n",
       "      <td>1.000000</td>\n",
       "      <td>0.000000</td>\n",
       "      <td>0.0</td>\n",
       "      <td>0.000000</td>\n",
       "      <td>0.000000</td>\n",
       "      <td>0.000000</td>\n",
       "      <td>0.0</td>\n",
       "      <td>0.000000</td>\n",
       "    </tr>\n",
       "    <tr>\n",
       "      <th>Fjob_teacher</th>\n",
       "      <td>1.000000</td>\n",
       "      <td>0.000000</td>\n",
       "      <td>0.000000</td>\n",
       "      <td>0.000000</td>\n",
       "      <td>0.0</td>\n",
       "      <td>0.000000</td>\n",
       "      <td>0.000000</td>\n",
       "      <td>0.000000</td>\n",
       "      <td>0.0</td>\n",
       "      <td>0.000000</td>\n",
       "    </tr>\n",
       "    <tr>\n",
       "      <th>reason_home</th>\n",
       "      <td>0.000000</td>\n",
       "      <td>0.000000</td>\n",
       "      <td>1.000000</td>\n",
       "      <td>1.000000</td>\n",
       "      <td>0.0</td>\n",
       "      <td>1.000000</td>\n",
       "      <td>1.000000</td>\n",
       "      <td>1.000000</td>\n",
       "      <td>0.0</td>\n",
       "      <td>0.000000</td>\n",
       "    </tr>\n",
       "    <tr>\n",
       "      <th>reason_other</th>\n",
       "      <td>0.000000</td>\n",
       "      <td>0.000000</td>\n",
       "      <td>0.000000</td>\n",
       "      <td>0.000000</td>\n",
       "      <td>0.0</td>\n",
       "      <td>0.000000</td>\n",
       "      <td>0.000000</td>\n",
       "      <td>0.000000</td>\n",
       "      <td>0.0</td>\n",
       "      <td>0.000000</td>\n",
       "    </tr>\n",
       "    <tr>\n",
       "      <th>reason_reputation</th>\n",
       "      <td>0.000000</td>\n",
       "      <td>0.000000</td>\n",
       "      <td>0.000000</td>\n",
       "      <td>0.000000</td>\n",
       "      <td>1.0</td>\n",
       "      <td>0.000000</td>\n",
       "      <td>0.000000</td>\n",
       "      <td>0.000000</td>\n",
       "      <td>1.0</td>\n",
       "      <td>1.000000</td>\n",
       "    </tr>\n",
       "    <tr>\n",
       "      <th>guardian_mother</th>\n",
       "      <td>1.000000</td>\n",
       "      <td>0.000000</td>\n",
       "      <td>1.000000</td>\n",
       "      <td>0.000000</td>\n",
       "      <td>1.0</td>\n",
       "      <td>1.000000</td>\n",
       "      <td>1.000000</td>\n",
       "      <td>1.000000</td>\n",
       "      <td>1.0</td>\n",
       "      <td>0.000000</td>\n",
       "    </tr>\n",
       "    <tr>\n",
       "      <th>guardian_other</th>\n",
       "      <td>0.000000</td>\n",
       "      <td>0.000000</td>\n",
       "      <td>0.000000</td>\n",
       "      <td>0.000000</td>\n",
       "      <td>0.0</td>\n",
       "      <td>0.000000</td>\n",
       "      <td>0.000000</td>\n",
       "      <td>0.000000</td>\n",
       "      <td>0.0</td>\n",
       "      <td>0.000000</td>\n",
       "    </tr>\n",
       "    <tr>\n",
       "      <th>schoolsup_1</th>\n",
       "      <td>1.000000</td>\n",
       "      <td>0.000000</td>\n",
       "      <td>0.000000</td>\n",
       "      <td>0.000000</td>\n",
       "      <td>0.0</td>\n",
       "      <td>0.000000</td>\n",
       "      <td>0.000000</td>\n",
       "      <td>0.000000</td>\n",
       "      <td>0.0</td>\n",
       "      <td>0.000000</td>\n",
       "    </tr>\n",
       "    <tr>\n",
       "      <th>famsup_1</th>\n",
       "      <td>0.000000</td>\n",
       "      <td>1.000000</td>\n",
       "      <td>1.000000</td>\n",
       "      <td>1.000000</td>\n",
       "      <td>1.0</td>\n",
       "      <td>0.000000</td>\n",
       "      <td>1.000000</td>\n",
       "      <td>1.000000</td>\n",
       "      <td>1.0</td>\n",
       "      <td>1.000000</td>\n",
       "    </tr>\n",
       "    <tr>\n",
       "      <th>paid_1</th>\n",
       "      <td>0.000000</td>\n",
       "      <td>0.000000</td>\n",
       "      <td>1.000000</td>\n",
       "      <td>1.000000</td>\n",
       "      <td>1.0</td>\n",
       "      <td>0.000000</td>\n",
       "      <td>1.000000</td>\n",
       "      <td>1.000000</td>\n",
       "      <td>1.0</td>\n",
       "      <td>0.000000</td>\n",
       "    </tr>\n",
       "    <tr>\n",
       "      <th>activities_1</th>\n",
       "      <td>0.000000</td>\n",
       "      <td>0.000000</td>\n",
       "      <td>1.000000</td>\n",
       "      <td>0.000000</td>\n",
       "      <td>1.0</td>\n",
       "      <td>0.000000</td>\n",
       "      <td>0.000000</td>\n",
       "      <td>1.000000</td>\n",
       "      <td>0.0</td>\n",
       "      <td>1.000000</td>\n",
       "    </tr>\n",
       "    <tr>\n",
       "      <th>nursery_1</th>\n",
       "      <td>1.000000</td>\n",
       "      <td>0.000000</td>\n",
       "      <td>1.000000</td>\n",
       "      <td>1.000000</td>\n",
       "      <td>1.0</td>\n",
       "      <td>1.000000</td>\n",
       "      <td>1.000000</td>\n",
       "      <td>1.000000</td>\n",
       "      <td>1.0</td>\n",
       "      <td>1.000000</td>\n",
       "    </tr>\n",
       "    <tr>\n",
       "      <th>higher_1</th>\n",
       "      <td>1.000000</td>\n",
       "      <td>1.000000</td>\n",
       "      <td>1.000000</td>\n",
       "      <td>1.000000</td>\n",
       "      <td>1.0</td>\n",
       "      <td>1.000000</td>\n",
       "      <td>1.000000</td>\n",
       "      <td>1.000000</td>\n",
       "      <td>1.0</td>\n",
       "      <td>1.000000</td>\n",
       "    </tr>\n",
       "    <tr>\n",
       "      <th>internet_1</th>\n",
       "      <td>0.000000</td>\n",
       "      <td>1.000000</td>\n",
       "      <td>1.000000</td>\n",
       "      <td>0.000000</td>\n",
       "      <td>1.0</td>\n",
       "      <td>1.000000</td>\n",
       "      <td>1.000000</td>\n",
       "      <td>1.000000</td>\n",
       "      <td>1.0</td>\n",
       "      <td>1.000000</td>\n",
       "    </tr>\n",
       "    <tr>\n",
       "      <th>romantic_1</th>\n",
       "      <td>0.000000</td>\n",
       "      <td>0.000000</td>\n",
       "      <td>1.000000</td>\n",
       "      <td>0.000000</td>\n",
       "      <td>0.0</td>\n",
       "      <td>0.000000</td>\n",
       "      <td>0.000000</td>\n",
       "      <td>0.000000</td>\n",
       "      <td>0.0</td>\n",
       "      <td>0.000000</td>\n",
       "    </tr>\n",
       "    <tr>\n",
       "      <th>Good_Student</th>\n",
       "      <td>0.000000</td>\n",
       "      <td>0.000000</td>\n",
       "      <td>0.000000</td>\n",
       "      <td>0.000000</td>\n",
       "      <td>0.0</td>\n",
       "      <td>0.000000</td>\n",
       "      <td>1.000000</td>\n",
       "      <td>0.000000</td>\n",
       "      <td>0.0</td>\n",
       "      <td>0.000000</td>\n",
       "    </tr>\n",
       "  </tbody>\n",
       "</table>\n",
       "</div>"
      ],
      "text/plain": [
       "                          0          1          3          4     5   \\\n",
       "age                18.000000  17.000000  15.000000  16.000000  16.0   \n",
       "Medu                4.000000   1.000000   4.000000   3.000000   4.0   \n",
       "Fedu                4.000000   1.000000   2.000000   3.000000   3.0   \n",
       "traveltime          2.000000   1.000000   1.000000   1.000000   1.0   \n",
       "studytime           2.000000   2.000000   3.000000   2.000000   2.0   \n",
       "failures            0.000000   0.000000   0.000000   0.000000   0.0   \n",
       "famrel              4.000000   5.000000   3.000000   4.000000   5.0   \n",
       "freetime            3.000000   3.000000   2.000000   3.000000   4.0   \n",
       "goout               4.000000   3.000000   2.000000   2.000000   2.0   \n",
       "Dalc                1.000000   1.000000   1.000000   1.000000   1.0   \n",
       "Walc                1.000000   1.000000   1.000000   2.000000   2.0   \n",
       "health              3.000000   3.000000   5.000000   5.000000   5.0   \n",
       "absences            6.000000   4.000000   2.000000   4.000000  10.0   \n",
       "avg_score           5.666667   5.333333  14.666667   8.666667  15.0   \n",
       "school_1            0.000000   0.000000   0.000000   0.000000   0.0   \n",
       "sex_1               0.000000   0.000000   0.000000   0.000000   1.0   \n",
       "address_1           1.000000   1.000000   1.000000   1.000000   1.0   \n",
       "famsize_1           0.000000   0.000000   0.000000   0.000000   1.0   \n",
       "Pstatus_1           0.000000   1.000000   1.000000   1.000000   1.0   \n",
       "Mjob_health         0.000000   0.000000   1.000000   0.000000   0.0   \n",
       "Mjob_other          0.000000   0.000000   0.000000   1.000000   0.0   \n",
       "Mjob_services       0.000000   0.000000   0.000000   0.000000   1.0   \n",
       "Mjob_teacher        0.000000   0.000000   0.000000   0.000000   0.0   \n",
       "Fjob_health         0.000000   0.000000   0.000000   0.000000   0.0   \n",
       "Fjob_other          0.000000   1.000000   0.000000   1.000000   1.0   \n",
       "Fjob_services       0.000000   0.000000   1.000000   0.000000   0.0   \n",
       "Fjob_teacher        1.000000   0.000000   0.000000   0.000000   0.0   \n",
       "reason_home         0.000000   0.000000   1.000000   1.000000   0.0   \n",
       "reason_other        0.000000   0.000000   0.000000   0.000000   0.0   \n",
       "reason_reputation   0.000000   0.000000   0.000000   0.000000   1.0   \n",
       "guardian_mother     1.000000   0.000000   1.000000   0.000000   1.0   \n",
       "guardian_other      0.000000   0.000000   0.000000   0.000000   0.0   \n",
       "schoolsup_1         1.000000   0.000000   0.000000   0.000000   0.0   \n",
       "famsup_1            0.000000   1.000000   1.000000   1.000000   1.0   \n",
       "paid_1              0.000000   0.000000   1.000000   1.000000   1.0   \n",
       "activities_1        0.000000   0.000000   1.000000   0.000000   1.0   \n",
       "nursery_1           1.000000   0.000000   1.000000   1.000000   1.0   \n",
       "higher_1            1.000000   1.000000   1.000000   1.000000   1.0   \n",
       "internet_1          0.000000   1.000000   1.000000   0.000000   1.0   \n",
       "romantic_1          0.000000   0.000000   1.000000   0.000000   0.0   \n",
       "Good_Student        0.000000   0.000000   0.000000   0.000000   0.0   \n",
       "\n",
       "                          6          8          9     10         11  \n",
       "age                16.000000  15.000000  15.000000  15.0  15.000000  \n",
       "Medu                2.000000   3.000000   3.000000   4.0   2.000000  \n",
       "Fedu                2.000000   2.000000   4.000000   4.0   1.000000  \n",
       "traveltime          1.000000   1.000000   1.000000   1.0   3.000000  \n",
       "studytime           2.000000   2.000000   2.000000   2.0   3.000000  \n",
       "failures            0.000000   0.000000   0.000000   0.0   0.000000  \n",
       "famrel              4.000000   4.000000   5.000000   3.0   5.000000  \n",
       "freetime            4.000000   2.000000   5.000000   3.0   2.000000  \n",
       "goout               4.000000   2.000000   1.000000   3.0   2.000000  \n",
       "Dalc                1.000000   1.000000   1.000000   1.0   1.000000  \n",
       "Walc                1.000000   1.000000   1.000000   2.0   1.000000  \n",
       "health              3.000000   1.000000   5.000000   2.0   4.000000  \n",
       "absences            0.000000   0.000000   0.000000   0.0   4.000000  \n",
       "avg_score          11.666667  17.666667  14.666667   9.0  11.333333  \n",
       "school_1            0.000000   0.000000   0.000000   0.0   0.000000  \n",
       "sex_1               1.000000   1.000000   1.000000   0.0   0.000000  \n",
       "address_1           1.000000   1.000000   1.000000   1.0   1.000000  \n",
       "famsize_1           1.000000   1.000000   0.000000   0.0   0.000000  \n",
       "Pstatus_1           1.000000   0.000000   1.000000   1.0   1.000000  \n",
       "Mjob_health         0.000000   0.000000   0.000000   0.0   0.000000  \n",
       "Mjob_other          1.000000   0.000000   1.000000   0.0   0.000000  \n",
       "Mjob_services       0.000000   1.000000   0.000000   0.0   1.000000  \n",
       "Mjob_teacher        0.000000   0.000000   0.000000   1.0   0.000000  \n",
       "Fjob_health         0.000000   0.000000   0.000000   1.0   0.000000  \n",
       "Fjob_other          1.000000   1.000000   1.000000   0.0   1.000000  \n",
       "Fjob_services       0.000000   0.000000   0.000000   0.0   0.000000  \n",
       "Fjob_teacher        0.000000   0.000000   0.000000   0.0   0.000000  \n",
       "reason_home         1.000000   1.000000   1.000000   0.0   0.000000  \n",
       "reason_other        0.000000   0.000000   0.000000   0.0   0.000000  \n",
       "reason_reputation   0.000000   0.000000   0.000000   1.0   1.000000  \n",
       "guardian_mother     1.000000   1.000000   1.000000   1.0   0.000000  \n",
       "guardian_other      0.000000   0.000000   0.000000   0.0   0.000000  \n",
       "schoolsup_1         0.000000   0.000000   0.000000   0.0   0.000000  \n",
       "famsup_1            0.000000   1.000000   1.000000   1.0   1.000000  \n",
       "paid_1              0.000000   1.000000   1.000000   1.0   0.000000  \n",
       "activities_1        0.000000   0.000000   1.000000   0.0   1.000000  \n",
       "nursery_1           1.000000   1.000000   1.000000   1.0   1.000000  \n",
       "higher_1            1.000000   1.000000   1.000000   1.0   1.000000  \n",
       "internet_1          1.000000   1.000000   1.000000   1.0   1.000000  \n",
       "romantic_1          0.000000   0.000000   0.000000   0.0   0.000000  \n",
       "Good_Student        0.000000   1.000000   0.000000   0.0   0.000000  "
      ]
     },
     "execution_count": 45,
     "metadata": {},
     "output_type": "execute_result"
    }
   ],
   "source": [
    "non_outlier_data.head(10).transpose()"
   ]
  },
  {
   "cell_type": "code",
   "execution_count": 46,
   "metadata": {
    "execution": {
     "iopub.execute_input": "2021-07-20T04:11:31.034744Z",
     "iopub.status.busy": "2021-07-20T04:11:31.034133Z",
     "iopub.status.idle": "2021-07-20T04:11:31.039175Z",
     "shell.execute_reply": "2021-07-20T04:11:31.039694Z",
     "shell.execute_reply.started": "2021-07-20T04:08:52.374997Z"
    },
    "papermill": {
     "duration": 0.065365,
     "end_time": "2021-07-20T04:11:31.039866",
     "exception": false,
     "start_time": "2021-07-20T04:11:30.974501",
     "status": "completed"
    },
    "tags": []
   },
   "outputs": [],
   "source": [
    "non_outlier_data.drop(['avg_score'], axis = 1,inplace=True)"
   ]
  },
  {
   "cell_type": "code",
   "execution_count": 47,
   "metadata": {
    "execution": {
     "iopub.execute_input": "2021-07-20T04:11:31.160640Z",
     "iopub.status.busy": "2021-07-20T04:11:31.155856Z",
     "iopub.status.idle": "2021-07-20T04:11:31.163941Z",
     "shell.execute_reply": "2021-07-20T04:11:31.163405Z",
     "shell.execute_reply.started": "2021-07-20T04:08:52.388442Z"
    },
    "papermill": {
     "duration": 0.067922,
     "end_time": "2021-07-20T04:11:31.164082",
     "exception": false,
     "start_time": "2021-07-20T04:11:31.096160",
     "status": "completed"
    },
    "tags": []
   },
   "outputs": [],
   "source": [
    "# prepare the data to numpy array\n",
    "final_feature_column=non_outlier_data.loc[:, non_outlier_data.columns != 'Good_Student'].columns.tolist()\n",
    "final_feature_array = non_outlier_data[final_feature_column].to_numpy()\n",
    "target_array = non_outlier_data['Good_Student'].to_numpy()"
   ]
  },
  {
   "cell_type": "code",
   "execution_count": 48,
   "metadata": {
    "execution": {
     "iopub.execute_input": "2021-07-20T04:11:31.284822Z",
     "iopub.status.busy": "2021-07-20T04:11:31.283938Z",
     "iopub.status.idle": "2021-07-20T04:11:31.287635Z",
     "shell.execute_reply": "2021-07-20T04:11:31.288211Z",
     "shell.execute_reply.started": "2021-07-20T04:08:52.404173Z"
    },
    "papermill": {
     "duration": 0.065219,
     "end_time": "2021-07-20T04:11:31.288434",
     "exception": false,
     "start_time": "2021-07-20T04:11:31.223215",
     "status": "completed"
    },
    "tags": []
   },
   "outputs": [
    {
     "name": "stdout",
     "output_type": "stream",
     "text": [
      "shape of final feature: (232, 39)\n",
      "shape of target: (232,)\n"
     ]
    }
   ],
   "source": [
    "print('shape of final feature:',final_feature_array.shape)\n",
    "print('shape of target:',target_array.shape)"
   ]
  },
  {
   "cell_type": "code",
   "execution_count": 49,
   "metadata": {
    "execution": {
     "iopub.execute_input": "2021-07-20T04:11:31.404642Z",
     "iopub.status.busy": "2021-07-20T04:11:31.403694Z",
     "iopub.status.idle": "2021-07-20T04:11:31.408627Z",
     "shell.execute_reply": "2021-07-20T04:11:31.409099Z",
     "shell.execute_reply.started": "2021-07-20T04:08:52.415092Z"
    },
    "papermill": {
     "duration": 0.064752,
     "end_time": "2021-07-20T04:11:31.409284",
     "exception": false,
     "start_time": "2021-07-20T04:11:31.344532",
     "status": "completed"
    },
    "tags": []
   },
   "outputs": [],
   "source": [
    "# split the data into test and train\n",
    "X_train, X_test, y_train, y_test = model_selection.train_test_split(\n",
    "    final_feature_array,\n",
    "    target_array,\n",
    "    train_size=0.8,\n",
    "    random_state=0\n",
    "    )"
   ]
  },
  {
   "cell_type": "code",
   "execution_count": 50,
   "metadata": {
    "execution": {
     "iopub.execute_input": "2021-07-20T04:11:31.528114Z",
     "iopub.status.busy": "2021-07-20T04:11:31.527468Z",
     "iopub.status.idle": "2021-07-20T04:11:31.537031Z",
     "shell.execute_reply": "2021-07-20T04:11:31.538764Z",
     "shell.execute_reply.started": "2021-07-20T04:08:52.427281Z"
    },
    "papermill": {
     "duration": 0.071633,
     "end_time": "2021-07-20T04:11:31.539045",
     "exception": false,
     "start_time": "2021-07-20T04:11:31.467412",
     "status": "completed"
    },
    "tags": []
   },
   "outputs": [
    {
     "name": "stdout",
     "output_type": "stream",
     "text": [
      "Shape Data X Train:\n",
      "(185, 39)\n",
      "\n",
      "Shape Data X Test:\n",
      "(47, 39)\n",
      "\n",
      "Shape Data y Train:\n",
      "(185,)\n",
      "\n",
      "Shape Data y Test:\n",
      "(47,)\n"
     ]
    }
   ],
   "source": [
    "# check the shape data\n",
    "print('Shape Data X Train:')\n",
    "print(X_train.shape)\n",
    "print('\\nShape Data X Test:')\n",
    "print(X_test.shape)\n",
    "print('\\nShape Data y Train:')\n",
    "print(y_train.shape)\n",
    "print('\\nShape Data y Test:')\n",
    "print(y_test.shape)"
   ]
  },
  {
   "cell_type": "code",
   "execution_count": 51,
   "metadata": {
    "execution": {
     "iopub.execute_input": "2021-07-20T04:11:31.681619Z",
     "iopub.status.busy": "2021-07-20T04:11:31.680756Z",
     "iopub.status.idle": "2021-07-20T04:11:31.751384Z",
     "shell.execute_reply": "2021-07-20T04:11:31.750705Z",
     "shell.execute_reply.started": "2021-07-20T04:08:52.437490Z"
    },
    "papermill": {
     "duration": 0.135726,
     "end_time": "2021-07-20T04:11:31.751523",
     "exception": false,
     "start_time": "2021-07-20T04:11:31.615797",
     "status": "completed"
    },
    "tags": []
   },
   "outputs": [],
   "source": [
    "# load the algorithm\n",
    "import sklearn.neighbors as neighbors\n",
    "classification_model = neighbors.KNeighborsClassifier(n_neighbors=10)"
   ]
  },
  {
   "cell_type": "code",
   "execution_count": 52,
   "metadata": {
    "execution": {
     "iopub.execute_input": "2021-07-20T04:11:31.872647Z",
     "iopub.status.busy": "2021-07-20T04:11:31.872033Z",
     "iopub.status.idle": "2021-07-20T04:11:31.875904Z",
     "shell.execute_reply": "2021-07-20T04:11:31.875412Z",
     "shell.execute_reply.started": "2021-07-20T04:08:52.510148Z"
    },
    "papermill": {
     "duration": 0.067802,
     "end_time": "2021-07-20T04:11:31.876034",
     "exception": false,
     "start_time": "2021-07-20T04:11:31.808232",
     "status": "completed"
    },
    "tags": []
   },
   "outputs": [
    {
     "data": {
      "text/plain": [
       "KNeighborsClassifier(n_neighbors=10)"
      ]
     },
     "execution_count": 52,
     "metadata": {},
     "output_type": "execute_result"
    }
   ],
   "source": [
    "# train the data\n",
    "classification_model.fit(X_train, y_train)"
   ]
  },
  {
   "cell_type": "code",
   "execution_count": 53,
   "metadata": {
    "execution": {
     "iopub.execute_input": "2021-07-20T04:11:31.996032Z",
     "iopub.status.busy": "2021-07-20T04:11:31.995372Z",
     "iopub.status.idle": "2021-07-20T04:11:32.019590Z",
     "shell.execute_reply": "2021-07-20T04:11:32.019052Z",
     "shell.execute_reply.started": "2021-07-20T04:08:52.519953Z"
    },
    "papermill": {
     "duration": 0.086187,
     "end_time": "2021-07-20T04:11:32.019724",
     "exception": false,
     "start_time": "2021-07-20T04:11:31.933537",
     "status": "completed"
    },
    "tags": []
   },
   "outputs": [],
   "source": [
    "# predict the X using trained model\n",
    "y_train_pred = classification_model.predict(X_train)\n",
    "y_test_pred = classification_model.predict(X_test)\n",
    "target_array_pred = classification_model.predict(final_feature_array)"
   ]
  },
  {
   "cell_type": "code",
   "execution_count": 54,
   "metadata": {
    "execution": {
     "iopub.execute_input": "2021-07-20T04:11:32.137958Z",
     "iopub.status.busy": "2021-07-20T04:11:32.137343Z",
     "iopub.status.idle": "2021-07-20T04:11:32.140549Z",
     "shell.execute_reply": "2021-07-20T04:11:32.141384Z",
     "shell.execute_reply.started": "2021-07-20T04:08:52.554374Z"
    },
    "papermill": {
     "duration": 0.065798,
     "end_time": "2021-07-20T04:11:32.141658",
     "exception": false,
     "start_time": "2021-07-20T04:11:32.075860",
     "status": "completed"
    },
    "tags": []
   },
   "outputs": [
    {
     "name": "stdout",
     "output_type": "stream",
     "text": [
      "Real Data\n",
      "[1 1 0 0 0]\n",
      "\n",
      " Predicted Data\n",
      "[0 1 0 0 0]\n"
     ]
    }
   ],
   "source": [
    "# check the raw prediction data & compare with real data\n",
    "print('Real Data')\n",
    "print(y_train[:5])\n",
    "print('\\n Predicted Data')\n",
    "print(y_train_pred[:5])"
   ]
  },
  {
   "cell_type": "code",
   "execution_count": 55,
   "metadata": {
    "execution": {
     "iopub.execute_input": "2021-07-20T04:11:32.261373Z",
     "iopub.status.busy": "2021-07-20T04:11:32.260714Z",
     "iopub.status.idle": "2021-07-20T04:11:32.279327Z",
     "shell.execute_reply": "2021-07-20T04:11:32.279816Z",
     "shell.execute_reply.started": "2021-07-20T04:08:52.561876Z"
    },
    "papermill": {
     "duration": 0.079201,
     "end_time": "2021-07-20T04:11:32.279981",
     "exception": false,
     "start_time": "2021-07-20T04:11:32.200780",
     "status": "completed"
    },
    "tags": []
   },
   "outputs": [
    {
     "data": {
      "text/html": [
       "<div>\n",
       "<style scoped>\n",
       "    .dataframe tbody tr th:only-of-type {\n",
       "        vertical-align: middle;\n",
       "    }\n",
       "\n",
       "    .dataframe tbody tr th {\n",
       "        vertical-align: top;\n",
       "    }\n",
       "\n",
       "    .dataframe thead th {\n",
       "        text-align: right;\n",
       "    }\n",
       "</style>\n",
       "<table border=\"1\" class=\"dataframe\">\n",
       "  <thead>\n",
       "    <tr style=\"text-align: right;\">\n",
       "      <th></th>\n",
       "      <th>age</th>\n",
       "      <th>Medu</th>\n",
       "      <th>Fedu</th>\n",
       "      <th>traveltime</th>\n",
       "      <th>studytime</th>\n",
       "      <th>failures</th>\n",
       "      <th>famrel</th>\n",
       "      <th>freetime</th>\n",
       "      <th>goout</th>\n",
       "      <th>Dalc</th>\n",
       "      <th>...</th>\n",
       "      <th>schoolsup_1</th>\n",
       "      <th>famsup_1</th>\n",
       "      <th>paid_1</th>\n",
       "      <th>activities_1</th>\n",
       "      <th>nursery_1</th>\n",
       "      <th>higher_1</th>\n",
       "      <th>internet_1</th>\n",
       "      <th>romantic_1</th>\n",
       "      <th>Good_Student</th>\n",
       "      <th>is_Good_Student_predicted</th>\n",
       "    </tr>\n",
       "  </thead>\n",
       "  <tbody>\n",
       "    <tr>\n",
       "      <th>0</th>\n",
       "      <td>18</td>\n",
       "      <td>4</td>\n",
       "      <td>4</td>\n",
       "      <td>2</td>\n",
       "      <td>2</td>\n",
       "      <td>0</td>\n",
       "      <td>4</td>\n",
       "      <td>3</td>\n",
       "      <td>4</td>\n",
       "      <td>1</td>\n",
       "      <td>...</td>\n",
       "      <td>1</td>\n",
       "      <td>0</td>\n",
       "      <td>0</td>\n",
       "      <td>0</td>\n",
       "      <td>1</td>\n",
       "      <td>1</td>\n",
       "      <td>0</td>\n",
       "      <td>0</td>\n",
       "      <td>0</td>\n",
       "      <td>0</td>\n",
       "    </tr>\n",
       "    <tr>\n",
       "      <th>1</th>\n",
       "      <td>17</td>\n",
       "      <td>1</td>\n",
       "      <td>1</td>\n",
       "      <td>1</td>\n",
       "      <td>2</td>\n",
       "      <td>0</td>\n",
       "      <td>5</td>\n",
       "      <td>3</td>\n",
       "      <td>3</td>\n",
       "      <td>1</td>\n",
       "      <td>...</td>\n",
       "      <td>0</td>\n",
       "      <td>1</td>\n",
       "      <td>0</td>\n",
       "      <td>0</td>\n",
       "      <td>0</td>\n",
       "      <td>1</td>\n",
       "      <td>1</td>\n",
       "      <td>0</td>\n",
       "      <td>0</td>\n",
       "      <td>0</td>\n",
       "    </tr>\n",
       "    <tr>\n",
       "      <th>3</th>\n",
       "      <td>15</td>\n",
       "      <td>4</td>\n",
       "      <td>2</td>\n",
       "      <td>1</td>\n",
       "      <td>3</td>\n",
       "      <td>0</td>\n",
       "      <td>3</td>\n",
       "      <td>2</td>\n",
       "      <td>2</td>\n",
       "      <td>1</td>\n",
       "      <td>...</td>\n",
       "      <td>0</td>\n",
       "      <td>1</td>\n",
       "      <td>1</td>\n",
       "      <td>1</td>\n",
       "      <td>1</td>\n",
       "      <td>1</td>\n",
       "      <td>1</td>\n",
       "      <td>1</td>\n",
       "      <td>0</td>\n",
       "      <td>0</td>\n",
       "    </tr>\n",
       "    <tr>\n",
       "      <th>4</th>\n",
       "      <td>16</td>\n",
       "      <td>3</td>\n",
       "      <td>3</td>\n",
       "      <td>1</td>\n",
       "      <td>2</td>\n",
       "      <td>0</td>\n",
       "      <td>4</td>\n",
       "      <td>3</td>\n",
       "      <td>2</td>\n",
       "      <td>1</td>\n",
       "      <td>...</td>\n",
       "      <td>0</td>\n",
       "      <td>1</td>\n",
       "      <td>1</td>\n",
       "      <td>0</td>\n",
       "      <td>1</td>\n",
       "      <td>1</td>\n",
       "      <td>0</td>\n",
       "      <td>0</td>\n",
       "      <td>0</td>\n",
       "      <td>0</td>\n",
       "    </tr>\n",
       "    <tr>\n",
       "      <th>5</th>\n",
       "      <td>16</td>\n",
       "      <td>4</td>\n",
       "      <td>3</td>\n",
       "      <td>1</td>\n",
       "      <td>2</td>\n",
       "      <td>0</td>\n",
       "      <td>5</td>\n",
       "      <td>4</td>\n",
       "      <td>2</td>\n",
       "      <td>1</td>\n",
       "      <td>...</td>\n",
       "      <td>0</td>\n",
       "      <td>1</td>\n",
       "      <td>1</td>\n",
       "      <td>1</td>\n",
       "      <td>1</td>\n",
       "      <td>1</td>\n",
       "      <td>1</td>\n",
       "      <td>0</td>\n",
       "      <td>0</td>\n",
       "      <td>0</td>\n",
       "    </tr>\n",
       "  </tbody>\n",
       "</table>\n",
       "<p>5 rows × 41 columns</p>\n",
       "</div>"
      ],
      "text/plain": [
       "   age  Medu  Fedu  traveltime  studytime  failures  famrel  freetime  goout  \\\n",
       "0   18     4     4           2          2         0       4         3      4   \n",
       "1   17     1     1           1          2         0       5         3      3   \n",
       "3   15     4     2           1          3         0       3         2      2   \n",
       "4   16     3     3           1          2         0       4         3      2   \n",
       "5   16     4     3           1          2         0       5         4      2   \n",
       "\n",
       "   Dalc  ...  schoolsup_1  famsup_1  paid_1  activities_1  nursery_1  \\\n",
       "0     1  ...            1         0       0             0          1   \n",
       "1     1  ...            0         1       0             0          0   \n",
       "3     1  ...            0         1       1             1          1   \n",
       "4     1  ...            0         1       1             0          1   \n",
       "5     1  ...            0         1       1             1          1   \n",
       "\n",
       "   higher_1  internet_1  romantic_1  Good_Student  is_Good_Student_predicted  \n",
       "0         1           0           0             0                          0  \n",
       "1         1           1           0             0                          0  \n",
       "3         1           1           1             0                          0  \n",
       "4         1           0           0             0                          0  \n",
       "5         1           1           0             0                          0  \n",
       "\n",
       "[5 rows x 41 columns]"
      ]
     },
     "execution_count": 55,
     "metadata": {},
     "output_type": "execute_result"
    }
   ],
   "source": [
    "# check the data in the form of dataframe\n",
    "final_with_pred_data = non_outlier_data.copy()\n",
    "final_with_pred_data['is_Good_Student_predicted'] = target_array_pred.reshape(-1,)\n",
    "final_with_pred_data.head(5)"
   ]
  },
  {
   "cell_type": "code",
   "execution_count": 56,
   "metadata": {
    "execution": {
     "iopub.execute_input": "2021-07-20T04:11:32.396947Z",
     "iopub.status.busy": "2021-07-20T04:11:32.396328Z",
     "iopub.status.idle": "2021-07-20T04:11:32.401897Z",
     "shell.execute_reply": "2021-07-20T04:11:32.402461Z",
     "shell.execute_reply.started": "2021-07-20T04:08:52.588174Z"
    },
    "papermill": {
     "duration": 0.065276,
     "end_time": "2021-07-20T04:11:32.402720",
     "exception": false,
     "start_time": "2021-07-20T04:11:32.337444",
     "status": "completed"
    },
    "tags": []
   },
   "outputs": [
    {
     "name": "stdout",
     "output_type": "stream",
     "text": [
      "Accuracy Training Data: 0.8594594594594595\n",
      "Accuracy Test Data: 0.851063829787234\n"
     ]
    }
   ],
   "source": [
    "# evaluate classification model - accuracy\n",
    "import sklearn.metrics as metrics\n",
    "accuracy_training = metrics.accuracy_score(y_train,y_train_pred)\n",
    "accuracy_test = metrics.accuracy_score(y_test,y_test_pred)\n",
    "\n",
    "print('Accuracy Training Data: {}'.format(accuracy_training))\n",
    "print('Accuracy Test Data: {}'.format(accuracy_test))"
   ]
  },
  {
   "cell_type": "code",
   "execution_count": 57,
   "metadata": {
    "execution": {
     "iopub.execute_input": "2021-07-20T04:11:32.524137Z",
     "iopub.status.busy": "2021-07-20T04:11:32.523569Z",
     "iopub.status.idle": "2021-07-20T04:11:32.531656Z",
     "shell.execute_reply": "2021-07-20T04:11:32.532212Z",
     "shell.execute_reply.started": "2021-07-20T04:08:52.596073Z"
    },
    "papermill": {
     "duration": 0.069652,
     "end_time": "2021-07-20T04:11:32.532401",
     "exception": false,
     "start_time": "2021-07-20T04:11:32.462749",
     "status": "completed"
    },
    "tags": []
   },
   "outputs": [
    {
     "name": "stdout",
     "output_type": "stream",
     "text": [
      "[[157   1]\n",
      " [ 25   2]]\n",
      "[[40  0]\n",
      " [ 7  0]]\n"
     ]
    }
   ],
   "source": [
    "from sklearn.metrics import confusion_matrix\n",
    "print(confusion_matrix(y_train,y_train_pred))\n",
    "print(confusion_matrix(y_test,y_test_pred))"
   ]
  }
 ],
 "metadata": {
  "kernelspec": {
   "display_name": "Python 3",
   "language": "python",
   "name": "python3"
  },
  "language_info": {
   "codemirror_mode": {
    "name": "ipython",
    "version": 3
   },
   "file_extension": ".py",
   "mimetype": "text/x-python",
   "name": "python",
   "nbconvert_exporter": "python",
   "pygments_lexer": "ipython3",
   "version": "3.6.12"
  },
  "papermill": {
   "default_parameters": {},
   "duration": 22.663697,
   "end_time": "2021-07-20T04:11:33.500196",
   "environment_variables": {},
   "exception": null,
   "input_path": "__notebook__.ipynb",
   "output_path": "__notebook__.ipynb",
   "parameters": {},
   "start_time": "2021-07-20T04:11:10.836499",
   "version": "2.3.3"
  }
 },
 "nbformat": 4,
 "nbformat_minor": 5
}
