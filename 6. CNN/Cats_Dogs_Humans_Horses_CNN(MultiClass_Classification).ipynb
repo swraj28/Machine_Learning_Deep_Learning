{
 "cells": [
  {
   "cell_type": "code",
   "execution_count": null,
   "metadata": {},
   "outputs": [],
   "source": [
    "## Colab link:- https://colab.research.google.com/drive/18unOJF2QepD29gl8YvGBX71bXAPD52V0"
   ]
  },
  {
   "cell_type": "code",
   "execution_count": 1,
   "metadata": {
    "colab": {
     "base_uri": "https://localhost:8080/"
    },
    "id": "9aUL32_pfH9Q",
    "outputId": "cb76066f-c981-460b-834f-242acc5b046d"
   },
   "outputs": [
    {
     "name": "stdout",
     "output_type": "stream",
     "text": [
      "Mon Dec 13 06:32:00 2021       \n",
      "+-----------------------------------------------------------------------------+\n",
      "| NVIDIA-SMI 495.44       Driver Version: 460.32.03    CUDA Version: 11.2     |\n",
      "|-------------------------------+----------------------+----------------------+\n",
      "| GPU  Name        Persistence-M| Bus-Id        Disp.A | Volatile Uncorr. ECC |\n",
      "| Fan  Temp  Perf  Pwr:Usage/Cap|         Memory-Usage | GPU-Util  Compute M. |\n",
      "|                               |                      |               MIG M. |\n",
      "|===============================+======================+======================|\n",
      "|   0  Tesla K80           Off  | 00000000:00:04.0 Off |                    0 |\n",
      "| N/A   72C    P8    34W / 149W |      0MiB / 11441MiB |      0%      Default |\n",
      "|                               |                      |                  N/A |\n",
      "+-------------------------------+----------------------+----------------------+\n",
      "                                                                               \n",
      "+-----------------------------------------------------------------------------+\n",
      "| Processes:                                                                  |\n",
      "|  GPU   GI   CI        PID   Type   Process name                  GPU Memory |\n",
      "|        ID   ID                                                   Usage      |\n",
      "|=============================================================================|\n",
      "|  No running processes found                                                 |\n",
      "+-----------------------------------------------------------------------------+\n"
     ]
    }
   ],
   "source": [
    "!nvidia-smi"
   ]
  },
  {
   "cell_type": "code",
   "execution_count": 2,
   "metadata": {
    "colab": {
     "base_uri": "https://localhost:8080/"
    },
    "id": "33YM6nJ-FZ_E",
    "outputId": "d0aa5ea9-aaee-4e04-fbdd-84cc937046de"
   },
   "outputs": [
    {
     "name": "stdout",
     "output_type": "stream",
     "text": [
      "--2021-12-13 06:32:01--  https://www.dropbox.com/sh/2idnozs4741hzkr/AABXTlPlU-1f4L_VdS4wY06ca?dl=0\n",
      "Resolving www.dropbox.com (www.dropbox.com)... 162.125.81.18, 2620:100:6030:18::a27d:5012\n",
      "Connecting to www.dropbox.com (www.dropbox.com)|162.125.81.18|:443... connected.\n",
      "HTTP request sent, awaiting response... 301 Moved Permanently\n",
      "Location: /sh/raw/2idnozs4741hzkr/AABXTlPlU-1f4L_VdS4wY06ca [following]\n",
      "--2021-12-13 06:32:02--  https://www.dropbox.com/sh/raw/2idnozs4741hzkr/AABXTlPlU-1f4L_VdS4wY06ca\n",
      "Reusing existing connection to www.dropbox.com:443.\n",
      "HTTP request sent, awaiting response... 302 Found\n",
      "Location: https://uc3df7d92f10172abd47c8192c7f.dl.dropboxusercontent.com/zip_download_get/A_J5uOvRohiaDl4T6k945z1ePR-JiYbf3Rf8XblD5uoUhD0xhpRtgZFDueRz5kBIWQCqhfCd9FiUKwyytuMJEyqF9243cTlmm67n8HcpP99o5Q# [following]\n",
      "--2021-12-13 06:32:02--  https://uc3df7d92f10172abd47c8192c7f.dl.dropboxusercontent.com/zip_download_get/A_J5uOvRohiaDl4T6k945z1ePR-JiYbf3Rf8XblD5uoUhD0xhpRtgZFDueRz5kBIWQCqhfCd9FiUKwyytuMJEyqF9243cTlmm67n8HcpP99o5Q\n",
      "Resolving uc3df7d92f10172abd47c8192c7f.dl.dropboxusercontent.com (uc3df7d92f10172abd47c8192c7f.dl.dropboxusercontent.com)... 162.125.81.15, 2620:100:6035:15::a27d:550f\n",
      "Connecting to uc3df7d92f10172abd47c8192c7f.dl.dropboxusercontent.com (uc3df7d92f10172abd47c8192c7f.dl.dropboxusercontent.com)|162.125.81.15|:443... connected.\n",
      "HTTP request sent, awaiting response... 200 OK\n",
      "Length: 20870908 (20M) [application/zip]\n",
      "Saving to: ‘AABXTlPlU-1f4L_VdS4wY06ca?dl=0’\n",
      "\n",
      "AABXTlPlU-1f4L_VdS4 100%[===================>]  19.90M  3.66MB/s    in 6.0s    \n",
      "\n",
      "2021-12-13 06:32:10 (3.29 MB/s) - ‘AABXTlPlU-1f4L_VdS4wY06ca?dl=0’ saved [20870908/20870908]\n",
      "\n"
     ]
    }
   ],
   "source": [
    "!wget https://www.dropbox.com/sh/2idnozs4741hzkr/AABXTlPlU-1f4L_VdS4wY06ca?dl=0"
   ]
  },
  {
   "cell_type": "code",
   "execution_count": 3,
   "metadata": {
    "colab": {
     "base_uri": "https://localhost:8080/"
    },
    "id": "fKzKMVXLYEuL",
    "outputId": "70a383a4-3338-49a9-ef49-2048df72ce75"
   },
   "outputs": [
    {
     "name": "stdout",
     "output_type": "stream",
     "text": [
      "Archive:  AABXTlPlU-1f4L_VdS4wY06ca?dl=0\n",
      "warning:  stripped absolute path spec from /\n",
      "mapname:  conversion of  failed\n",
      "   creating: Images/\n",
      "   creating: Images/cats/\n",
      "   creating: Images/dogs/\n",
      "   creating: Images/horses/\n",
      "   creating: Images/humans/\n",
      " extracting: Images/cats/cat.3.jpg   \n",
      " extracting: Images/dogs/dog.3.jpg   \n",
      " extracting: Images/cats/cat.8.jpg   \n",
      " extracting: Images/dogs/dog.8.jpg   \n",
      " extracting: Images/cats/cat.5.jpg   \n",
      " extracting: Images/dogs/dog.5.jpg   \n",
      " extracting: Images/cats/cat.6.jpg   \n",
      " extracting: Images/dogs/dog.2.jpg   \n",
      " extracting: Images/dogs/dog.9.jpg   \n",
      " extracting: Images/dogs/dog.4.jpg   \n",
      " extracting: Images/cats/cat.1.jpg   \n",
      " extracting: Images/cats/cat.9.jpg   \n",
      " extracting: Images/dogs/dog.7.jpg   \n",
      " extracting: Images/cats/cat.4.jpg   \n",
      " extracting: Images/dogs/dog.6.jpg   \n",
      " extracting: Images/cats/cat.7.jpg   \n",
      " extracting: Images/dogs/dog.1.jpg   \n",
      " extracting: Images/cats/cat.2.jpg   \n",
      " extracting: Images/dogs/dog.82.jpg  \n",
      " extracting: Images/cats/cat.75.jpg  \n",
      " extracting: Images/cats/cat.45.jpg  \n",
      " extracting: Images/dogs/dog.51.jpg  \n",
      " extracting: Images/dogs/dog.43.jpg  \n",
      " extracting: Images/cats/cat.30.jpg  \n",
      " extracting: Images/dogs/dog.79.jpg  \n",
      " extracting: Images/cats/cat.44.jpg  \n",
      " extracting: Images/dogs/dog.38.jpg  \n",
      " extracting: Images/dogs/dog.29.jpg  \n",
      " extracting: Images/dogs/dog.71.jpg  \n",
      " extracting: Images/dogs/dog.99.jpg  \n",
      " extracting: Images/cats/cat.86.jpg  \n",
      " extracting: Images/dogs/dog.13.jpg  \n",
      " extracting: Images/dogs/dog.48.jpg  \n",
      " extracting: Images/dogs/dog.55.jpg  \n",
      " extracting: Images/dogs/dog.20.jpg  \n",
      " extracting: Images/dogs/dog.94.jpg  \n",
      " extracting: Images/dogs/dog.80.jpg  \n",
      " extracting: Images/cats/cat.49.jpg  \n",
      " extracting: Images/cats/cat.53.jpg  \n",
      " extracting: Images/cats/cat.25.jpg  \n",
      " extracting: Images/dogs/dog.32.jpg  \n",
      " extracting: Images/dogs/dog.46.jpg  \n",
      " extracting: Images/dogs/dog.92.jpg  \n",
      " extracting: Images/cats/cat.60.jpg  \n",
      " extracting: Images/dogs/dog.87.jpg  \n",
      " extracting: Images/cats/cat.33.jpg  \n",
      " extracting: Images/dogs/dog.63.jpg  \n",
      " extracting: Images/dogs/dog.50.jpg  \n",
      " extracting: Images/cats/cat.43.jpg  \n",
      " extracting: Images/cats/cat.57.jpg  \n",
      " extracting: Images/cats/cat.99.jpg  \n",
      " extracting: Images/dogs/dog.78.jpg  \n",
      " extracting: Images/cats/cat.54.jpg  \n",
      " extracting: Images/cats/cat.95.jpg  \n",
      " extracting: Images/dogs/dog.56.jpg  \n",
      " extracting: Images/dogs/dog.11.jpg  \n",
      " extracting: Images/cats/cat.73.jpg  \n",
      " extracting: Images/dogs/dog.67.jpg  \n",
      " extracting: Images/cats/cat.11.jpg  \n",
      " extracting: Images/cats/cat.84.jpg  \n",
      " extracting: Images/cats/cat.61.jpg  \n",
      " extracting: Images/cats/cat.59.jpg  \n",
      " extracting: Images/dogs/dog.93.jpg  \n",
      " extracting: Images/dogs/dog.16.jpg  \n",
      " extracting: Images/dogs/dog.19.jpg  \n",
      " extracting: Images/cats/cat.52.jpg  \n",
      " extracting: Images/cats/cat.68.jpg  \n",
      " extracting: Images/cats/cat.79.jpg  \n",
      " extracting: Images/dogs/dog.91.jpg  \n",
      " extracting: Images/cats/cat.70.jpg  \n",
      " extracting: Images/cats/cat.88.jpg  \n",
      " extracting: Images/cats/cat.91.jpg  \n",
      " extracting: Images/dogs/dog.17.jpg  \n",
      " extracting: Images/dogs/dog.88.jpg  \n",
      " extracting: Images/cats/cat.67.jpg  \n",
      " extracting: Images/dogs/dog.44.jpg  \n",
      " extracting: Images/dogs/dog.62.jpg  \n",
      " extracting: Images/cats/cat.18.jpg  \n",
      " extracting: Images/dogs/dog.54.jpg  \n",
      " extracting: Images/cats/cat.76.jpg  \n",
      " extracting: Images/cats/cat.81.jpg  \n",
      " extracting: Images/dogs/dog.31.jpg  \n",
      " extracting: Images/dogs/dog.37.jpg  \n",
      " extracting: Images/dogs/dog.72.jpg  \n",
      " extracting: Images/cats/cat.80.jpg  \n",
      " extracting: Images/dogs/dog.10.jpg  \n",
      " extracting: Images/cats/cat.39.jpg  \n",
      " extracting: Images/cats/cat.21.jpg  \n",
      " extracting: Images/dogs/dog.73.jpg  \n",
      " extracting: Images/cats/cat.50.jpg  \n",
      " extracting: Images/dogs/dog.95.jpg  \n",
      " extracting: Images/cats/cat.89.jpg  \n",
      " extracting: Images/dogs/dog.74.jpg  \n",
      " extracting: Images/dogs/dog.64.jpg  \n",
      " extracting: Images/dogs/dog.36.jpg  \n",
      " extracting: Images/dogs/dog.40.jpg  \n",
      " extracting: Images/cats/cat.83.jpg  \n",
      " extracting: Images/dogs/dog.18.jpg  \n",
      " extracting: Images/dogs/dog.84.jpg  \n",
      " extracting: Images/dogs/dog.90.jpg  \n",
      " extracting: Images/cats/cat.28.jpg  \n",
      " extracting: Images/cats/cat.10.jpg  \n",
      " extracting: Images/dogs/dog.89.jpg  \n",
      " extracting: Images/dogs/dog.69.jpg  \n",
      " extracting: Images/cats/cat.85.jpg  \n",
      " extracting: Images/cats/cat.58.jpg  \n",
      " extracting: Images/dogs/dog.30.jpg  \n",
      " extracting: Images/cats/cat.24.jpg  \n",
      " extracting: Images/cats/cat.51.jpg  \n",
      " extracting: Images/cats/cat.71.jpg  \n",
      " extracting: Images/cats/cat.29.jpg  \n",
      " extracting: Images/dogs/dog.26.jpg  \n",
      " extracting: Images/cats/cat.20.jpg  \n",
      " extracting: Images/cats/cat.77.jpg  \n",
      " extracting: Images/dogs/dog.53.jpg  \n",
      " extracting: Images/cats/cat.15.jpg  \n",
      " extracting: Images/cats/cat.17.jpg  \n",
      " extracting: Images/dogs/dog.75.jpg  \n",
      " extracting: Images/dogs/dog.85.jpg  \n",
      " extracting: Images/dogs/dog.68.jpg  \n",
      " extracting: Images/dogs/dog.25.jpg  \n",
      " extracting: Images/cats/cat.96.jpg  \n",
      " extracting: Images/cats/cat.23.jpg  \n",
      " extracting: Images/cats/cat.35.jpg  \n",
      " extracting: Images/cats/cat.38.jpg  \n",
      " extracting: Images/cats/cat.19.jpg  \n",
      " extracting: Images/dogs/dog.45.jpg  \n",
      " extracting: Images/cats/cat.66.jpg  \n",
      " extracting: Images/cats/cat.31.jpg  \n",
      " extracting: Images/dogs/dog.47.jpg  \n",
      " extracting: Images/dogs/dog.52.jpg  \n",
      " extracting: Images/cats/cat.32.jpg  \n",
      " extracting: Images/cats/cat.46.jpg  \n",
      " extracting: Images/dogs/dog.96.jpg  \n",
      " extracting: Images/dogs/dog.77.jpg  \n",
      " extracting: Images/dogs/dog.65.jpg  \n",
      " extracting: Images/cats/cat.56.jpg  \n",
      " extracting: Images/dogs/dog.41.jpg  \n",
      " extracting: Images/cats/cat.92.jpg  \n",
      " extracting: Images/dogs/dog.22.jpg  \n",
      " extracting: Images/dogs/dog.70.jpg  \n",
      " extracting: Images/cats/cat.34.jpg  \n",
      " extracting: Images/cats/cat.94.jpg  \n",
      " extracting: Images/dogs/dog.59.jpg  \n",
      " extracting: Images/cats/cat.62.jpg  \n",
      " extracting: Images/dogs/dog.60.jpg  \n",
      " extracting: Images/cats/cat.47.jpg  \n",
      " extracting: Images/cats/cat.22.jpg  \n",
      " extracting: Images/cats/cat.55.jpg  \n",
      " extracting: Images/cats/cat.64.jpg  \n",
      " extracting: Images/cats/cat.87.jpg  \n",
      " extracting: Images/cats/cat.41.jpg  \n",
      " extracting: Images/dogs/dog.58.jpg  \n",
      " extracting: Images/dogs/dog.97.jpg  \n",
      " extracting: Images/dogs/dog.76.jpg  \n",
      " extracting: Images/cats/cat.36.jpg  \n",
      " extracting: Images/dogs/dog.23.jpg  \n",
      " extracting: Images/dogs/dog.49.jpg  \n",
      " extracting: Images/cats/cat.13.jpg  \n",
      " extracting: Images/cats/cat.82.jpg  \n",
      " extracting: Images/cats/cat.97.jpg  \n",
      " extracting: Images/dogs/dog.15.jpg  \n",
      " extracting: Images/cats/cat.93.jpg  \n",
      " extracting: Images/dogs/dog.24.jpg  \n",
      " extracting: Images/cats/cat.63.jpg  \n",
      " extracting: Images/dogs/dog.42.jpg  \n",
      " extracting: Images/dogs/dog.39.jpg  \n",
      " extracting: Images/dogs/dog.83.jpg  \n",
      " extracting: Images/cats/cat.69.jpg  \n",
      " extracting: Images/dogs/dog.98.jpg  \n",
      " extracting: Images/cats/cat.98.jpg  \n",
      " extracting: Images/dogs/dog.35.jpg  \n",
      " extracting: Images/cats/cat.26.jpg  \n",
      " extracting: Images/cats/cat.48.jpg  \n",
      " extracting: Images/dogs/dog.14.jpg  \n",
      " extracting: Images/cats/cat.42.jpg  \n",
      " extracting: Images/cats/cat.40.jpg  \n",
      " extracting: Images/cats/cat.37.jpg  \n",
      " extracting: Images/dogs/dog.33.jpg  \n",
      " extracting: Images/dogs/dog.86.jpg  \n",
      " extracting: Images/cats/cat.72.jpg  \n",
      " extracting: Images/dogs/dog.81.jpg  \n",
      " extracting: Images/dogs/dog.21.jpg  \n",
      " extracting: Images/cats/cat.65.jpg  \n",
      " extracting: Images/cats/cat.74.jpg  \n",
      " extracting: Images/dogs/dog.57.jpg  \n",
      " extracting: Images/dogs/dog.12.jpg  \n",
      " extracting: Images/dogs/dog.28.jpg  \n",
      " extracting: Images/cats/cat.16.jpg  \n",
      " extracting: Images/cats/cat.14.jpg  \n",
      " extracting: Images/cats/cat.90.jpg  \n",
      " extracting: Images/dogs/dog.66.jpg  \n",
      " extracting: Images/cats/cat.78.jpg  \n",
      " extracting: Images/dogs/dog.61.jpg  \n",
      " extracting: Images/cats/cat.27.jpg  \n",
      " extracting: Images/dogs/dog.27.jpg  \n",
      " extracting: Images/dogs/dog.34.jpg  \n",
      " extracting: Images/cats/cat.12.jpg  \n",
      " extracting: Images/dogs/dog.120.jpg  \n",
      " extracting: Images/dogs/dog.115.jpg  \n",
      " extracting: Images/cats/cat.200.jpg  \n",
      " extracting: Images/dogs/dog.168.jpg  \n",
      " extracting: Images/cats/cat.198.jpg  \n",
      " extracting: Images/dogs/dog.197.jpg  \n",
      " extracting: Images/dogs/dog.134.jpg  \n",
      " extracting: Images/cats/cat.102.jpg  \n",
      " extracting: Images/dogs/dog.133.jpg  \n",
      " extracting: Images/cats/cat.113.jpg  \n",
      " extracting: Images/cats/cat.171.jpg  \n",
      " extracting: Images/cats/cat.103.jpg  \n",
      " extracting: Images/cats/cat.193.jpg  \n",
      " extracting: Images/dogs/dog.163.jpg  \n",
      " extracting: Images/cats/cat.117.jpg  \n",
      " extracting: Images/cats/cat.174.jpg  \n",
      " extracting: Images/dogs/dog.142.jpg  \n",
      " extracting: Images/cats/cat.124.jpg  \n",
      " extracting: Images/cats/cat.151.jpg  \n",
      " extracting: Images/dogs/dog.150.jpg  \n",
      " extracting: Images/dogs/dog.155.jpg  \n",
      " extracting: Images/dogs/dog.102.jpg  \n",
      " extracting: Images/cats/cat.125.jpg  \n",
      " extracting: Images/cats/cat.137.jpg  \n",
      " extracting: Images/dogs/dog.185.jpg  \n",
      " extracting: Images/cats/cat.177.jpg  \n",
      " extracting: Images/dogs/dog.144.jpg  \n",
      " extracting: Images/cats/cat.197.jpg  \n",
      " extracting: Images/cats/cat.119.jpg  \n",
      " extracting: Images/dogs/dog.156.jpg  \n",
      " extracting: Images/cats/cat.127.jpg  \n",
      " extracting: Images/cats/cat.183.jpg  \n",
      " extracting: Images/cats/cat.190.jpg  \n",
      " extracting: Images/dogs/dog.174.jpg  \n",
      " extracting: Images/cats/cat.156.jpg  \n",
      " extracting: Images/dogs/dog.126.jpg  \n",
      " extracting: Images/cats/cat.175.jpg  \n",
      " extracting: Images/cats/cat.178.jpg  \n",
      " extracting: Images/dogs/dog.195.jpg  \n",
      " extracting: Images/cats/cat.123.jpg  \n",
      " extracting: Images/dogs/dog.113.jpg  \n",
      " extracting: Images/dogs/dog.103.jpg  \n",
      " extracting: Images/cats/cat.168.jpg  \n",
      " extracting: Images/dogs/dog.121.jpg  \n",
      " extracting: Images/cats/cat.140.jpg  \n",
      " extracting: Images/cats/cat.154.jpg  \n",
      " extracting: Images/dogs/dog.196.jpg  \n",
      " extracting: Images/dogs/dog.135.jpg  \n",
      " extracting: Images/cats/cat.104.jpg  \n",
      " extracting: Images/cats/cat.184.jpg  \n",
      " extracting: Images/cats/cat.201.jpg  \n",
      " extracting: Images/cats/cat.196.jpg  \n",
      " extracting: Images/cats/cat.166.jpg  \n",
      " extracting: Images/cats/cat.188.jpg  \n",
      " extracting: Images/cats/cat.162.jpg  \n",
      " extracting: Images/dogs/dog.108.jpg  \n",
      " extracting: Images/cats/cat.133.jpg  \n",
      " extracting: Images/dogs/dog.173.jpg  \n",
      " extracting: Images/cats/cat.134.jpg  \n",
      " extracting: Images/cats/cat.182.jpg  \n",
      " extracting: Images/dogs/dog.169.jpg  \n",
      " extracting: Images/cats/cat.199.jpg  \n",
      " extracting: Images/dogs/dog.166.jpg  \n",
      " extracting: Images/dogs/dog.159.jpg  \n",
      " extracting: Images/cats/cat.122.jpg  \n",
      " extracting: Images/dogs/dog.130.jpg  \n",
      " extracting: Images/cats/cat.107.jpg  \n",
      " extracting: Images/dogs/dog.178.jpg  \n",
      " extracting: Images/dogs/dog.175.jpg  \n",
      " extracting: Images/dogs/dog.116.jpg  \n",
      " extracting: Images/cats/cat.150.jpg  \n",
      " extracting: Images/dogs/dog.145.jpg  \n",
      " extracting: Images/dogs/dog.151.jpg  \n",
      " extracting: Images/dogs/dog.112.jpg  \n",
      " extracting: Images/dogs/dog.194.jpg  \n",
      " extracting: Images/dogs/dog.160.jpg  \n",
      " extracting: Images/cats/cat.142.jpg  \n",
      " extracting: Images/cats/cat.118.jpg  \n",
      " extracting: Images/cats/cat.164.jpg  \n",
      " extracting: Images/cats/cat.141.jpg  \n",
      " extracting: Images/cats/cat.179.jpg  \n",
      " extracting: Images/cats/cat.155.jpg  \n",
      " extracting: Images/cats/cat.116.jpg  \n",
      " extracting: Images/cats/cat.195.jpg  \n",
      " extracting: Images/dogs/dog.119.jpg  \n",
      " extracting: Images/cats/cat.189.jpg  \n",
      " extracting: Images/dogs/dog.146.jpg  \n",
      " extracting: Images/cats/cat.159.jpg  \n",
      " extracting: Images/cats/cat.110.jpg  \n",
      " extracting: Images/dogs/dog.179.jpg  \n",
      " extracting: Images/cats/cat.144.jpg  \n",
      " extracting: Images/dogs/dog.172.jpg  \n",
      " extracting: Images/cats/cat.147.jpg  \n",
      " extracting: Images/dogs/dog.186.jpg  \n",
      " extracting: Images/cats/cat.120.jpg  \n",
      " extracting: Images/cats/cat.187.jpg  \n",
      " extracting: Images/dogs/dog.109.jpg  \n",
      " extracting: Images/dogs/dog.191.jpg  \n",
      " extracting: Images/dogs/dog.180.jpg  \n",
      " extracting: Images/dogs/dog.127.jpg  \n",
      " extracting: Images/dogs/dog.111.jpg  \n",
      " extracting: Images/dogs/dog.158.jpg  \n",
      " extracting: Images/dogs/dog.100.jpg  \n",
      " extracting: Images/dogs/dog.125.jpg  \n",
      " extracting: Images/cats/cat.176.jpg  \n",
      " extracting: Images/dogs/dog.176.jpg  \n",
      " extracting: Images/dogs/dog.167.jpg  \n",
      " extracting: Images/dogs/dog.117.jpg  \n",
      " extracting: Images/cats/cat.163.jpg  \n",
      " extracting: Images/cats/cat.126.jpg  \n",
      " extracting: Images/cats/cat.202.jpg  \n",
      " extracting: Images/cats/cat.167.jpg  \n",
      " extracting: Images/dogs/dog.136.jpg  \n",
      " extracting: Images/dogs/dog.128.jpg  \n",
      " extracting: Images/dogs/dog.161.jpg  \n",
      " extracting: Images/dogs/dog.157.jpg  \n",
      " extracting: Images/cats/cat.143.jpg  \n",
      " extracting: Images/dogs/dog.181.jpg  \n",
      " extracting: Images/dogs/dog.201.jpg  \n",
      " extracting: Images/dogs/dog.183.jpg  \n",
      " extracting: Images/dogs/dog.202.jpg  \n",
      " extracting: Images/dogs/dog.170.jpg  \n",
      " extracting: Images/cats/cat.153.jpg  \n",
      " extracting: Images/cats/cat.128.jpg  \n",
      " extracting: Images/dogs/dog.131.jpg  \n",
      " extracting: Images/dogs/dog.140.jpg  \n",
      " extracting: Images/dogs/dog.190.jpg  \n",
      " extracting: Images/dogs/dog.124.jpg  \n",
      " extracting: Images/dogs/dog.129.jpg  \n",
      " extracting: Images/dogs/dog.118.jpg  \n",
      " extracting: Images/dogs/dog.147.jpg  \n",
      " extracting: Images/cats/cat.121.jpg  \n",
      " extracting: Images/cats/cat.181.jpg  \n",
      " extracting: Images/cats/cat.186.jpg  \n",
      " extracting: Images/cats/cat.135.jpg  \n",
      " extracting: Images/cats/cat.158.jpg  \n",
      " extracting: Images/dogs/dog.148.jpg  \n",
      " extracting: Images/dogs/dog.137.jpg  \n",
      " extracting: Images/cats/cat.111.jpg  \n",
      " extracting: Images/cats/cat.146.jpg  \n",
      " extracting: Images/cats/cat.160.jpg  \n",
      " extracting: Images/dogs/dog.101.jpg  \n",
      " extracting: Images/dogs/dog.122.jpg  \n",
      " extracting: Images/dogs/dog.149.jpg  \n",
      " extracting: Images/cats/cat.192.jpg  \n",
      " extracting: Images/cats/cat.165.jpg  \n",
      " extracting: Images/cats/cat.173.jpg  \n",
      " extracting: Images/dogs/dog.199.jpg  \n",
      " extracting: Images/dogs/dog.154.jpg  \n",
      " extracting: Images/cats/cat.194.jpg  \n",
      " extracting: Images/dogs/dog.187.jpg  \n",
      " extracting: Images/cats/cat.157.jpg  \n",
      " extracting: Images/dogs/dog.152.jpg  \n",
      " extracting: Images/dogs/dog.200.jpg  \n",
      " extracting: Images/cats/cat.152.jpg  \n",
      " extracting: Images/dogs/dog.110.jpg  \n",
      " extracting: Images/dogs/dog.188.jpg  \n",
      " extracting: Images/cats/cat.106.jpg  \n",
      " extracting: Images/cats/cat.109.jpg  \n",
      " extracting: Images/cats/cat.185.jpg  \n",
      " extracting: Images/dogs/dog.164.jpg  \n",
      " extracting: Images/dogs/dog.192.jpg  \n",
      " extracting: Images/dogs/dog.182.jpg  \n",
      " extracting: Images/cats/cat.131.jpg  \n",
      " extracting: Images/dogs/dog.104.jpg  \n",
      " extracting: Images/dogs/dog.138.jpg  \n",
      " extracting: Images/cats/cat.149.jpg  \n",
      " extracting: Images/dogs/dog.105.jpg  \n",
      " extracting: Images/dogs/dog.177.jpg  \n",
      " extracting: Images/cats/cat.105.jpg  \n",
      " extracting: Images/cats/cat.180.jpg  \n",
      " extracting: Images/cats/cat.112.jpg  \n",
      " extracting: Images/cats/cat.130.jpg  \n",
      " extracting: Images/dogs/dog.114.jpg  \n",
      " extracting: Images/cats/cat.132.jpg  \n",
      " extracting: Images/dogs/dog.132.jpg  \n",
      " extracting: Images/cats/cat.114.jpg  \n",
      " extracting: Images/cats/cat.100.jpg  \n",
      " extracting: Images/cats/cat.136.jpg  \n",
      " extracting: Images/dogs/dog.193.jpg  \n",
      " extracting: Images/dogs/dog.198.jpg  \n",
      " extracting: Images/cats/cat.108.jpg  \n",
      " extracting: Images/cats/cat.172.jpg  \n",
      " extracting: Images/cats/cat.139.jpg  \n",
      " extracting: Images/cats/cat.161.jpg  \n",
      " extracting: Images/dogs/dog.153.jpg  \n",
      " extracting: Images/cats/cat.169.jpg  \n",
      " extracting: Images/dogs/dog.123.jpg  \n",
      " extracting: Images/dogs/dog.141.jpg  \n",
      " extracting: Images/cats/cat.115.jpg  \n",
      " extracting: Images/cats/cat.170.jpg  \n",
      " extracting: Images/cats/cat.138.jpg  \n",
      " extracting: Images/dogs/dog.143.jpg  \n",
      " extracting: Images/dogs/dog.162.jpg  \n",
      " extracting: Images/cats/cat.191.jpg  \n",
      " extracting: Images/dogs/dog.189.jpg  \n",
      " extracting: Images/cats/cat.129.jpg  \n",
      " extracting: Images/dogs/dog.106.jpg  \n",
      " extracting: Images/dogs/dog.139.jpg  \n",
      " extracting: Images/cats/cat.145.jpg  \n",
      " extracting: Images/dogs/dog.107.jpg  \n",
      " extracting: Images/cats/cat.148.jpg  \n",
      " extracting: Images/cats/cat.101.jpg  \n",
      " extracting: Images/dogs/dog.184.jpg  \n",
      " extracting: Images/dogs/dog.171.jpg  \n",
      " extracting: Images/dogs/dog.165.jpg  \n",
      " extracting: Images/humans/rider-4.jpg  \n",
      " extracting: Images/horses/horse-1.jpg  \n",
      " extracting: Images/humans/rider-2.jpg  \n",
      " extracting: Images/horses/horse-5.jpg  \n",
      " extracting: Images/horses/horse-3.jpg  \n",
      " extracting: Images/horses/horse-4.jpg  \n",
      " extracting: Images/horses/horse-9.jpg  \n",
      " extracting: Images/humans/rider-3.jpg  \n",
      " extracting: Images/humans/rider-7.jpg  \n",
      " extracting: Images/horses/horse-2.jpg  \n",
      " extracting: Images/horses/horse-8.jpg  \n",
      " extracting: Images/humans/rider-9.jpg  \n",
      " extracting: Images/humans/rider-6.jpg  \n",
      " extracting: Images/humans/rider-1.jpg  \n",
      " extracting: Images/horses/horse-7.jpg  \n",
      " extracting: Images/humans/rider-8.jpg  \n",
      " extracting: Images/humans/rider-5.jpg  \n",
      " extracting: Images/horses/horse-6.jpg  \n",
      " extracting: Images/humans/rider-74.jpg  \n",
      " extracting: Images/horses/horse-45.jpg  \n",
      " extracting: Images/humans/rider-68.jpg  \n",
      " extracting: Images/horses/horse-27.jpg  \n",
      " extracting: Images/horses/horse-36.jpg  \n",
      " extracting: Images/humans/rider-81.jpg  \n",
      " extracting: Images/humans/rider-95.jpg  \n",
      " extracting: Images/humans/rider-98.jpg  \n",
      " extracting: Images/horses/horse-73.jpg  \n",
      " extracting: Images/humans/rider-73.jpg  \n",
      " extracting: Images/humans/rider-63.jpg  \n",
      " extracting: Images/horses/horse-46.jpg  \n",
      " extracting: Images/horses/horse-79.jpg  \n",
      " extracting: Images/horses/horse-68.jpg  \n",
      " extracting: Images/horses/horse-29.jpg  \n",
      " extracting: Images/horses/horse-40.jpg  \n",
      " extracting: Images/horses/horse-96.jpg  \n",
      " extracting: Images/horses/horse-82.jpg  \n",
      " extracting: Images/humans/rider-34.jpg  \n",
      " extracting: Images/horses/horse-74.jpg  \n",
      " extracting: Images/horses/horse-94.jpg  \n",
      " extracting: Images/humans/rider-66.jpg  \n",
      " extracting: Images/humans/rider-50.jpg  \n",
      " extracting: Images/horses/horse-69.jpg  \n",
      " extracting: Images/horses/horse-58.jpg  \n",
      " extracting: Images/humans/rider-48.jpg  \n",
      " extracting: Images/horses/horse-84.jpg  \n",
      " extracting: Images/humans/rider-26.jpg  \n",
      " extracting: Images/horses/horse-23.jpg  \n",
      " extracting: Images/horses/horse-99.jpg  \n",
      " extracting: Images/humans/rider-84.jpg  \n",
      " extracting: Images/humans/rider-80.jpg  \n",
      " extracting: Images/humans/rider-43.jpg  \n",
      " extracting: Images/horses/horse-13.jpg  \n",
      " extracting: Images/humans/rider-32.jpg  \n",
      " extracting: Images/horses/horse-28.jpg  \n",
      " extracting: Images/horses/horse-89.jpg  \n",
      " extracting: Images/horses/horse-12.jpg  \n",
      " extracting: Images/humans/rider-46.jpg  \n",
      " extracting: Images/horses/horse-32.jpg  \n",
      " extracting: Images/horses/horse-24.jpg  \n",
      " extracting: Images/humans/rider-27.jpg  \n",
      " extracting: Images/horses/horse-16.jpg  \n",
      " extracting: Images/horses/horse-75.jpg  \n",
      " extracting: Images/horses/horse-98.jpg  \n",
      " extracting: Images/horses/horse-95.jpg  \n",
      " extracting: Images/humans/rider-10.jpg  \n",
      " extracting: Images/horses/horse-54.jpg  \n",
      " extracting: Images/humans/rider-75.jpg  \n",
      " extracting: Images/humans/rider-16.jpg  \n",
      " extracting: Images/humans/rider-83.jpg  \n",
      " extracting: Images/humans/rider-96.jpg  \n",
      " extracting: Images/humans/rider-77.jpg  \n",
      " extracting: Images/horses/horse-93.jpg  \n",
      " extracting: Images/humans/rider-56.jpg  \n",
      " extracting: Images/humans/rider-99.jpg  \n",
      " extracting: Images/humans/rider-28.jpg  \n",
      " extracting: Images/humans/rider-85.jpg  \n",
      " extracting: Images/horses/horse-78.jpg  \n",
      " extracting: Images/horses/horse-49.jpg  \n",
      " extracting: Images/humans/rider-38.jpg  \n",
      " extracting: Images/horses/horse-67.jpg  \n",
      " extracting: Images/humans/rider-60.jpg  \n",
      " extracting: Images/humans/rider-33.jpg  \n",
      " extracting: Images/humans/rider-45.jpg  \n",
      " extracting: Images/humans/rider-51.jpg  \n",
      " extracting: Images/humans/rider-17.jpg  \n",
      " extracting: Images/horses/horse-61.jpg  \n",
      " extracting: Images/horses/horse-83.jpg  \n",
      " extracting: Images/horses/horse-51.jpg  \n",
      " extracting: Images/horses/horse-55.jpg  \n",
      " extracting: Images/humans/rider-88.jpg  \n",
      " extracting: Images/humans/rider-23.jpg  \n",
      " extracting: Images/humans/rider-15.jpg  \n",
      " extracting: Images/horses/horse-88.jpg  \n",
      " extracting: Images/horses/horse-77.jpg  \n",
      " extracting: Images/humans/rider-67.jpg  \n",
      " extracting: Images/humans/rider-57.jpg  \n",
      " extracting: Images/horses/horse-25.jpg  \n",
      " extracting: Images/humans/rider-76.jpg  \n",
      " extracting: Images/horses/horse-38.jpg  \n",
      " extracting: Images/horses/horse-47.jpg  \n",
      " extracting: Images/horses/horse-71.jpg  \n",
      " extracting: Images/horses/horse-11.jpg  \n",
      " extracting: Images/horses/horse-66.jpg  \n",
      " extracting: Images/horses/horse-87.jpg  \n",
      " extracting: Images/humans/rider-61.jpg  \n",
      " extracting: Images/horses/horse-53.jpg  \n",
      " extracting: Images/humans/rider-39.jpg  \n",
      " extracting: Images/horses/horse-48.jpg  \n",
      " extracting: Images/humans/rider-97.jpg  \n",
      " extracting: Images/humans/rider-70.jpg  \n",
      " extracting: Images/humans/rider-59.jpg  \n",
      " extracting: Images/humans/rider-11.jpg  \n",
      " extracting: Images/horses/horse-92.jpg  \n",
      " extracting: Images/humans/rider-40.jpg  \n",
      " extracting: Images/horses/horse-19.jpg  \n",
      " extracting: Images/horses/horse-70.jpg  \n",
      " extracting: Images/humans/rider-82.jpg  \n",
      " extracting: Images/horses/horse-10.jpg  \n",
      " extracting: Images/humans/rider-21.jpg  \n",
      " extracting: Images/humans/rider-36.jpg  \n",
      " extracting: Images/horses/horse-76.jpg  \n",
      " extracting: Images/humans/rider-22.jpg  \n",
      " extracting: Images/humans/rider-89.jpg  \n",
      " extracting: Images/humans/rider-14.jpg  \n",
      " extracting: Images/humans/rider-92.jpg  \n",
      " extracting: Images/horses/horse-60.jpg  \n",
      " extracting: Images/horses/horse-72.jpg  \n",
      " extracting: Images/humans/rider-29.jpg  \n",
      " extracting: Images/humans/rider-18.jpg  \n",
      " extracting: Images/horses/horse-57.jpg  \n",
      " extracting: Images/horses/horse-86.jpg  \n",
      " extracting: Images/humans/rider-24.jpg  \n",
      " extracting: Images/horses/horse-15.jpg  \n",
      " extracting: Images/humans/rider-93.jpg  \n",
      " extracting: Images/horses/horse-42.jpg  \n",
      " extracting: Images/humans/rider-47.jpg  \n",
      " extracting: Images/horses/horse-34.jpg  \n",
      " extracting: Images/humans/rider-86.jpg  \n",
      " extracting: Images/humans/rider-64.jpg  \n",
      " extracting: Images/horses/horse-39.jpg  \n",
      " extracting: Images/humans/rider-52.jpg  \n",
      " extracting: Images/horses/horse-30.jpg  \n",
      " extracting: Images/horses/horse-33.jpg  \n",
      " extracting: Images/horses/horse-21.jpg  \n",
      " extracting: Images/horses/horse-17.jpg  \n",
      " extracting: Images/humans/rider-41.jpg  \n",
      " extracting: Images/humans/rider-58.jpg  \n",
      " extracting: Images/horses/horse-18.jpg  \n",
      " extracting: Images/humans/rider-35.jpg  \n",
      " extracting: Images/humans/rider-71.jpg  \n",
      " extracting: Images/humans/rider-20.jpg  \n",
      " extracting: Images/humans/rider-69.jpg  \n",
      " extracting: Images/humans/rider-78.jpg  \n",
      " extracting: Images/horses/horse-43.jpg  \n",
      " extracting: Images/humans/rider-54.jpg  \n",
      " extracting: Images/humans/rider-30.jpg  \n",
      " extracting: Images/horses/horse-35.jpg  \n",
      " extracting: Images/humans/rider-90.jpg  \n",
      " extracting: Images/horses/horse-63.jpg  \n",
      " extracting: Images/humans/rider-91.jpg  \n",
      " extracting: Images/humans/rider-12.jpg  \n",
      " extracting: Images/horses/horse-91.jpg  \n",
      " extracting: Images/humans/rider-19.jpg  \n",
      " extracting: Images/horses/horse-22.jpg  \n",
      " extracting: Images/humans/rider-37.jpg  \n",
      " extracting: Images/horses/horse-65.jpg  \n",
      " extracting: Images/horses/horse-14.jpg  \n",
      " extracting: Images/horses/horse-44.jpg  \n",
      " extracting: Images/horses/horse-97.jpg  \n",
      " extracting: Images/humans/rider-72.jpg  \n",
      " extracting: Images/horses/horse-80.jpg  \n",
      " extracting: Images/humans/rider-87.jpg  \n",
      " extracting: Images/horses/horse-90.jpg  \n",
      " extracting: Images/horses/horse-20.jpg  \n",
      " extracting: Images/humans/rider-62.jpg  \n",
      " extracting: Images/humans/rider-65.jpg  \n",
      " extracting: Images/horses/horse-26.jpg  \n",
      " extracting: Images/humans/rider-25.jpg  \n",
      " extracting: Images/humans/rider-31.jpg  \n",
      " extracting: Images/horses/horse-41.jpg  \n",
      " extracting: Images/horses/horse-64.jpg  \n",
      " extracting: Images/humans/rider-53.jpg  \n",
      " extracting: Images/humans/rider-42.jpg  \n",
      " extracting: Images/horses/horse-56.jpg  \n",
      " extracting: Images/horses/horse-52.jpg  \n",
      " extracting: Images/horses/horse-37.jpg  \n",
      " extracting: Images/humans/rider-55.jpg  \n",
      " extracting: Images/humans/rider-94.jpg  \n",
      " extracting: Images/humans/rider-13.jpg  \n",
      " extracting: Images/horses/horse-62.jpg  \n",
      " extracting: Images/humans/rider-79.jpg  \n",
      " extracting: Images/humans/rider-49.jpg  \n",
      " extracting: Images/humans/rider-44.jpg  \n",
      " extracting: Images/horses/horse-59.jpg  \n",
      " extracting: Images/horses/horse-31.jpg  \n",
      " extracting: Images/horses/horse-85.jpg  \n",
      " extracting: Images/horses/horse-81.jpg  \n",
      " extracting: Images/horses/horse-50.jpg  \n",
      " extracting: Images/horses/horse-146.jpg  \n",
      " extracting: Images/humans/rider-185.jpg  \n",
      " extracting: Images/humans/rider-192.jpg  \n",
      " extracting: Images/humans/rider-154.jpg  \n",
      " extracting: Images/horses/horse-158.jpg  \n",
      " extracting: Images/horses/horse-127.jpg  \n",
      " extracting: Images/humans/rider-183.jpg  \n",
      " extracting: Images/humans/rider-102.jpg  \n",
      " extracting: Images/horses/horse-119.jpg  \n",
      " extracting: Images/humans/rider-103.jpg  \n",
      " extracting: Images/horses/horse-152.jpg  \n",
      " extracting: Images/humans/rider-202.jpg  \n",
      " extracting: Images/humans/rider-135.jpg  \n",
      " extracting: Images/humans/rider-124.jpg  \n",
      " extracting: Images/horses/horse-168.jpg  \n",
      " extracting: Images/humans/rider-140.jpg  \n",
      " extracting: Images/humans/rider-151.jpg  \n",
      " extracting: Images/humans/rider-119.jpg  \n",
      " extracting: Images/horses/horse-121.jpg  \n",
      " extracting: Images/horses/horse-106.jpg  \n",
      " extracting: Images/humans/rider-130.jpg  \n",
      " extracting: Images/horses/horse-148.jpg  \n",
      " extracting: Images/humans/rider-137.jpg  \n",
      " extracting: Images/humans/rider-157.jpg  \n",
      " extracting: Images/humans/rider-201.jpg  \n",
      " extracting: Images/humans/rider-190.jpg  \n",
      " extracting: Images/humans/rider-149.jpg  \n",
      " extracting: Images/horses/horse-180.jpg  \n",
      " extracting: Images/horses/horse-118.jpg  \n",
      " extracting: Images/humans/rider-109.jpg  \n",
      " extracting: Images/humans/rider-144.jpg  \n",
      " extracting: Images/horses/horse-177.jpg  \n",
      " extracting: Images/humans/rider-177.jpg  \n",
      " extracting: Images/humans/rider-197.jpg  \n",
      " extracting: Images/horses/horse-192.jpg  \n",
      " extracting: Images/humans/rider-198.jpg  \n",
      " extracting: Images/horses/horse-114.jpg  \n",
      " extracting: Images/humans/rider-171.jpg  \n",
      " extracting: Images/horses/horse-136.jpg  \n",
      " extracting: Images/horses/horse-185.jpg  \n",
      " extracting: Images/humans/rider-114.jpg  \n",
      " extracting: Images/humans/rider-106.jpg  \n",
      " extracting: Images/humans/rider-196.jpg  \n",
      " extracting: Images/horses/horse-103.jpg  \n",
      " extracting: Images/horses/horse-159.jpg  \n",
      " extracting: Images/humans/rider-168.jpg  \n",
      " extracting: Images/horses/horse-189.jpg  \n",
      " extracting: Images/humans/rider-141.jpg  \n",
      " extracting: Images/humans/rider-148.jpg  \n",
      " extracting: Images/horses/horse-102.jpg  \n",
      " extracting: Images/humans/rider-155.jpg  \n",
      " extracting: Images/horses/horse-170.jpg  \n",
      " extracting: Images/horses/horse-124.jpg  \n",
      " extracting: Images/humans/rider-113.jpg  \n",
      " extracting: Images/horses/horse-139.jpg  \n",
      " extracting: Images/horses/horse-157.jpg  \n",
      " extracting: Images/horses/horse-197.jpg  \n",
      " extracting: Images/humans/rider-122.jpg  \n",
      " extracting: Images/humans/rider-191.jpg  \n",
      " extracting: Images/horses/horse-143.jpg  \n",
      " extracting: Images/humans/rider-180.jpg  \n",
      " extracting: Images/humans/rider-107.jpg  \n",
      " extracting: Images/humans/rider-125.jpg  \n",
      " extracting: Images/horses/horse-133.jpg  \n",
      " extracting: Images/horses/horse-155.jpg  \n",
      " extracting: Images/humans/rider-131.jpg  \n",
      " extracting: Images/horses/horse-176.jpg  \n",
      " extracting: Images/horses/horse-149.jpg  \n",
      " extracting: Images/humans/rider-115.jpg  \n",
      " extracting: Images/horses/horse-111.jpg  \n",
      " extracting: Images/horses/horse-115.jpg  \n",
      " extracting: Images/horses/horse-120.jpg  \n",
      " extracting: Images/horses/horse-129.jpg  \n",
      " extracting: Images/humans/rider-147.jpg  \n",
      " extracting: Images/horses/horse-145.jpg  \n",
      " extracting: Images/humans/rider-163.jpg  \n",
      " extracting: Images/horses/horse-161.jpg  \n",
      " extracting: Images/humans/rider-199.jpg  \n",
      " extracting: Images/horses/horse-138.jpg  \n",
      " extracting: Images/horses/horse-101.jpg  \n",
      " extracting: Images/horses/horse-100.jpg  \n",
      " extracting: Images/horses/horse-188.jpg  \n",
      " extracting: Images/horses/horse-199.jpg  \n",
      " extracting: Images/horses/horse-166.jpg  \n",
      " extracting: Images/humans/rider-187.jpg  \n",
      " extracting: Images/horses/horse-123.jpg  \n",
      " extracting: Images/humans/rider-176.jpg  \n",
      " extracting: Images/horses/horse-171.jpg  \n",
      " extracting: Images/humans/rider-169.jpg  \n",
      " extracting: Images/humans/rider-134.jpg  \n",
      " extracting: Images/horses/horse-151.jpg  \n",
      " extracting: Images/horses/horse-156.jpg  \n",
      " extracting: Images/humans/rider-166.jpg  \n",
      " extracting: Images/humans/rider-152.jpg  \n",
      " extracting: Images/humans/rider-142.jpg  \n",
      " extracting: Images/horses/horse-196.jpg  \n",
      " extracting: Images/horses/horse-160.jpg  \n",
      " extracting: Images/horses/horse-200.jpg  \n",
      " extracting: Images/horses/horse-108.jpg  \n",
      " extracting: Images/horses/horse-174.jpg  \n",
      " extracting: Images/humans/rider-186.jpg  \n",
      " extracting: Images/humans/rider-167.jpg  \n",
      " extracting: Images/horses/horse-142.jpg  \n",
      " extracting: Images/horses/horse-110.jpg  \n",
      " extracting: Images/humans/rider-128.jpg  \n",
      " extracting: Images/humans/rider-129.jpg  \n",
      " extracting: Images/horses/horse-135.jpg  \n",
      " extracting: Images/horses/horse-144.jpg  \n",
      " extracting: Images/horses/horse-201.jpg  \n",
      " extracting: Images/humans/rider-172.jpg  \n",
      " extracting: Images/humans/rider-110.jpg  \n",
      " extracting: Images/horses/horse-182.jpg  \n",
      " extracting: Images/horses/horse-153.jpg  \n",
      " extracting: Images/horses/horse-128.jpg  \n",
      " extracting: Images/humans/rider-178.jpg  \n",
      " extracting: Images/humans/rider-153.jpg  \n",
      " extracting: Images/horses/horse-122.jpg  \n",
      " extracting: Images/horses/horse-173.jpg  \n",
      " extracting: Images/humans/rider-146.jpg  \n",
      " extracting: Images/horses/horse-132.jpg  \n",
      " extracting: Images/humans/rider-123.jpg  \n",
      " extracting: Images/humans/rider-104.jpg  \n",
      " extracting: Images/humans/rider-158.jpg  \n",
      " extracting: Images/horses/horse-125.jpg  \n",
      " extracting: Images/humans/rider-121.jpg  \n",
      " extracting: Images/humans/rider-181.jpg  \n",
      " extracting: Images/horses/horse-109.jpg  \n",
      " extracting: Images/horses/horse-104.jpg  \n",
      " extracting: Images/humans/rider-164.jpg  \n",
      " extracting: Images/horses/horse-150.jpg  \n",
      " extracting: Images/humans/rider-165.jpg  \n",
      " extracting: Images/humans/rider-132.jpg  \n",
      " extracting: Images/humans/rider-143.jpg  \n",
      " extracting: Images/horses/horse-134.jpg  \n",
      " extracting: Images/humans/rider-188.jpg  \n",
      " extracting: Images/horses/horse-116.jpg  \n",
      " extracting: Images/humans/rider-173.jpg  \n",
      " extracting: Images/humans/rider-116.jpg  \n",
      " extracting: Images/humans/rider-111.jpg  \n",
      " extracting: Images/humans/rider-159.jpg  \n",
      " extracting: Images/horses/horse-117.jpg  \n",
      " extracting: Images/horses/horse-165.jpg  \n",
      " extracting: Images/humans/rider-139.jpg  \n",
      " extracting: Images/humans/rider-120.jpg  \n",
      " extracting: Images/horses/horse-141.jpg  \n",
      " extracting: Images/humans/rider-194.jpg  \n",
      " extracting: Images/horses/horse-195.jpg  \n",
      " extracting: Images/horses/horse-198.jpg  \n",
      " extracting: Images/humans/rider-160.jpg  \n",
      " extracting: Images/humans/rider-133.jpg  \n",
      " extracting: Images/humans/rider-162.jpg  \n",
      " extracting: Images/horses/horse-163.jpg  \n",
      " extracting: Images/horses/horse-183.jpg  \n",
      " extracting: Images/horses/horse-179.jpg  \n",
      " extracting: Images/humans/rider-126.jpg  \n",
      " extracting: Images/humans/rider-105.jpg  \n",
      " extracting: Images/humans/rider-189.jpg  \n",
      " extracting: Images/horses/horse-137.jpg  \n",
      " extracting: Images/humans/rider-179.jpg  \n",
      " extracting: Images/horses/horse-113.jpg  \n",
      " extracting: Images/horses/horse-175.jpg  \n",
      " extracting: Images/humans/rider-195.jpg  \n",
      " extracting: Images/horses/horse-131.jpg  \n",
      " extracting: Images/humans/rider-108.jpg  \n",
      " extracting: Images/horses/horse-194.jpg  \n",
      " extracting: Images/humans/rider-175.jpg  \n",
      " extracting: Images/humans/rider-161.jpg  \n",
      " extracting: Images/humans/rider-182.jpg  \n",
      " extracting: Images/humans/rider-117.jpg  \n",
      " extracting: Images/humans/rider-100.jpg  \n",
      " extracting: Images/humans/rider-156.jpg  \n",
      " extracting: Images/humans/rider-193.jpg  \n",
      " extracting: Images/humans/rider-138.jpg  \n",
      " extracting: Images/horses/horse-187.jpg  \n",
      " extracting: Images/horses/horse-107.jpg  \n",
      " extracting: Images/horses/horse-181.jpg  \n",
      " extracting: Images/humans/rider-200.jpg  \n",
      " extracting: Images/horses/horse-126.jpg  \n",
      " extracting: Images/horses/horse-193.jpg  \n",
      " extracting: Images/horses/horse-167.jpg  \n",
      " extracting: Images/humans/rider-145.jpg  \n",
      " extracting: Images/horses/horse-202.jpg  \n",
      " extracting: Images/humans/rider-101.jpg  \n",
      " extracting: Images/horses/horse-147.jpg  \n",
      " extracting: Images/horses/horse-164.jpg  \n",
      " extracting: Images/horses/horse-105.jpg  \n",
      " extracting: Images/humans/rider-184.jpg  \n",
      " extracting: Images/horses/horse-112.jpg  \n",
      " extracting: Images/horses/horse-169.jpg  \n",
      " extracting: Images/horses/horse-162.jpg  \n",
      " extracting: Images/humans/rider-118.jpg  \n",
      " extracting: Images/humans/rider-136.jpg  \n",
      " extracting: Images/horses/horse-172.jpg  \n",
      " extracting: Images/horses/horse-140.jpg  \n",
      " extracting: Images/horses/horse-186.jpg  \n",
      " extracting: Images/horses/horse-191.jpg  \n",
      " extracting: Images/humans/rider-112.jpg  \n",
      " extracting: Images/horses/horse-190.jpg  \n",
      " extracting: Images/horses/horse-184.jpg  \n",
      " extracting: Images/horses/horse-130.jpg  \n",
      " extracting: Images/humans/rider-150.jpg  \n",
      " extracting: Images/horses/horse-154.jpg  \n",
      " extracting: Images/humans/rider-170.jpg  \n",
      " extracting: Images/humans/rider-174.jpg  \n",
      " extracting: Images/humans/rider-127.jpg  \n",
      " extracting: Images/horses/horse-178.jpg  \n",
      "\n",
      "1 archive had fatal errors.\n"
     ]
    }
   ],
   "source": [
    "# Unzip the data\n",
    "# (AABXTlPlU-1f4L_VdS4wY06ca?dl=0) Folder gets Downloaded\n",
    "!unzip AABXTlPlU-1f4L_VdS4wY06ca?dl=0"
   ]
  },
  {
   "cell_type": "code",
   "execution_count": 4,
   "metadata": {
    "colab": {
     "base_uri": "https://localhost:8080/"
    },
    "id": "E38OEa4nGLWy",
    "outputId": "38c71d57-4d49-4588-eddc-e9c3d8c67d68"
   },
   "outputs": [
    {
     "name": "stdout",
     "output_type": "stream",
     "text": [
      "'AABXTlPlU-1f4L_VdS4wY06ca?dl=0'   Images   sample_data\n"
     ]
    }
   ],
   "source": [
    "!ls"
   ]
  },
  {
   "cell_type": "code",
   "execution_count": 5,
   "metadata": {
    "id": "RazGxRJMGO6B"
   },
   "outputs": [],
   "source": [
    "import os, shutil\n",
    "folders = os.listdir(\"Images\")"
   ]
  },
  {
   "cell_type": "code",
   "execution_count": 6,
   "metadata": {
    "colab": {
     "base_uri": "https://localhost:8080/"
    },
    "id": "QVhLxQSsGasn",
    "outputId": "bbb31b95-ef1e-41b8-fda0-ff6d84de5c67"
   },
   "outputs": [
    {
     "name": "stdout",
     "output_type": "stream",
     "text": [
      "['horses', 'dogs', 'cats', 'humans']\n"
     ]
    }
   ],
   "source": [
    "print(folders)"
   ]
  },
  {
   "cell_type": "code",
   "execution_count": 7,
   "metadata": {
    "colab": {
     "base_uri": "https://localhost:8080/"
    },
    "id": "ftTjXdg_lXq8",
    "outputId": "a3aa10fb-4a26-4a3d-87eb-d333e895e561"
   },
   "outputs": [
    {
     "name": "stdout",
     "output_type": "stream",
     "text": [
      "horses 202\n",
      "dogs 202\n",
      "cats 202\n",
      "humans 202\n"
     ]
    }
   ],
   "source": [
    "#Number Of Images In Every Folder\n",
    "for f in folders:\n",
    "  path=\"Images/\"+f\n",
    "\n",
    "  print(f+\" \"+str(len(os.listdir(path))))"
   ]
  },
  {
   "cell_type": "code",
   "execution_count": 8,
   "metadata": {
    "colab": {
     "base_uri": "https://localhost:8080/"
    },
    "id": "btY3jbmIUAZt",
    "outputId": "4f7e7b34-23be-41cb-f24b-a82b796a9853"
   },
   "outputs": [
    {
     "name": "stdout",
     "output_type": "stream",
     "text": [
      "'AABXTlPlU-1f4L_VdS4wY06ca?dl=0'   Images   sample_data   val_images\n"
     ]
    }
   ],
   "source": [
    "# Checks if val_images exist or not \n",
    "# val_image is just to create validation set\n",
    "if not os.path.isdir(\"val_images\"):\n",
    "    os.mkdir(\"val_images\")\n",
    "\n",
    "!ls"
   ]
  },
  {
   "cell_type": "code",
   "execution_count": 9,
   "metadata": {
    "id": "ruhdz5-lUGhK"
   },
   "outputs": [],
   "source": [
    "# 90% images are used as training example and 10% of the images are used for validation\n",
    "\n",
    "classes = [\"dogs\",\"cats\",\"horses\",\"humans\"]\n",
    "\n",
    "for c in classes:\n",
    "    p = os.path.join(\"val_images\",c) #val_images/cats\n",
    "    if not os.path.isdir(p):\n",
    "        os.mkdir(p)\n",
    "      \n",
    "SPLIT = 0.9\n",
    "for f in os.listdir(\"Images\"):\n",
    "    path = \"Images/\"+f\n",
    "    imgs = os.listdir(path)\n",
    "    \n",
    "    split_size = int(SPLIT*len(imgs))\n",
    "    # Move the file (90% to 100%)\n",
    "    files_to_move = imgs[split_size:]\n",
    "    #print(len(files_to_move))\n",
    "    #print(files_to_move)\n",
    "    for img_f in files_to_move:\n",
    "        src = os.path.join(path,img_f)\n",
    "        dest = os.path.join(\"val_images/\"+f,img_f)\n",
    "        shutil.move(src,dest)\n",
    "        #print(src)\n",
    "        #print(dest)"
   ]
  },
  {
   "cell_type": "code",
   "execution_count": 10,
   "metadata": {
    "colab": {
     "base_uri": "https://localhost:8080/"
    },
    "id": "Ux-8-_NvGjPm",
    "outputId": "a501dd75-d910-443f-e581-3fb1971800d5"
   },
   "outputs": [
    {
     "name": "stdout",
     "output_type": "stream",
     "text": [
      "Training Data\n",
      "horses 181\n",
      "dogs 181\n",
      "cats 181\n",
      "humans 181\n",
      "\n",
      "\n",
      "Validation Data\n",
      "horses 21\n",
      "dogs 21\n",
      "cats 21\n",
      "humans 21\n"
     ]
    }
   ],
   "source": [
    "print(\"Training Data\")\n",
    "for f in folders:\n",
    "    path = \"Images/\"+f\n",
    "    print(f+ \" \"+str(len(os.listdir(path))))\n",
    "print('\\n')\n",
    "print(\"Validation Data\")\n",
    "for f in folders:\n",
    "    path = \"val_images/\"+f\n",
    "    print(f+ \" \"+str(len(os.listdir(path))))"
   ]
  },
  {
   "cell_type": "code",
   "execution_count": 11,
   "metadata": {
    "id": "epndqH4IHjoV"
   },
   "outputs": [],
   "source": [
    "from keras.preprocessing import image\n",
    "from matplotlib import pyplot as plt"
   ]
  },
  {
   "cell_type": "code",
   "execution_count": 12,
   "metadata": {
    "colab": {
     "base_uri": "https://localhost:8080/",
     "height": 248
    },
    "id": "B-Rgj9_KIE7O",
    "outputId": "1e37bd72-aecd-4ffd-bbc6-6586f4db8569"
   },
   "outputs": [
    {
     "data": {
      "image/png": "[encoded data removed]",
      "text/plain": [
       "<Figure size 432x288 with 1 Axes>"
      ]
     },
     "metadata": {
      "needs_background": "light"
     },
     "output_type": "display_data"
    }
   ],
   "source": [
    "sample_path = \"Images/cats/cat.100.jpg\"\n",
    "img = image.load_img(sample_path)\n",
    "x = image.img_to_array(img)/255.0 # Converting it into array\n",
    "plt.imshow(img)\n",
    "plt.axis(\"off\")\n",
    "plt.show()"
   ]
  },
  {
   "cell_type": "code",
   "execution_count": 13,
   "metadata": {
    "colab": {
     "base_uri": "https://localhost:8080/",
     "height": 248
    },
    "id": "NbsHkEkvIHsm",
    "outputId": "32f81b06-d64c-4472-a36f-675598760feb"
   },
   "outputs": [
    {
     "data": {
      "image/png": "[encoded data removed]",
      "text/plain": [
       "<Figure size 432x288 with 1 Axes>"
      ]
     },
     "metadata": {
      "needs_background": "light"
     },
     "output_type": "display_data"
    }
   ],
   "source": [
    "sample_path = \"Images/humans/rider-100.jpg\"\n",
    "img = image.load_img(sample_path)\n",
    "x = image.img_to_array(img)/255.0\n",
    "plt.imshow(img)\n",
    "plt.axis(\"off\")\n",
    "plt.show()"
   ]
  },
  {
   "cell_type": "code",
   "execution_count": 14,
   "metadata": {
    "id": "LvVSwz0JJDqG"
   },
   "outputs": [],
   "source": [
    "from keras.layers import *\n",
    "from keras.models import Sequential"
   ]
  },
  {
   "cell_type": "code",
   "execution_count": 15,
   "metadata": {
    "colab": {
     "base_uri": "https://localhost:8080/"
    },
    "id": "Xgqf4mZMJ1xK",
    "outputId": "fb356e21-9d7d-4557-dbe1-ec030ec3efe5"
   },
   "outputs": [
    {
     "name": "stdout",
     "output_type": "stream",
     "text": [
      "Model: \"sequential\"\n",
      "_________________________________________________________________\n",
      " Layer (type)                Output Shape              Param #   \n",
      "=================================================================\n",
      " conv2d (Conv2D)             (None, 148, 148, 32)      896       \n",
      "                                                                 \n",
      " max_pooling2d (MaxPooling2D  (None, 74, 74, 32)       0         \n",
      " )                                                               \n",
      "                                                                 \n",
      " conv2d_1 (Conv2D)           (None, 72, 72, 32)        9248      \n",
      "                                                                 \n",
      " max_pooling2d_1 (MaxPooling  (None, 36, 36, 32)       0         \n",
      " 2D)                                                             \n",
      "                                                                 \n",
      " conv2d_2 (Conv2D)           (None, 34, 34, 128)       36992     \n",
      "                                                                 \n",
      " max_pooling2d_2 (MaxPooling  (None, 17, 17, 128)      0         \n",
      " 2D)                                                             \n",
      "                                                                 \n",
      " conv2d_3 (Conv2D)           (None, 15, 15, 128)       147584    \n",
      "                                                                 \n",
      " max_pooling2d_3 (MaxPooling  (None, 7, 7, 128)        0         \n",
      " 2D)                                                             \n",
      "                                                                 \n",
      " flatten (Flatten)           (None, 6272)              0         \n",
      "                                                                 \n",
      " dense (Dense)               (None, 64)                401472    \n",
      "                                                                 \n",
      " dense_1 (Dense)             (None, 4)                 260       \n",
      "                                                                 \n",
      "=================================================================\n",
      "Total params: 596,452\n",
      "Trainable params: 596,452\n",
      "Non-trainable params: 0\n",
      "_________________________________________________________________\n"
     ]
    }
   ],
   "source": [
    "model = Sequential()\n",
    "# First Layer Of Convolution:-32 filters of size (3*3)\n",
    "model.add(Convolution2D(32,(3,3),activation='relu',input_shape=(150,150,3)))\n",
    "model.add(MaxPooling2D(2,2))\n",
    "model.add(Convolution2D(32,(3,3),activation='relu',input_shape=(28,28,1)))\n",
    "model.add(MaxPooling2D(2,2))\n",
    "model.add(Convolution2D(128,(3,3),activation='relu',input_shape=(28,28,1)))\n",
    "model.add(MaxPooling2D(2,2))\n",
    "model.add(Convolution2D(128,(3,3),activation='relu',input_shape=(28,28,1)))\n",
    "model.add(MaxPooling2D(2,2))\n",
    "model.add(Flatten())\n",
    "model.add(Dense(64,activation='relu'))\n",
    "model.add(Dense(4,activation='softmax'))\n",
    "\n",
    "model.summary()"
   ]
  },
  {
   "cell_type": "code",
   "execution_count": 16,
   "metadata": {
    "id": "DFM_Ws9WtSLc"
   },
   "outputs": [],
   "source": [
    "import tensorflow as tf"
   ]
  },
  {
   "cell_type": "code",
   "execution_count": 17,
   "metadata": {
    "id": "DhI0kFkKJ5MS"
   },
   "outputs": [],
   "source": [
    "\n",
    "adam=tf.optimizers.Adam(learning_rate=1e-4)\n",
    "\n",
    "model.compile(loss='categorical_crossentropy',optimizer=adam,metrics=['acc'])"
   ]
  },
  {
   "cell_type": "code",
   "execution_count": 18,
   "metadata": {
    "id": "Gn1xyIddNIHr"
   },
   "outputs": [],
   "source": [
    "#model.fit(___) # Useful when data set is small and it can fit inside the memory\n",
    "\n",
    "# The dataset which we are using is small but this time we are going to use generator methode"
   ]
  },
  {
   "cell_type": "code",
   "execution_count": 19,
   "metadata": {
    "id": "6afI81VfN1Zx"
   },
   "outputs": [],
   "source": [
    "from keras.preprocessing.image import ImageDataGenerator\n",
    "# we are going to load a batch of images"
   ]
  },
  {
   "cell_type": "code",
   "execution_count": 20,
   "metadata": {
    "colab": {
     "base_uri": "https://localhost:8080/"
    },
    "id": "M425YAp8ONZ0",
    "outputId": "2fef4339-6781-4111-cfc2-b89521ed0684"
   },
   "outputs": [
    {
     "name": "stdout",
     "output_type": "stream",
     "text": [
      "Found 724 images belonging to 4 classes.\n",
      "Found 84 images belonging to 4 classes.\n"
     ]
    }
   ],
   "source": [
    "# Validation_data is used to check the overfitting of our model.\n",
    "# rescale->Divide each pixel of the image by 255.0\n",
    "# The train_gen will load a batch of data in the memory and after processing the data\n",
    "# the memory gets cleared to load the next set of data.\n",
    "train_gen=ImageDataGenerator(rescale=1.0/255)\n",
    "\n",
    "train_generator=train_gen.flow_from_directory(\n",
    "    \"Images/\",\n",
    "    target_size=(150,150),\n",
    "    batch_size=36,\n",
    "    class_mode='categorical'\n",
    ")\n",
    "val_gen = ImageDataGenerator(rescale=1.0/255)\n",
    "\n",
    "val_generator=val_gen.flow_from_directory(\n",
    "    \"val_images/\",\n",
    "    target_size=(150,150),\n",
    "    batch_size=7,\n",
    "    class_mode='categorical'\n",
    ")"
   ]
  },
  {
   "cell_type": "code",
   "execution_count": 21,
   "metadata": {
    "colab": {
     "base_uri": "https://localhost:8080/"
    },
    "id": "fEligV9dPexD",
    "outputId": "07765907-47a8-4cab-ebd7-466cffcd3f69"
   },
   "outputs": [
    {
     "data": {
      "text/plain": [
       "array([0, 0, 0, 0, 0, 0, 0, 0, 0, 0, 0, 0, 0, 0, 0, 0, 0, 0, 0, 0, 0, 0,\n",
       "       0, 0, 0, 0, 0, 0, 0, 0, 0, 0, 0, 0, 0, 0, 0, 0, 0, 0, 0, 0, 0, 0,\n",
       "       0, 0, 0, 0, 0, 0, 0, 0, 0, 0, 0, 0, 0, 0, 0, 0, 0, 0, 0, 0, 0, 0,\n",
       "       0, 0, 0, 0, 0, 0, 0, 0, 0, 0, 0, 0, 0, 0, 0, 0, 0, 0, 0, 0, 0, 0,\n",
       "       0, 0, 0, 0, 0, 0, 0, 0, 0, 0, 0, 0, 0, 0, 0, 0, 0, 0, 0, 0, 0, 0,\n",
       "       0, 0, 0, 0, 0, 0, 0, 0, 0, 0, 0, 0, 0, 0, 0, 0, 0, 0, 0, 0, 0, 0,\n",
       "       0, 0, 0, 0, 0, 0, 0, 0, 0, 0, 0, 0, 0, 0, 0, 0, 0, 0, 0, 0, 0, 0,\n",
       "       0, 0, 0, 0, 0, 0, 0, 0, 0, 0, 0, 0, 0, 0, 0, 0, 0, 0, 0, 0, 0, 0,\n",
       "       0, 0, 0, 0, 0, 1, 1, 1, 1, 1, 1, 1, 1, 1, 1, 1, 1, 1, 1, 1, 1, 1,\n",
       "       1, 1, 1, 1, 1, 1, 1, 1, 1, 1, 1, 1, 1, 1, 1, 1, 1, 1, 1, 1, 1, 1,\n",
       "       1, 1, 1, 1, 1, 1, 1, 1, 1, 1, 1, 1, 1, 1, 1, 1, 1, 1, 1, 1, 1, 1,\n",
       "       1, 1, 1, 1, 1, 1, 1, 1, 1, 1, 1, 1, 1, 1, 1, 1, 1, 1, 1, 1, 1, 1,\n",
       "       1, 1, 1, 1, 1, 1, 1, 1, 1, 1, 1, 1, 1, 1, 1, 1, 1, 1, 1, 1, 1, 1,\n",
       "       1, 1, 1, 1, 1, 1, 1, 1, 1, 1, 1, 1, 1, 1, 1, 1, 1, 1, 1, 1, 1, 1,\n",
       "       1, 1, 1, 1, 1, 1, 1, 1, 1, 1, 1, 1, 1, 1, 1, 1, 1, 1, 1, 1, 1, 1,\n",
       "       1, 1, 1, 1, 1, 1, 1, 1, 1, 1, 1, 1, 1, 1, 1, 1, 1, 1, 1, 1, 1, 1,\n",
       "       1, 1, 1, 1, 1, 1, 1, 1, 1, 1, 2, 2, 2, 2, 2, 2, 2, 2, 2, 2, 2, 2,\n",
       "       2, 2, 2, 2, 2, 2, 2, 2, 2, 2, 2, 2, 2, 2, 2, 2, 2, 2, 2, 2, 2, 2,\n",
       "       2, 2, 2, 2, 2, 2, 2, 2, 2, 2, 2, 2, 2, 2, 2, 2, 2, 2, 2, 2, 2, 2,\n",
       "       2, 2, 2, 2, 2, 2, 2, 2, 2, 2, 2, 2, 2, 2, 2, 2, 2, 2, 2, 2, 2, 2,\n",
       "       2, 2, 2, 2, 2, 2, 2, 2, 2, 2, 2, 2, 2, 2, 2, 2, 2, 2, 2, 2, 2, 2,\n",
       "       2, 2, 2, 2, 2, 2, 2, 2, 2, 2, 2, 2, 2, 2, 2, 2, 2, 2, 2, 2, 2, 2,\n",
       "       2, 2, 2, 2, 2, 2, 2, 2, 2, 2, 2, 2, 2, 2, 2, 2, 2, 2, 2, 2, 2, 2,\n",
       "       2, 2, 2, 2, 2, 2, 2, 2, 2, 2, 2, 2, 2, 2, 2, 2, 2, 2, 2, 2, 2, 2,\n",
       "       2, 2, 2, 2, 2, 2, 2, 2, 2, 2, 2, 2, 2, 2, 2, 3, 3, 3, 3, 3, 3, 3,\n",
       "       3, 3, 3, 3, 3, 3, 3, 3, 3, 3, 3, 3, 3, 3, 3, 3, 3, 3, 3, 3, 3, 3,\n",
       "       3, 3, 3, 3, 3, 3, 3, 3, 3, 3, 3, 3, 3, 3, 3, 3, 3, 3, 3, 3, 3, 3,\n",
       "       3, 3, 3, 3, 3, 3, 3, 3, 3, 3, 3, 3, 3, 3, 3, 3, 3, 3, 3, 3, 3, 3,\n",
       "       3, 3, 3, 3, 3, 3, 3, 3, 3, 3, 3, 3, 3, 3, 3, 3, 3, 3, 3, 3, 3, 3,\n",
       "       3, 3, 3, 3, 3, 3, 3, 3, 3, 3, 3, 3, 3, 3, 3, 3, 3, 3, 3, 3, 3, 3,\n",
       "       3, 3, 3, 3, 3, 3, 3, 3, 3, 3, 3, 3, 3, 3, 3, 3, 3, 3, 3, 3, 3, 3,\n",
       "       3, 3, 3, 3, 3, 3, 3, 3, 3, 3, 3, 3, 3, 3, 3, 3, 3, 3, 3, 3, 3, 3,\n",
       "       3, 3, 3, 3, 3, 3, 3, 3, 3, 3, 3, 3, 3, 3, 3, 3, 3, 3, 3, 3],\n",
       "      dtype=int32)"
      ]
     },
     "execution_count": 21,
     "metadata": {},
     "output_type": "execute_result"
    }
   ],
   "source": [
    "train_generator.labels"
   ]
  },
  {
   "cell_type": "code",
   "execution_count": 22,
   "metadata": {
    "colab": {
     "base_uri": "https://localhost:8080/"
    },
    "id": "i9L-C-aqeNz_",
    "outputId": "0759a021-0d28-45e7-866c-c8afeaf0f8b7"
   },
   "outputs": [
    {
     "data": {
      "text/plain": [
       "array([0, 0, 0, 0, 0, 0, 0, 0, 0, 0, 0, 0, 0, 0, 0, 0, 0, 0, 0, 0, 0, 1,\n",
       "       1, 1, 1, 1, 1, 1, 1, 1, 1, 1, 1, 1, 1, 1, 1, 1, 1, 1, 1, 1, 2, 2,\n",
       "       2, 2, 2, 2, 2, 2, 2, 2, 2, 2, 2, 2, 2, 2, 2, 2, 2, 2, 2, 3, 3, 3,\n",
       "       3, 3, 3, 3, 3, 3, 3, 3, 3, 3, 3, 3, 3, 3, 3, 3, 3, 3], dtype=int32)"
      ]
     },
     "execution_count": 22,
     "metadata": {},
     "output_type": "execute_result"
    }
   ],
   "source": [
    "val_generator.labels"
   ]
  },
  {
   "cell_type": "code",
   "execution_count": 23,
   "metadata": {
    "colab": {
     "base_uri": "https://localhost:8080/"
    },
    "id": "vT_pjhqOQWw2",
    "outputId": "d5b8bc75-be98-4ade-9e3d-fbffe9525bfa"
   },
   "outputs": [
    {
     "name": "stdout",
     "output_type": "stream",
     "text": [
      "(36, 150, 150, 3)\n",
      "(36, 4)\n"
     ]
    }
   ],
   "source": [
    "# Loading every batch of data\n",
    "for x,y in train_generator:\n",
    "  print(x.shape)\n",
    "  print(y.shape)\n",
    "  break"
   ]
  },
  {
   "cell_type": "code",
   "execution_count": 24,
   "metadata": {
    "colab": {
     "base_uri": "https://localhost:8080/"
    },
    "id": "4Bf6tkAXQ1eD",
    "outputId": "0dc74547-1597-48c2-c460-59ec69fd4ffd"
   },
   "outputs": [
    {
     "name": "stderr",
     "output_type": "stream",
     "text": [
      "/usr/local/lib/python3.7/dist-packages/ipykernel_launcher.py:7: UserWarning: `Model.fit_generator` is deprecated and will be removed in a future version. Please use `Model.fit`, which supports generators.\n",
      "  import sys\n"
     ]
    },
    {
     "name": "stdout",
     "output_type": "stream",
     "text": [
      "Epoch 1/50\n",
      "5/5 [==============================] - 14s 370ms/step - loss: 1.3865 - acc: 0.2770 - val_loss: 1.3761 - val_acc: 0.1786\n",
      "Epoch 2/50\n",
      "5/5 [==============================] - 1s 172ms/step - loss: 1.3922 - acc: 0.2500 - val_loss: 1.4141 - val_acc: 0.0714\n",
      "Epoch 3/50\n",
      "5/5 [==============================] - 1s 168ms/step - loss: 1.3850 - acc: 0.2838 - val_loss: 1.3780 - val_acc: 0.2143\n",
      "Epoch 4/50\n",
      "5/5 [==============================] - 1s 180ms/step - loss: 1.3791 - acc: 0.2778 - val_loss: 1.3779 - val_acc: 0.3214\n",
      "Epoch 5/50\n",
      "5/5 [==============================] - 1s 213ms/step - loss: 1.3721 - acc: 0.3778 - val_loss: 1.3655 - val_acc: 0.5357\n",
      "Epoch 6/50\n",
      "5/5 [==============================] - 1s 175ms/step - loss: 1.3644 - acc: 0.3446 - val_loss: 1.3692 - val_acc: 0.3571\n",
      "Epoch 7/50\n",
      "5/5 [==============================] - 1s 190ms/step - loss: 1.3610 - acc: 0.4667 - val_loss: 1.3615 - val_acc: 0.4643\n",
      "Epoch 8/50\n",
      "5/5 [==============================] - 1s 171ms/step - loss: 1.3530 - acc: 0.5056 - val_loss: 1.3550 - val_acc: 0.4286\n",
      "Epoch 9/50\n",
      "5/5 [==============================] - 1s 169ms/step - loss: 1.3430 - acc: 0.4722 - val_loss: 1.3382 - val_acc: 0.4286\n",
      "Epoch 10/50\n",
      "5/5 [==============================] - 1s 174ms/step - loss: 1.3362 - acc: 0.3722 - val_loss: 1.3357 - val_acc: 0.3214\n",
      "Epoch 11/50\n",
      "5/5 [==============================] - 1s 161ms/step - loss: 1.3066 - acc: 0.4500 - val_loss: 1.2532 - val_acc: 0.5000\n",
      "Epoch 12/50\n",
      "5/5 [==============================] - 1s 159ms/step - loss: 1.3078 - acc: 0.3833 - val_loss: 1.3875 - val_acc: 0.2500\n",
      "Epoch 13/50\n",
      "5/5 [==============================] - 1s 148ms/step - loss: 1.2587 - acc: 0.4797 - val_loss: 1.3293 - val_acc: 0.4286\n",
      "Epoch 14/50\n",
      "5/5 [==============================] - 1s 202ms/step - loss: 1.2688 - acc: 0.4944 - val_loss: 1.3399 - val_acc: 0.3929\n",
      "Epoch 15/50\n",
      "5/5 [==============================] - 1s 164ms/step - loss: 1.2292 - acc: 0.4500 - val_loss: 1.2290 - val_acc: 0.3929\n",
      "Epoch 16/50\n",
      "5/5 [==============================] - 1s 168ms/step - loss: 1.2074 - acc: 0.4333 - val_loss: 1.2323 - val_acc: 0.5357\n",
      "Epoch 17/50\n",
      "5/5 [==============================] - 1s 161ms/step - loss: 1.1853 - acc: 0.4889 - val_loss: 1.1968 - val_acc: 0.5714\n",
      "Epoch 18/50\n",
      "5/5 [==============================] - 1s 163ms/step - loss: 1.1969 - acc: 0.4944 - val_loss: 1.2191 - val_acc: 0.4643\n",
      "Epoch 19/50\n",
      "5/5 [==============================] - 1s 162ms/step - loss: 1.0988 - acc: 0.5389 - val_loss: 1.1086 - val_acc: 0.6429\n",
      "Epoch 20/50\n",
      "5/5 [==============================] - 1s 175ms/step - loss: 1.0949 - acc: 0.5056 - val_loss: 1.1449 - val_acc: 0.6429\n",
      "Epoch 21/50\n",
      "5/5 [==============================] - 1s 145ms/step - loss: 1.1162 - acc: 0.5473 - val_loss: 1.3387 - val_acc: 0.3214\n",
      "Epoch 22/50\n",
      "5/5 [==============================] - 1s 192ms/step - loss: 1.0563 - acc: 0.5389 - val_loss: 1.3160 - val_acc: 0.3929\n",
      "Epoch 23/50\n",
      "5/5 [==============================] - 1s 170ms/step - loss: 0.9838 - acc: 0.6081 - val_loss: 1.2782 - val_acc: 0.4643\n",
      "Epoch 24/50\n",
      "5/5 [==============================] - 1s 165ms/step - loss: 0.9767 - acc: 0.6167 - val_loss: 1.2739 - val_acc: 0.4643\n",
      "Epoch 25/50\n",
      "5/5 [==============================] - 1s 146ms/step - loss: 0.9659 - acc: 0.6216 - val_loss: 1.0041 - val_acc: 0.5357\n",
      "Epoch 26/50\n",
      "5/5 [==============================] - 1s 158ms/step - loss: 1.1627 - acc: 0.4944 - val_loss: 1.1978 - val_acc: 0.4643\n",
      "Epoch 27/50\n",
      "5/5 [==============================] - 1s 160ms/step - loss: 1.0884 - acc: 0.5389 - val_loss: 1.1757 - val_acc: 0.4643\n",
      "Epoch 28/50\n",
      "5/5 [==============================] - 1s 147ms/step - loss: 1.0469 - acc: 0.5389 - val_loss: 1.0590 - val_acc: 0.5357\n",
      "Epoch 29/50\n",
      "5/5 [==============================] - 1s 153ms/step - loss: 0.9913 - acc: 0.6111 - val_loss: 1.1794 - val_acc: 0.3929\n",
      "Epoch 30/50\n",
      "5/5 [==============================] - 1s 164ms/step - loss: 1.0469 - acc: 0.5722 - val_loss: 1.1335 - val_acc: 0.6071\n",
      "Epoch 31/50\n",
      "5/5 [==============================] - 1s 170ms/step - loss: 0.9302 - acc: 0.6389 - val_loss: 1.1405 - val_acc: 0.5357\n",
      "Epoch 32/50\n",
      "5/5 [==============================] - 1s 145ms/step - loss: 0.9433 - acc: 0.6351 - val_loss: 1.1254 - val_acc: 0.5357\n",
      "Epoch 33/50\n",
      "5/5 [==============================] - 1s 176ms/step - loss: 1.0195 - acc: 0.5500 - val_loss: 1.0454 - val_acc: 0.6071\n",
      "Epoch 34/50\n",
      "5/5 [==============================] - 1s 150ms/step - loss: 0.8960 - acc: 0.6167 - val_loss: 1.0954 - val_acc: 0.5714\n",
      "Epoch 35/50\n",
      "5/5 [==============================] - 1s 164ms/step - loss: 0.9153 - acc: 0.6556 - val_loss: 1.0720 - val_acc: 0.5000\n",
      "Epoch 36/50\n",
      "5/5 [==============================] - 1s 176ms/step - loss: 0.9049 - acc: 0.5889 - val_loss: 0.9329 - val_acc: 0.5714\n",
      "Epoch 37/50\n",
      "5/5 [==============================] - 1s 154ms/step - loss: 0.8382 - acc: 0.6389 - val_loss: 0.8864 - val_acc: 0.6786\n",
      "Epoch 38/50\n",
      "5/5 [==============================] - 1s 145ms/step - loss: 0.8837 - acc: 0.6149 - val_loss: 1.3321 - val_acc: 0.3571\n",
      "Epoch 39/50\n",
      "5/5 [==============================] - 1s 158ms/step - loss: 0.9317 - acc: 0.6000 - val_loss: 1.0978 - val_acc: 0.5714\n",
      "Epoch 40/50\n",
      "5/5 [==============================] - 1s 151ms/step - loss: 0.8412 - acc: 0.6556 - val_loss: 1.1545 - val_acc: 0.5357\n",
      "Epoch 41/50\n",
      "5/5 [==============================] - 1s 167ms/step - loss: 0.8675 - acc: 0.6500 - val_loss: 1.3688 - val_acc: 0.3571\n",
      "Epoch 42/50\n",
      "5/5 [==============================] - 1s 155ms/step - loss: 0.8412 - acc: 0.6389 - val_loss: 0.9459 - val_acc: 0.5357\n",
      "Epoch 43/50\n",
      "5/5 [==============================] - 1s 168ms/step - loss: 0.8160 - acc: 0.6722 - val_loss: 1.0003 - val_acc: 0.5714\n",
      "Epoch 44/50\n",
      "5/5 [==============================] - 1s 171ms/step - loss: 0.8414 - acc: 0.6556 - val_loss: 0.8331 - val_acc: 0.6429\n",
      "Epoch 45/50\n",
      "5/5 [==============================] - 1s 148ms/step - loss: 0.8033 - acc: 0.6824 - val_loss: 1.2171 - val_acc: 0.5714\n",
      "Epoch 46/50\n",
      "5/5 [==============================] - 1s 164ms/step - loss: 0.7984 - acc: 0.6556 - val_loss: 1.0890 - val_acc: 0.5357\n",
      "Epoch 47/50\n",
      "5/5 [==============================] - 1s 176ms/step - loss: 0.7227 - acc: 0.7556 - val_loss: 1.2666 - val_acc: 0.5000\n",
      "Epoch 48/50\n",
      "5/5 [==============================] - 1s 155ms/step - loss: 0.8253 - acc: 0.6500 - val_loss: 1.0485 - val_acc: 0.6071\n",
      "Epoch 49/50\n",
      "5/5 [==============================] - 1s 159ms/step - loss: 0.7596 - acc: 0.7111 - val_loss: 0.9896 - val_acc: 0.5357\n",
      "Epoch 50/50\n",
      "5/5 [==============================] - 1s 150ms/step - loss: 0.7614 - acc: 0.7230 - val_loss: 1.2486 - val_acc: 0.4286\n"
     ]
    }
   ],
   "source": [
    "# Train our model\n",
    "history=model.fit_generator(\n",
    "    train_generator,\n",
    "    steps_per_epoch=5,# No. of steps required to iterate the whole training data for a given batch size in one epoch\n",
    "    epochs=50,\n",
    "    validation_data=val_generator,\n",
    "    validation_steps=4\n",
    ")"
   ]
  },
  {
   "cell_type": "code",
   "execution_count": 25,
   "metadata": {
    "id": "jm7FptneRBKQ"
   },
   "outputs": [],
   "source": [
    "acc=history.history['acc']\n",
    "val_acc=history.history['val_acc']\n",
    "loss=history.history['loss']\n",
    "val_loss=history.history['val_loss']"
   ]
  },
  {
   "cell_type": "code",
   "execution_count": 26,
   "metadata": {
    "id": "vCOUrbXTchSm"
   },
   "outputs": [],
   "source": [
    "from matplotlib import pyplot as plt\n",
    "plt.style.use(\"seaborn\")"
   ]
  },
  {
   "cell_type": "code",
   "execution_count": 27,
   "metadata": {
    "colab": {
     "base_uri": "https://localhost:8080/",
     "height": 677
    },
    "id": "l694h5vXaDhp",
    "outputId": "b1d65f2a-6796-49a8-a21a-d1e5e183ca18"
   },
   "outputs": [
    {
     "data": {
      "image/png": "[encoded data removed]",
      "text/plain": [
       "<Figure size 576x396 with 1 Axes>"
      ]
     },
     "metadata": {},
     "output_type": "display_data"
    },
    {
     "data": {
      "image/png": "[encoded data removed]",
      "text/plain": [
       "<Figure size 576x396 with 1 Axes>"
      ]
     },
     "metadata": {},
     "output_type": "display_data"
    }
   ],
   "source": [
    "plt.plot(acc,label=\"accuracy\")\n",
    "plt.plot(val_acc,label=\"val_accuracy\")\n",
    "plt.legend()\n",
    "plt.show()\n",
    "plt.plot(loss,label=\"loss\")\n",
    "plt.plot(val_loss,label=\"val_loss\")\n",
    "plt.legend()\n",
    "plt.show()"
   ]
  },
  {
   "cell_type": "code",
   "execution_count": 28,
   "metadata": {
    "id": "Yw59YPFAceZc"
   },
   "outputs": [],
   "source": [
    "# We are getting noisy curves as the dataset is small"
   ]
  },
  {
   "cell_type": "code",
   "execution_count": 29,
   "metadata": {
    "id": "53auFcYWdtlG"
   },
   "outputs": [],
   "source": [
    "### After knowing the correct number of epochs our model should train we will again train\n",
    "# the model on whole traing data (including the validation data)"
   ]
  },
  {
   "cell_type": "code",
   "execution_count": 29,
   "metadata": {
    "id": "CASK7tAzahJp"
   },
   "outputs": [],
   "source": []
  }
 ],
 "metadata": {
  "accelerator": "GPU",
  "colab": {
   "name": "Cats_Dogs_Humans_Horses_CNN(MultiClass Classification)",
   "provenance": []
  },
  "kernelspec": {
   "display_name": "Python 3",
   "language": "python",
   "name": "python3"
  },
  "language_info": {
   "codemirror_mode": {
    "name": "ipython",
    "version": 3
   },
   "file_extension": ".py",
   "mimetype": "text/x-python",
   "name": "python",
   "nbconvert_exporter": "python",
   "pygments_lexer": "ipython3",
   "version": "3.6.12"
  }
 },
 "nbformat": 4,
 "nbformat_minor": 1
}
