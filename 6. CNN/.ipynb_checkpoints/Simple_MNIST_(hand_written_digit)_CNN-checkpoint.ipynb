{
 "cells": [
  {
   "cell_type": "markdown",
   "metadata": {},
   "source": [
    "# Convolutional Neural Networks\n",
    "- Understanding CNN's Better"
   ]
  },
  {
   "cell_type": "markdown",
   "metadata": {},
   "source": [
    "- Lets build a small Convet to classify MNIST Dataset"
   ]
  },
  {
   "cell_type": "code",
   "execution_count": 1,
   "metadata": {
    "colab": {
     "base_uri": "https://localhost:8080/",
     "height": 34
    },
    "colab_type": "code",
    "id": "5UQETGDk07a3",
    "outputId": "c6d9dcc8-8f1c-4418-c48d-d85d1d2d38df"
   },
   "outputs": [
    {
     "name": "stderr",
     "output_type": "stream",
     "text": [
      "Using TensorFlow backend.\n"
     ]
    }
   ],
   "source": [
    "from keras.layers import * #Import all layers\n",
    "# Keras offers two types of api a.Sequential b.Functionl\n",
    "# If network is having a stack of layers then sequential api is good\n",
    "# And if our network is complex and have braches then functional api works well\n",
    "from keras.models import Sequential"
   ]
  },
  {
   "cell_type": "code",
   "execution_count": 2,
   "metadata": {},
   "outputs": [
    {
     "data": {
      "text/plain": [
       "'\\n    *In 2012,in Alexnet Model the filtersize was (11*11).\\n    *In zfnet Model the kernel size reduces to (7*7)\\n    *In the improvement of vgg model the kernel size reduced to (3*3)\\n    *Reduced Kernel size made the network more deep and powerful\\n    * As we go deep the receptive field of the network increases significantly.\\n    * The deep neural networks capture even the smallest of the feature (i.e.,High level\\n    features).\\n    *By introducing the pooling ,we shrink the volume and increase the receptive field\\n    of the network.\\n'"
      ]
     },
     "execution_count": 2,
     "metadata": {},
     "output_type": "execute_result"
    }
   ],
   "source": [
    "# How do we decide model Parameters?\n",
    "# The Filter/Kernel Size is kept (3,3)\n",
    "\"\"\"\n",
    "    *In 2012,in Alexnet Model the filtersize was (11*11).\n",
    "    *In zfnet Model the kernel size reduces to (7*7)\n",
    "    *In the improvement of vgg model the kernel size reduced to (3*3)\n",
    "    *Reduced Kernel size made the network more deep and powerful\n",
    "    * As we go deep the receptive field of the network increases significantly.\n",
    "    * The deep neural networks capture even the smallest of the feature (i.e.,High level\n",
    "    features).\n",
    "    *By introducing the pooling ,we shrink the volume and increase the receptive field\n",
    "    of the network.\n",
    "\"\"\""
   ]
  },
  {
   "cell_type": "code",
   "execution_count": 3,
   "metadata": {
    "colab": {
     "base_uri": "https://localhost:8080/",
     "height": 408
    },
    "colab_type": "code",
    "id": "WST-1Hu11PYs",
    "outputId": "614539b9-0f1a-4692-c05a-93e994cbff90"
   },
   "outputs": [
    {
     "name": "stdout",
     "output_type": "stream",
     "text": [
      "Model: \"sequential_1\"\n",
      "_________________________________________________________________\n",
      "Layer (type)                 Output Shape              Param #   \n",
      "=================================================================\n",
      "conv2d_1 (Conv2D)            (None, 26, 26, 32)        320       \n",
      "_________________________________________________________________\n",
      "max_pooling2d_1 (MaxPooling2 (None, 13, 13, 32)        0         \n",
      "_________________________________________________________________\n",
      "conv2d_2 (Conv2D)            (None, 11, 11, 64)        18496     \n",
      "_________________________________________________________________\n",
      "max_pooling2d_2 (MaxPooling2 (None, 5, 5, 64)          0         \n",
      "_________________________________________________________________\n",
      "conv2d_3 (Conv2D)            (None, 3, 3, 64)          36928     \n",
      "_________________________________________________________________\n",
      "flatten_1 (Flatten)          (None, 576)               0         \n",
      "_________________________________________________________________\n",
      "dense_1 (Dense)              (None, 64)                36928     \n",
      "_________________________________________________________________\n",
      "dense_2 (Dense)              (None, 10)                650       \n",
      "=================================================================\n",
      "Total params: 93,322\n",
      "Trainable params: 93,322\n",
      "Non-trainable params: 0\n",
      "_________________________________________________________________\n"
     ]
    }
   ],
   "source": [
    "# Build a Model \n",
    "model = Sequential()\n",
    "model.add(Conv2D(32,(3,3),activation='relu',input_shape=(28,28,1)))\n",
    "# Both stride and pool size is (2,2)\n",
    "model.add(MaxPool2D((2,2)))# MaxPool is going to shrink the image (H,W) keeping the filters same\n",
    "model.add(Conv2D(64,(3,3),activation='relu',input_shape=(28,28,1)))\n",
    "model.add(MaxPool2D((2,2)))\n",
    "model.add(Conv2D(64,(3,3),activation='relu',input_shape=(28,28,1)))\n",
    "model.add(Flatten())\n",
    "# MlP(Multi Layrer Perceptron)\n",
    "model.add(Dense(64,activation='relu'))\n",
    "model.add(Dense(10,activation='softmax'))\n",
    "model.summary()"
   ]
  },
  {
   "cell_type": "code",
   "execution_count": 4,
   "metadata": {
    "colab": {},
    "colab_type": "code",
    "id": "8mr8Swri1Tvw"
   },
   "outputs": [],
   "source": [
    "#Dataset\n",
    "from keras.datasets import mnist\n",
    "from keras.utils import to_categorical\n",
    "(XTrain,YTrain),(XTest,YTest) = mnist.load_data()"
   ]
  },
  {
   "cell_type": "code",
   "execution_count": 5,
   "metadata": {
    "colab": {
     "base_uri": "https://localhost:8080/",
     "height": 51
    },
    "colab_type": "code",
    "id": "imDDq6a81bLp",
    "outputId": "14149e67-4c53-40cc-b661-71cab4244af9"
   },
   "outputs": [
    {
     "name": "stdout",
     "output_type": "stream",
     "text": [
      "(60000, 28, 28, 1) (60000, 10)\n",
      "(10000, 28, 28, 1) (10000, 10)\n"
     ]
    }
   ],
   "source": [
    "def preprocess_data(X,Y):\n",
    "    X = X.reshape((-1,28,28,1))\n",
    "    X = X/255.0\n",
    "    Y = to_categorical(Y)\n",
    "    return X,Y\n",
    "\n",
    "XTrain,YTrain = preprocess_data(XTrain,YTrain)\n",
    "print(XTrain.shape,YTrain.shape)\n",
    "\n",
    "XTest,YTest = preprocess_data(XTest,YTest)\n",
    "print(XTest.shape,YTest.shape)"
   ]
  },
  {
   "cell_type": "code",
   "execution_count": null,
   "metadata": {
    "colab": {
     "base_uri": "https://localhost:8080/",
     "height": 714
    },
    "colab_type": "code",
    "id": "kFn8D-3M1eAb",
    "outputId": "1fd1ede8-25c1-41aa-d51e-5531e3f631f7"
   },
   "outputs": [
    {
     "name": "stdout",
     "output_type": "stream",
     "text": [
      "Train on 54000 samples, validate on 6000 samples\n",
      "Epoch 1/20\n",
      "54000/54000 [==============================] - 19s 346us/step - loss: 0.2911 - accuracy: 0.9115 - val_loss: 0.0760 - val_accuracy: 0.9775\n",
      "Epoch 2/20\n",
      "54000/54000 [==============================] - 18s 340us/step - loss: 0.0667 - accuracy: 0.9790 - val_loss: 0.0645 - val_accuracy: 0.9810\n",
      "Epoch 3/20\n",
      "54000/54000 [==============================] - 20s 367us/step - loss: 0.0446 - accuracy: 0.9866 - val_loss: 0.0397 - val_accuracy: 0.9892\n",
      "Epoch 4/20\n",
      "54000/54000 [==============================] - 19s 359us/step - loss: 0.0353 - accuracy: 0.9892 - val_loss: 0.0419 - val_accuracy: 0.9877\n",
      "Epoch 5/20\n",
      "52736/54000 [============================>.] - ETA: 0s - loss: 0.0296 - accuracy: 0.9908"
     ]
    }
   ],
   "source": [
    "# Model Compilation\n",
    "model.compile(optimizer='adam',loss='categorical_crossentropy',metrics=['accuracy'])\n",
    "hist = model.fit(XTrain,YTrain,epochs=20,validation_split=0.1,batch_size=128)"
   ]
  },
  {
   "cell_type": "code",
   "execution_count": null,
   "metadata": {
    "colab": {
     "base_uri": "https://localhost:8080/",
     "height": 51
    },
    "colab_type": "code",
    "id": "QqoMHU4-1sib",
    "outputId": "0b8c1231-e582-4214-f408-55d317fdbf2a"
   },
   "outputs": [],
   "source": [
    "model.evaluate(XTest,YTest)"
   ]
  },
  {
   "cell_type": "code",
   "execution_count": null,
   "metadata": {
    "colab": {
     "base_uri": "https://localhost:8080/",
     "height": 340
    },
    "colab_type": "code",
    "id": "3NS_ZNnQ2Q3u",
    "outputId": "64de07df-f8b0-426f-ad95-0630db481180"
   },
   "outputs": [],
   "source": [
    "# Build a Model without Pooling?\n",
    "# Why Pooling is Important -> Reduce Params, Increase Receptive Field of the Network!\n",
    "\n",
    "model = Sequential()\n",
    "model.add(Conv2D(32,(3,3),activation='relu',input_shape=(28,28,1)))\n",
    "#model.add(MaxPool2D((2,2)))\n",
    "model.add(Conv2D(64,(3,3),activation='relu',input_shape=(28,28,1)))\n",
    "#model.add(MaxPool2D((2,2)))\n",
    "model.add(Conv2D(64,(3,3),activation='relu',input_shape=(28,28,1)))\n",
    "model.add(Flatten())\n",
    "model.add(Dense(64,activation='relu'))\n",
    "model.add(Dense(10,activation='softmax'))\n",
    "model.summary()"
   ]
  },
  {
   "cell_type": "code",
   "execution_count": null,
   "metadata": {
    "colab": {},
    "colab_type": "code",
    "id": "2RqPj-rZ8tfZ"
   },
   "outputs": [],
   "source": []
  }
 ],
 "metadata": {
  "accelerator": "GPU",
  "colab": {
   "name": "Simple_MNIST_CNN",
   "provenance": [],
   "version": "0.3.2"
  },
  "kernelspec": {
   "display_name": "Python 3",
   "language": "python",
   "name": "python3"
  },
  "language_info": {
   "codemirror_mode": {
    "name": "ipython",
    "version": 3
   },
   "file_extension": ".py",
   "mimetype": "text/x-python",
   "name": "python",
   "nbconvert_exporter": "python",
   "pygments_lexer": "ipython3",
   "version": "3.6.12"
  }
 },
 "nbformat": 4,
 "nbformat_minor": 1
}
