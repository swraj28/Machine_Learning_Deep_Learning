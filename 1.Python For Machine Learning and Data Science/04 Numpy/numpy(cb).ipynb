{
 "cells": [
  {
   "cell_type": "markdown",
   "metadata": {},
   "source": [
    "### Working with Numpy (Numerical Python) - for mathematical operations"
   ]
  },
  {
   "cell_type": "markdown",
   "metadata": {},
   "source": [
    "### Basics"
   ]
  },
  {
   "cell_type": "code",
   "execution_count": null,
   "metadata": {},
   "outputs": [],
   "source": []
  },
  {
   "cell_type": "code",
   "execution_count": 1,
   "metadata": {},
   "outputs": [],
   "source": [
    "import numpy as np"
   ]
  },
  {
   "cell_type": "code",
   "execution_count": 2,
   "metadata": {},
   "outputs": [
    {
     "name": "stdout",
     "output_type": "stream",
     "text": [
      "[1 2 3 4 5]\n",
      "<class 'numpy.ndarray'>\n",
      "1\n",
      "(5,)\n",
      "1\n"
     ]
    }
   ],
   "source": [
    "a = np.array([1,2,3,4,5]) #Linear Array\n",
    "print(a)\n",
    "print(type(a))\n",
    "print(a.ndim)\n",
    "print(a.shape)\n",
    "print(a[0])"
   ]
  },
  {
   "cell_type": "code",
   "execution_count": 3,
   "metadata": {},
   "outputs": [
    {
     "name": "stdout",
     "output_type": "stream",
     "text": [
      "[[1]\n",
      " [2]\n",
      " [3]\n",
      " [4]\n",
      " [5]]\n",
      "2\n",
      "(5, 1)\n",
      "1\n"
     ]
    }
   ],
   "source": [
    "b = np.array([[1],[2],[3],[4],[5]]) #A type of 2d array\n",
    "print(b)\n",
    "print(b.ndim)\n",
    "print(b.shape)\n",
    "print(b[0][0])"
   ]
  },
  {
   "cell_type": "code",
   "execution_count": 4,
   "metadata": {},
   "outputs": [
    {
     "name": "stdout",
     "output_type": "stream",
     "text": [
      "[[1 2 3]\n",
      " [4 5 6]]\n",
      "(2, 3)\n",
      "6\n",
      "5\n"
     ]
    }
   ],
   "source": [
    "c = np.array([[1,2,3],[4,5,6]])\n",
    "print(c)\n",
    "print(c.shape)\n",
    "print(c.size)\n",
    "print(c[1][1])"
   ]
  },
  {
   "cell_type": "code",
   "execution_count": 5,
   "metadata": {},
   "outputs": [
    {
     "name": "stdout",
     "output_type": "stream",
     "text": [
      "[[0 0 0]\n",
      " [0 0 0]\n",
      " [0 0 0]]\n",
      "[[1 1 1]\n",
      " [1 1 1]]\n",
      "[[5 5]\n",
      " [5 5]\n",
      " [5 5]]\n",
      "[[1. 0. 0. 0.]\n",
      " [0. 1. 0. 0.]\n",
      " [0. 0. 1. 0.]\n",
      " [0. 0. 0. 1.]]\n",
      "[[1 0 0 0]\n",
      " [0 1 0 0]\n",
      " [0 0 1 0]\n",
      " [0 0 0 1]]\n",
      "[[0.50886103 0.54469159 0.86406096]\n",
      " [0.33577419 0.67927934 0.53955756]]\n",
      "[[3 7 0]\n",
      " [2 4 6]\n",
      " [4 7 0]]\n"
     ]
    }
   ],
   "source": [
    "# Create Zeros, Ones, Custom array\n",
    "a = np.zeros((3,3),np.dtype('uint8'))\n",
    "print(a)\n",
    "\n",
    "b = np.ones((2,3),np.dtype('int64'))\n",
    "print(b)\n",
    "\n",
    "#Array of some constants\n",
    "c = np.full((3,2),5)\n",
    "print(c)\n",
    "\n",
    "#Identity Matrix - Size/Square matrix (float)\n",
    "d = np.eye(4)\n",
    "print(d)\n",
    "#Identity Matrix (integers)\n",
    "e=np.identity(4,dtype=int)\n",
    "print(e)\n",
    "\n",
    "#Random Matrix (by default floating numbers)\n",
    "randomMatrix = np.random.random((2,3))\n",
    "print(randomMatrix)\n",
    "\n",
    "#Random Matrix Of integers\n",
    "randomMatrix=np.random.randint(8,size=(3,3))\n",
    "print(randomMatrix)"
   ]
  },
  {
   "cell_type": "code",
   "execution_count": 6,
   "metadata": {},
   "outputs": [
    {
     "name": "stdout",
     "output_type": "stream",
     "text": [
      "3\n",
      "3750\n"
     ]
    },
    {
     "data": {
      "image/png": "[encoded data removed]",
      "text/plain": [
       "<Figure size 432x288 with 1 Axes>"
      ]
     },
     "metadata": {
      "needs_background": "light"
     },
     "output_type": "display_data"
    }
   ],
   "source": [
    "T=np.zeros((50,25,3),dtype='uint8')\n",
    "T[ : , : ,0] = 255\n",
    "import matplotlib.pyplot as plt\n",
    "print(T.ndim)\n",
    "#Number Of Elements in numpy array\n",
    "print(T.size)\n",
    "plt.imshow(T)\n",
    "plt.show()"
   ]
  },
  {
   "cell_type": "code",
   "execution_count": 7,
   "metadata": {},
   "outputs": [
    {
     "name": "stdout",
     "output_type": "stream",
     "text": [
      "[0 6 0]\n"
     ]
    }
   ],
   "source": [
    "#Print all rows of 2nd column of random Matrix\n",
    "print(randomMatrix[ : ,2])"
   ]
  },
  {
   "cell_type": "code",
   "execution_count": 8,
   "metadata": {},
   "outputs": [
    {
     "name": "stdout",
     "output_type": "stream",
     "text": [
      "[[3 7 0]\n",
      " [2 4 6]\n",
      " [4 1 1]]\n"
     ]
    }
   ],
   "source": [
    "randomMatrix[2,1:3] = 1 # Slicing\n",
    "print(randomMatrix)"
   ]
  },
  {
   "cell_type": "code",
   "execution_count": 9,
   "metadata": {},
   "outputs": [
    {
     "name": "stdout",
     "output_type": "stream",
     "text": [
      "[[-1.   2.   0.   4. ]\n",
      " [ 4.  -0.5  6.   0. ]\n",
      " [ 2.6  0.   7.   8. ]\n",
      " [ 3.  -7.   4.   2. ]]\n",
      "(4, 4)\n",
      "[[-1.   4.   2.6  3. ]\n",
      " [ 2.  -0.5  0.  -7. ]\n",
      " [ 0.   6.   7.   4. ]\n",
      " [ 4.   0.   8.   2. ]]\n",
      "[[-1.  0.]\n",
      " [ 4.  6.]]\n"
     ]
    }
   ],
   "source": [
    "a = np.array([[-1, 2, 0, 4], \n",
    "                [4, -0.5, 6, 0], \n",
    "                [2.6, 0, 7, 8], \n",
    "                [3, -7, 4, 2.0]])\n",
    "print(a)\n",
    "print(a.shape)\n",
    "#Transponse Of a\n",
    "print(a.T)\n",
    "#Array with first 2 rows and alternate columns(0 and 2)\n",
    "temp=a[:2,::2]\n",
    "print(temp)"
   ]
  },
  {
   "cell_type": "code",
   "execution_count": 10,
   "metadata": {},
   "outputs": [
    {
     "name": "stdout",
     "output_type": "stream",
     "text": [
      "[[0 0 0]\n",
      " [0 0 0]\n",
      " [0 0 0]]\n",
      "[[0 0 7]\n",
      " [5 5 7]\n",
      " [0 0 7]]\n"
     ]
    }
   ],
   "source": [
    "## Set some rows and columns with any values\n",
    "z = np.zeros((3,3),dtype = np.uint8)\n",
    "print(z)\n",
    "z[1,:] = 5\n",
    "z[ :,-1] = 7\n",
    "print(z)\n"
   ]
  },
  {
   "cell_type": "code",
   "execution_count": 11,
   "metadata": {},
   "outputs": [
    {
     "name": "stdout",
     "output_type": "stream",
     "text": [
      "uint8\n"
     ]
    }
   ],
   "source": [
    "# Datatypes \n",
    "print(z.dtype)"
   ]
  },
  {
   "cell_type": "code",
   "execution_count": 12,
   "metadata": {},
   "outputs": [
    {
     "name": "stdout",
     "output_type": "stream",
     "text": [
      "[[ 6  8]\n",
      " [10 12]]\n",
      "[[ 6  8]\n",
      " [10 12]]\n",
      "[[-4 -4]\n",
      " [-4 -4]]\n",
      "[[-4 -4]\n",
      " [-4 -4]]\n"
     ]
    }
   ],
   "source": [
    "#Matematical Operations\n",
    "x = np.array([[1,2],[3,4]])\n",
    "y = np.array([[5,6],[7,8]])\n",
    "\n",
    "#Element Wise Addition\n",
    "print(x+y)\n",
    "print(np.add(x,y))\n",
    "print(x-y)\n",
    "print(np.subtract(x,y))"
   ]
  },
  {
   "cell_type": "code",
   "execution_count": 13,
   "metadata": {},
   "outputs": [
    {
     "name": "stdout",
     "output_type": "stream",
     "text": [
      "[[ 5 12]\n",
      " [21 32]]\n",
      "[[ 5 12]\n",
      " [21 32]]\n",
      "[[0.2        0.33333333]\n",
      " [0.42857143 0.5       ]]\n",
      "[[0.2        0.33333333]\n",
      " [0.42857143 0.5       ]]\n",
      "[[1.         1.41421356]\n",
      " [1.73205081 2.        ]]\n"
     ]
    }
   ],
   "source": [
    "print(x*y)\n",
    "print(np.multiply(x,y))\n",
    "print(x/y)\n",
    "print(np.divide(x,y))\n",
    "print(np.sqrt(x))"
   ]
  },
  {
   "cell_type": "code",
   "execution_count": 14,
   "metadata": {},
   "outputs": [
    {
     "name": "stdout",
     "output_type": "stream",
     "text": [
      "[[1 2]\n",
      " [3 4]]\n",
      "[[5 6]\n",
      " [7 8]]\n",
      "[[19 22]\n",
      " [43 50]]\n",
      "[[19 22]\n",
      " [43 50]]\n"
     ]
    }
   ],
   "source": [
    "# Matrix Multiplication / Dot Products\n",
    "print(x)\n",
    "print(y)\n",
    "\n",
    "print(x.dot(y))\n",
    "print(np.dot(x,y))\n"
   ]
  },
  {
   "cell_type": "code",
   "execution_count": 15,
   "metadata": {},
   "outputs": [
    {
     "name": "stdout",
     "output_type": "stream",
     "text": [
      "30\n"
     ]
    }
   ],
   "source": [
    "#Multiplication(Dot Product) of Vectors => Scalar output\n",
    "a = np.array([1,2,3,4])\n",
    "b = np.array([1,2,3,4])\n",
    "print(a.dot(b))"
   ]
  },
  {
   "cell_type": "code",
   "execution_count": 16,
   "metadata": {},
   "outputs": [
    {
     "name": "stdout",
     "output_type": "stream",
     "text": [
      "[1 2 3 4]\n"
     ]
    }
   ],
   "source": [
    "print(a)"
   ]
  },
  {
   "cell_type": "code",
   "execution_count": 17,
   "metadata": {},
   "outputs": [
    {
     "name": "stdout",
     "output_type": "stream",
     "text": [
      "10\n"
     ]
    }
   ],
   "source": [
    "print(sum(a))"
   ]
  },
  {
   "cell_type": "code",
   "execution_count": 18,
   "metadata": {},
   "outputs": [
    {
     "name": "stdout",
     "output_type": "stream",
     "text": [
      "[[1 2]\n",
      " [3 4]]\n"
     ]
    }
   ],
   "source": [
    "print(x)"
   ]
  },
  {
   "cell_type": "code",
   "execution_count": 19,
   "metadata": {},
   "outputs": [
    {
     "name": "stdout",
     "output_type": "stream",
     "text": [
      "10\n",
      "[3 7]\n"
     ]
    }
   ],
   "source": [
    "print(np.sum(x))\n",
    "print(np.sum(x,axis=1)) #axis=1 (along rows),axis=0 =>along columns"
   ]
  },
  {
   "cell_type": "code",
   "execution_count": 20,
   "metadata": {},
   "outputs": [
    {
     "name": "stdout",
     "output_type": "stream",
     "text": [
      "[1 2 3 4]\n",
      "[6 7 8 9]\n"
     ]
    }
   ],
   "source": [
    "# Stacking of arrays\n",
    "print(a)\n",
    "b = b + 5\n",
    "print(b)"
   ]
  },
  {
   "cell_type": "code",
   "execution_count": 21,
   "metadata": {},
   "outputs": [],
   "source": [
    "a = np.stack((a,b),axis=0)"
   ]
  },
  {
   "cell_type": "code",
   "execution_count": 22,
   "metadata": {},
   "outputs": [
    {
     "name": "stdout",
     "output_type": "stream",
     "text": [
      "[[1 2 3 4]\n",
      " [6 7 8 9]]\n"
     ]
    }
   ],
   "source": [
    "# Reshape a Numpy Array\n",
    "#print(a)\n",
    "a = a.reshape((-1,4)) #Here -1 is used to automatically figuring out number of rows or col.\n",
    "print(a)"
   ]
  },
  {
   "cell_type": "code",
   "execution_count": 23,
   "metadata": {},
   "outputs": [
    {
     "name": "stdout",
     "output_type": "stream",
     "text": [
      "(3, 4)\n",
      "[[1 2 3]\n",
      " [4 5 6]\n",
      " [7 8 1]\n",
      " [3 5 6]]\n",
      "(4, 3)\n",
      "[[[1 2 3]\n",
      "  [4 5 6]]\n",
      "\n",
      " [[7 8 1]\n",
      "  [3 5 6]]]\n",
      "(2, 2, 3)\n"
     ]
    }
   ],
   "source": [
    "a=np.array([[1,2,3,4],\n",
    "           [5,6,7,8],\n",
    "           [1,3,5,6]])\n",
    "print(a.shape)\n",
    "a=a.reshape(-1,3)\n",
    "print(a)\n",
    "print(a.shape)\n",
    "a=a.reshape(2,2,3)\n",
    "print(a)\n",
    "print(a.shape)"
   ]
  },
  {
   "cell_type": "code",
   "execution_count": 24,
   "metadata": {},
   "outputs": [
    {
     "name": "stdout",
     "output_type": "stream",
     "text": [
      "(2, 4)\n",
      "[[1 2 3 4]\n",
      " [5 6 7 8]]\n",
      "[1 2 3 4 5 6 7 8]\n",
      "<class 'numpy.ndarray'>\n"
     ]
    }
   ],
   "source": [
    "a=np.array([[1,2,3,4],[5,6,7,8]])\n",
    "print(a.shape)\n",
    "print(a)\n",
    "# Return a copy of the array collapsed into one dimension\n",
    "a=a.flatten()\n",
    "print(a)\n",
    "print(type(a))"
   ]
  },
  {
   "cell_type": "code",
   "execution_count": 25,
   "metadata": {},
   "outputs": [
    {
     "name": "stdout",
     "output_type": "stream",
     "text": [
      "Largest element is: 9\n",
      "Row-wise maximum elements: [6 7 9]\n",
      "Column-wise minimum elements: [4 7 9]\n",
      "Sum of all array elements: 38\n",
      "Cumulative sum along each row:\n",
      " [[ 1  6 12]\n",
      " [ 4 11 13]\n",
      " [ 3  4 13]]\n"
     ]
    }
   ],
   "source": [
    "arr = np.array([[1, 5, 6], \n",
    "                [4, 7, 2], \n",
    "                [3, 1, 9]]) \n",
    "  \n",
    "# maximum element of array \n",
    "print (\"Largest element is:\", arr.max()) \n",
    "print (\"Row-wise maximum elements:\", \n",
    "                    arr.max(axis = 1)) \n",
    "  \n",
    "# minimum element of array \n",
    "print (\"Column-wise minimum elements:\", \n",
    "                        arr.max(axis = 0)) \n",
    "  \n",
    "# sum of array elements \n",
    "print (\"Sum of all array elements:\", \n",
    "                            arr.sum()) \n",
    "  \n",
    "# cumulative sum along each row \n",
    "print (\"Cumulative sum along each row:\\n\", \n",
    "                        arr.cumsum(axis = 1))"
   ]
  },
  {
   "cell_type": "code",
   "execution_count": 26,
   "metadata": {},
   "outputs": [],
   "source": [
    "a.flatten?"
   ]
  },
  {
   "cell_type": "markdown",
   "metadata": {},
   "source": [
    "# Some More Numpy Functions - Statistics\n",
    "- min, max\n",
    "- mean \n",
    "- median\n",
    "- average\n",
    "- variance\n",
    "- standard devidation\n"
   ]
  },
  {
   "cell_type": "code",
   "execution_count": 27,
   "metadata": {},
   "outputs": [
    {
     "name": "stdout",
     "output_type": "stream",
     "text": [
      "[[1 2 3 4]\n",
      " [7 6 2 0]]\n",
      "0\n",
      "[1 2 2 0]\n",
      "[1 0]\n"
     ]
    }
   ],
   "source": [
    "a = np.array([[1,2,3,4],[7,6,2,0]])\n",
    "print(a)\n",
    "print(np.min(a))\n",
    "#Specify axis for the direction in case of multidim array\n",
    "print(np.min(a,axis=0))\n",
    "print(np.min(a,axis=1))"
   ]
  },
  {
   "cell_type": "code",
   "execution_count": 28,
   "metadata": {},
   "outputs": [
    {
     "name": "stdout",
     "output_type": "stream",
     "text": [
      "3.0\n",
      "3.0\n",
      "[4.  4.  2.5 2. ]\n",
      "[2.5  3.75]\n"
     ]
    }
   ],
   "source": [
    "b = np.array([1,2,3,4,5])\n",
    "m = sum(b)/5\n",
    "print(m)\n",
    "\n",
    "print(np.mean(b))\n",
    "print(np.mean(a,axis=0))\n",
    "print(np.mean(a,axis=1))"
   ]
  },
  {
   "cell_type": "code",
   "execution_count": 29,
   "metadata": {},
   "outputs": [
    {
     "name": "stdout",
     "output_type": "stream",
     "text": [
      "2.0\n",
      "2.4\n",
      "2.4\n",
      "1.854723699099141\n",
      "1.854723699099141\n",
      "3.440000000000001\n",
      "3.4400000000000004\n"
     ]
    }
   ],
   "source": [
    "c = np.array([1,5,4,2,0])\n",
    "print(np.median(c))\n",
    "\n",
    "# Mean vs Average is Weighted\n",
    "print(np.mean(c))\n",
    "\n",
    "# Weights \n",
    "w = np.array([1,1,1,1,1])\n",
    "print(np.average(c,weights=w))\n",
    "\n",
    "# Standard Deviation\n",
    "u = np.mean(c)\n",
    "myStd = np.sqrt(np.mean(abs(c-u)**2))\n",
    "print(myStd)\n",
    "\n",
    "#Inbuilt Function\n",
    "dev= np.std(c)\n",
    "print(dev)\n",
    "\n",
    "#Variance\n",
    "print(myStd**2)\n",
    "print(np.var(c))"
   ]
  },
  {
   "cell_type": "markdown",
   "metadata": {},
   "source": [
    "# Numpy Random Module\n",
    "\n",
    "- rand : Random values in a given shape.\n",
    "- randn : Return a sample (or samples) from the “standard normal” distribution.\n",
    "- randint : Return random integers from low (inclusive) to high (exclusive).\n",
    "- random : Return random floats in the half-open interval [0.0, 1.0) \n",
    "- choice : Generates a random sample from a given 1-D array\n",
    "- Shuffle : Shuffles the contents of a sequence"
   ]
  },
  {
   "cell_type": "code",
   "execution_count": 30,
   "metadata": {},
   "outputs": [
    {
     "name": "stdout",
     "output_type": "stream",
     "text": [
      "[ 5  6  7  8  9 10 11 12 13 14]\n",
      "[ 0  5 10 15 20 25]\n"
     ]
    }
   ],
   "source": [
    "a = np.arange(10) + 5\n",
    "print(a)\n",
    "#Creates a Sequence of integers from 0 to 30 with a step size of 5\n",
    "a=np.arange(0,30,5)\n",
    "print(a)"
   ]
  },
  {
   "cell_type": "code",
   "execution_count": 31,
   "metadata": {},
   "outputs": [
    {
     "name": "stdout",
     "output_type": "stream",
     "text": [
      "[-10.          -8.94736842  -7.89473684  -6.84210526  -5.78947368\n",
      "  -4.73684211  -3.68421053  -2.63157895  -1.57894737  -0.52631579\n",
      "   0.52631579   1.57894737   2.63157895   3.68421053   4.73684211\n",
      "   5.78947368   6.84210526   7.89473684   8.94736842  10.        ]\n"
     ]
    }
   ],
   "source": [
    "# Create a sequence of 20 values in range -10 to 10\n",
    "a=np.linspace(-10,10,20)\n",
    "print(a)"
   ]
  },
  {
   "cell_type": "code",
   "execution_count": 32,
   "metadata": {},
   "outputs": [
    {
     "name": "stdout",
     "output_type": "stream",
     "text": [
      "[  8.94736842  -8.94736842  10.          -1.57894737   0.52631579\n",
      "   7.89473684  -3.68421053   3.68421053  -5.78947368  -7.89473684\n",
      "  -4.73684211   4.73684211  -0.52631579  -2.63157895   6.84210526\n",
      "   1.57894737  -6.84210526 -10.           5.78947368   2.63157895]\n"
     ]
    }
   ],
   "source": [
    "np.random.seed(0)\n",
    "np.random.shuffle(a)\n",
    "print(a)"
   ]
  },
  {
   "cell_type": "code",
   "execution_count": 33,
   "metadata": {},
   "outputs": [
    {
     "name": "stdout",
     "output_type": "stream",
     "text": [
      "[0 1 2 3 4 5 6 7 8 9]\n"
     ]
    }
   ],
   "source": [
    "a=np.arange(10)\n",
    "print(a)"
   ]
  },
  {
   "cell_type": "code",
   "execution_count": 34,
   "metadata": {},
   "outputs": [
    {
     "data": {
      "text/plain": [
       "array([0.5488135 , 0.71518937, 0.60276338, 0.54488318])"
      ]
     },
     "execution_count": 34,
     "metadata": {},
     "output_type": "execute_result"
    }
   ],
   "source": [
    "np.random.seed(0)\n",
    "np.random.rand(4)"
   ]
  },
  {
   "cell_type": "code",
   "execution_count": 35,
   "metadata": {},
   "outputs": [
    {
     "name": "stdout",
     "output_type": "stream",
     "text": [
      "[[ 1.86755799 -0.97727788  0.95008842]\n",
      " [-0.15135721 -0.10321885  0.4105985 ]]\n",
      "[5 6 6]\n",
      "27\n"
     ]
    }
   ],
   "source": [
    "#Returns values from a Standard Normal Distributions\n",
    "a = np.random.randn(2,3)\n",
    "print(a)\n",
    "\n",
    "a = np.random.randint(5,10,3)  #Three Numbers Between 5 and 10\n",
    "print(a)\n",
    "\n",
    "#Randoly pick one element from a array\n",
    "element = np.random.choice([1,4,3,2,11,27])\n",
    "print(element)\n"
   ]
  },
  {
   "cell_type": "code",
   "execution_count": 36,
   "metadata": {},
   "outputs": [
    {
     "name": "stdout",
     "output_type": "stream",
     "text": [
      "[1 3 2 4 5]\n"
     ]
    }
   ],
   "source": [
    "# Creating A numpy array from tuples\n",
    "a=np.array((1,3,2,4,5))\n",
    "print(a)"
   ]
  },
  {
   "cell_type": "markdown",
   "metadata": {},
   "source": [
    "### Advanced"
   ]
  },
  {
   "cell_type": "code",
   "execution_count": 37,
   "metadata": {},
   "outputs": [
    {
     "name": "stdout",
     "output_type": "stream",
     "text": [
      "(4, 3)\n",
      "(4, 1)\n",
      "[[1 2 3 1]\n",
      " [4 5 6 0]\n",
      " [7 8 9 1]\n",
      " [1 2 3 0]]\n"
     ]
    }
   ],
   "source": [
    "a=np.array([[1,2,3],\n",
    "           [4,5,6],\n",
    "           [7,8,9],\n",
    "           [1,2,3]])\n",
    "print(a.shape)\n",
    "b=np.array([[1],\n",
    "           [0],\n",
    "           [1],\n",
    "           [0]])\n",
    "print(b.shape)\n",
    "c=np.concatenate((a,b),axis=1)\n",
    "print(c)"
   ]
  },
  {
   "cell_type": "code",
   "execution_count": 38,
   "metadata": {},
   "outputs": [
    {
     "name": "stdout",
     "output_type": "stream",
     "text": [
      "(8, 1)\n",
      "[[1]\n",
      " [2]\n",
      " [3]\n",
      " [4]\n",
      " [5]\n",
      " [6]\n",
      " [7]\n",
      " [8]]\n"
     ]
    }
   ],
   "source": [
    "a=[[[1],[2],[3],[4]],[[5],[6],[7],[8]]]\n",
    "b=np.concatenate(a,axis=0)\n",
    "print(b.shape)\n",
    "print(b)"
   ]
  },
  {
   "cell_type": "code",
   "execution_count": 39,
   "metadata": {},
   "outputs": [
    {
     "name": "stdout",
     "output_type": "stream",
     "text": [
      "[[1]\n",
      " [2]\n",
      " [3]\n",
      " [4]\n",
      " [5]\n",
      " [6]]\n"
     ]
    }
   ],
   "source": [
    "a=[[[1],[2],[3],[4],[5],[6]]]\n",
    "b=np.concatenate(a,axis=0)\n",
    "print(b)"
   ]
  },
  {
   "cell_type": "code",
   "execution_count": 40,
   "metadata": {},
   "outputs": [
    {
     "name": "stdout",
     "output_type": "stream",
     "text": [
      "[1 2 3 4 5 6 7 8 9 1 2 3]\n",
      "(12,)\n"
     ]
    }
   ],
   "source": [
    "a=np.array([[1,2,3],\n",
    "           [4,5,6],\n",
    "           [7,8,9],\n",
    "           [1,2,3]])\n",
    "a=a.flatten()\n",
    "print(a)\n",
    "print(a.shape)"
   ]
  },
  {
   "cell_type": "code",
   "execution_count": 41,
   "metadata": {},
   "outputs": [
    {
     "name": "stdout",
     "output_type": "stream",
     "text": [
      "1 2 3 4 \n"
     ]
    }
   ],
   "source": [
    "lst=[int(x) for x in input().split()]"
   ]
  },
  {
   "cell_type": "code",
   "execution_count": 42,
   "metadata": {},
   "outputs": [
    {
     "name": "stdout",
     "output_type": "stream",
     "text": [
      "[1, 2, 3, 4]\n",
      "4\n"
     ]
    }
   ],
   "source": [
    "print(lst)\n",
    "print(len(lst))"
   ]
  },
  {
   "cell_type": "code",
   "execution_count": 44,
   "metadata": {},
   "outputs": [
    {
     "name": "stdout",
     "output_type": "stream",
     "text": [
      "1\n",
      "2\n"
     ]
    }
   ],
   "source": [
    "entr = [list(int(x) for x in input().split())for i in range(int(input()))]"
   ]
  },
  {
   "cell_type": "code",
   "execution_count": 45,
   "metadata": {},
   "outputs": [
    {
     "name": "stdout",
     "output_type": "stream",
     "text": [
      "[[2]]\n"
     ]
    }
   ],
   "source": [
    "print(entr)"
   ]
  },
  {
   "cell_type": "code",
   "execution_count": 46,
   "metadata": {},
   "outputs": [
    {
     "name": "stdout",
     "output_type": "stream",
     "text": [
      "1 \n",
      "2 \n"
     ]
    }
   ],
   "source": [
    "lst=[int(x) for i in range(int(input())) for x in input().split()]"
   ]
  },
  {
   "cell_type": "code",
   "execution_count": 47,
   "metadata": {},
   "outputs": [
    {
     "name": "stdout",
     "output_type": "stream",
     "text": [
      "[2]\n",
      "1\n"
     ]
    }
   ],
   "source": [
    "print(lst)\n",
    "print(len(lst))"
   ]
  },
  {
   "cell_type": "code",
   "execution_count": 48,
   "metadata": {},
   "outputs": [
    {
     "name": "stdout",
     "output_type": "stream",
     "text": [
      "[2]\n"
     ]
    }
   ],
   "source": [
    "print(lst)"
   ]
  },
  {
   "cell_type": "code",
   "execution_count": null,
   "metadata": {},
   "outputs": [],
   "source": []
  }
 ],
 "metadata": {
  "kernelspec": {
   "display_name": "Python 3",
   "language": "python",
   "name": "python3"
  },
  "language_info": {
   "codemirror_mode": {
    "name": "ipython",
    "version": 3
   },
   "file_extension": ".py",
   "mimetype": "text/x-python",
   "name": "python",
   "nbconvert_exporter": "python",
   "pygments_lexer": "ipython3",
   "version": "3.6.12"
  }
 },
 "nbformat": 4,
 "nbformat_minor": 2
}
