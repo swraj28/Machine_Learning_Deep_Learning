{
 "cells": [
  {
   "cell_type": "markdown",
   "metadata": {},
   "source": [
    "# OOPs\n",
    "    - Object Oriented Programming Systems\n",
    "    - Classes and Objects.\n",
    "    - Abstraction, Encapsulation, Inheritance & Polymorphism\n",
    "    \n",
    "<!-- <img src=\"./images/oops.png\" width=400>     -->\n",
    "<img src=\"./images/oops.jpg\" width=400>    "
   ]
  },
  {
   "cell_type": "markdown",
   "metadata": {},
   "source": [
    "### Class \n",
    "    - classes are the blue print of any real world entity\n",
    "    - e.g Human"
   ]
  },
  {
   "cell_type": "code",
   "execution_count": 1,
   "metadata": {},
   "outputs": [],
   "source": [
    "class Human:\n",
    "    pass\n",
    "\n",
    "#class Human():\n",
    "    #pass"
   ]
  },
  {
   "cell_type": "markdown",
   "metadata": {},
   "source": [
    "### Object\n",
    "    - objects are the instances of the classes\n",
    "    - e.g mohit is an instance of Human class\n",
    "    "
   ]
  },
  {
   "cell_type": "code",
   "execution_count": 2,
   "metadata": {},
   "outputs": [],
   "source": [
    "#creating an object\n",
    "mohit = Human()"
   ]
  },
  {
   "cell_type": "code",
   "execution_count": 3,
   "metadata": {},
   "outputs": [
    {
     "data": {
      "text/plain": [
       "__main__.Human"
      ]
     },
     "execution_count": 3,
     "metadata": {},
     "output_type": "execute_result"
    }
   ],
   "source": [
    "type(mohit)"
   ]
  },
  {
   "cell_type": "code",
   "execution_count": 4,
   "metadata": {},
   "outputs": [
    {
     "name": "stdout",
     "output_type": "stream",
     "text": [
      "<class 'int'>\n"
     ]
    }
   ],
   "source": [
    "print(type(1))"
   ]
  },
  {
   "cell_type": "code",
   "execution_count": null,
   "metadata": {},
   "outputs": [],
   "source": []
  },
  {
   "cell_type": "markdown",
   "metadata": {},
   "source": [
    "### Defining the constructor of a Class\n",
    "\n",
    "    - A constructor is a special member function of a class that is executed whenever we create new objects of that class.\n",
    "\n",
    "     def __init__(self):\n",
    "         ...\n",
    "         ..."
   ]
  },
  {
   "cell_type": "code",
   "execution_count": 5,
   "metadata": {},
   "outputs": [],
   "source": [
    "class Human:\n",
    "    # constructor\n",
    "    # Self represents the current object that calls the constructor\n",
    "    def __init__(self, name, age):\n",
    "        print(\"creating an object...\")\n",
    "        \n",
    "        # instance variable:-Attribute associated with the objects\n",
    "        self.name = name\n",
    "        self.age = age"
   ]
  },
  {
   "cell_type": "code",
   "execution_count": 6,
   "metadata": {},
   "outputs": [
    {
     "name": "stdout",
     "output_type": "stream",
     "text": [
      "creating an object...\n"
     ]
    }
   ],
   "source": [
    "h1 = Human(\"Mohit\", 23 )"
   ]
  },
  {
   "cell_type": "code",
   "execution_count": 9,
   "metadata": {},
   "outputs": [
    {
     "name": "stdout",
     "output_type": "stream",
     "text": [
      "<__main__.Human object at 0x0000018059D6BF60>\n",
      "<class '__main__.Human'>\n"
     ]
    }
   ],
   "source": [
    "print(h1)\n",
    "print(type(h1))"
   ]
  },
  {
   "cell_type": "code",
   "execution_count": 16,
   "metadata": {},
   "outputs": [
    {
     "name": "stdout",
     "output_type": "stream",
     "text": [
      "Mohit\n",
      "23\n"
     ]
    }
   ],
   "source": [
    "print(h1.name)\n",
    "print(h1.age)"
   ]
  },
  {
   "cell_type": "code",
   "execution_count": 18,
   "metadata": {},
   "outputs": [
    {
     "name": "stdout",
     "output_type": "stream",
     "text": [
      "creating an object...\n"
     ]
    }
   ],
   "source": [
    "h2 = Human(\"prateek\", 27)"
   ]
  },
  {
   "cell_type": "code",
   "execution_count": 21,
   "metadata": {},
   "outputs": [
    {
     "name": "stdout",
     "output_type": "stream",
     "text": [
      "prateek\n",
      "27\n"
     ]
    }
   ],
   "source": [
    "print(h2.name)\n",
    "print(h2.age)"
   ]
  },
  {
   "cell_type": "code",
   "execution_count": null,
   "metadata": {},
   "outputs": [],
   "source": []
  },
  {
   "cell_type": "markdown",
   "metadata": {},
   "source": [
    "### Defining the methods of a instance\n",
    "    def introduce(self):\n",
    "        ...\n",
    "        ..."
   ]
  },
  {
   "cell_type": "code",
   "execution_count": 4,
   "metadata": {},
   "outputs": [],
   "source": [
    "class Human():\n",
    "    \n",
    "    # constructor\n",
    "    def __init__(self, name, age):\n",
    "        print(\"creating an object...\")\n",
    "        # instance variable\n",
    "        self.name = name\n",
    "        self.age = age\n",
    "    \n",
    "    # instance methods\n",
    "    def introduce(self):\n",
    "        print(\"Hi, My name is\", self.name, \"My age is \", self.age)"
   ]
  },
  {
   "cell_type": "code",
   "execution_count": 5,
   "metadata": {},
   "outputs": [
    {
     "name": "stdout",
     "output_type": "stream",
     "text": [
      "creating an object...\n",
      "creating an object...\n"
     ]
    }
   ],
   "source": [
    "h1 = Human(\"Mohit\", 23)\n",
    "h2 = Human(\"Prateek\", 27)"
   ]
  },
  {
   "cell_type": "code",
   "execution_count": 24,
   "metadata": {},
   "outputs": [
    {
     "name": "stdout",
     "output_type": "stream",
     "text": [
      "Hi, My name is Mohit My age is  23\n"
     ]
    }
   ],
   "source": [
    "h1.introduce()"
   ]
  },
  {
   "cell_type": "code",
   "execution_count": 25,
   "metadata": {},
   "outputs": [
    {
     "name": "stdout",
     "output_type": "stream",
     "text": [
      "Hi, My name is Prateek My age is  27\n"
     ]
    }
   ],
   "source": [
    "h2.introduce()"
   ]
  },
  {
   "cell_type": "code",
   "execution_count": 27,
   "metadata": {},
   "outputs": [
    {
     "name": "stdout",
     "output_type": "stream",
     "text": [
      "Prateek\n",
      "Mohit\n"
     ]
    }
   ],
   "source": [
    "print(h2.name)\n",
    "print(h1.name)"
   ]
  },
  {
   "cell_type": "code",
   "execution_count": null,
   "metadata": {},
   "outputs": [],
   "source": []
  },
  {
   "cell_type": "markdown",
   "metadata": {},
   "source": [
    "### Class variable\n",
    "    - Class Variables are common to all instances.\n",
    "    - They are associated with the class. "
   ]
  },
  {
   "cell_type": "code",
   "execution_count": 10,
   "metadata": {},
   "outputs": [],
   "source": [
    "class Human():\n",
    "    \n",
    "    # class variable\n",
    "    database = []\n",
    "    population = 0\n",
    "    id_seq = 101\n",
    "    \n",
    "    # constructor\n",
    "    def __init__(self, name, age, is_alive=True):\n",
    "        \n",
    "        #instance variables\n",
    "        self.name = name\n",
    "        self.age = age\n",
    "        self.is_alive = is_alive\n",
    "        \n",
    "        # adding id of an object\n",
    "        self.id = Human.id_seq\n",
    "        \n",
    "        Human.id_seq += 1\n",
    "        Human.population +=1\n",
    "        Human.database.append(self)\n",
    "        \n",
    "    \n",
    "    def introduce(self):\n",
    "        print(\"Hi, My name is\", self.name, \"My age is \", self.age)"
   ]
  },
  {
   "cell_type": "code",
   "execution_count": 11,
   "metadata": {},
   "outputs": [],
   "source": [
    "h1 = Human(\"Mohit\", 23)"
   ]
  },
  {
   "cell_type": "code",
   "execution_count": 12,
   "metadata": {},
   "outputs": [
    {
     "name": "stdout",
     "output_type": "stream",
     "text": [
      "101\n"
     ]
    }
   ],
   "source": [
    "print(h1.id)"
   ]
  },
  {
   "cell_type": "code",
   "execution_count": 13,
   "metadata": {},
   "outputs": [
    {
     "data": {
      "text/plain": [
       "1"
      ]
     },
     "execution_count": 13,
     "metadata": {},
     "output_type": "execute_result"
    }
   ],
   "source": [
    "Human.population"
   ]
  },
  {
   "cell_type": "code",
   "execution_count": 14,
   "metadata": {},
   "outputs": [
    {
     "data": {
      "text/plain": [
       "[<__main__.Human at 0x18059c22828>]"
      ]
     },
     "execution_count": 14,
     "metadata": {},
     "output_type": "execute_result"
    }
   ],
   "source": [
    "Human.database"
   ]
  },
  {
   "cell_type": "code",
   "execution_count": 15,
   "metadata": {},
   "outputs": [],
   "source": [
    "h2 = Human(\"Prateek\", 27)"
   ]
  },
  {
   "cell_type": "code",
   "execution_count": 16,
   "metadata": {},
   "outputs": [
    {
     "data": {
      "text/plain": [
       "2"
      ]
     },
     "execution_count": 16,
     "metadata": {},
     "output_type": "execute_result"
    }
   ],
   "source": [
    "Human.population"
   ]
  },
  {
   "cell_type": "code",
   "execution_count": 17,
   "metadata": {},
   "outputs": [
    {
     "data": {
      "text/plain": [
       "102"
      ]
     },
     "execution_count": 17,
     "metadata": {},
     "output_type": "execute_result"
    }
   ],
   "source": [
    "Human.database[-1].id"
   ]
  },
  {
   "cell_type": "code",
   "execution_count": 18,
   "metadata": {},
   "outputs": [
    {
     "name": "stdout",
     "output_type": "stream",
     "text": [
      "[<__main__.Human object at 0x0000018059C22828>, <__main__.Human object at 0x000001805969D7B8>]\n"
     ]
    }
   ],
   "source": [
    "print(Human.database)"
   ]
  },
  {
   "cell_type": "markdown",
   "metadata": {},
   "source": [
    "### Adding More Methods - die()\n"
   ]
  },
  {
   "cell_type": "code",
   "execution_count": 22,
   "metadata": {},
   "outputs": [],
   "source": [
    "class Human():\n",
    "    \n",
    "    # class variable\n",
    "    database = []\n",
    "    population = 0\n",
    "    id_seq = 101\n",
    "    \n",
    "    # constructor\n",
    "    def __init__(self, name, age, is_alive=True):\n",
    "        #instance variables\n",
    "        self.name = name\n",
    "        self.age = age\n",
    "        self.is_alive = is_alive\n",
    "        \n",
    "        # adding id of an object\n",
    "        self.id = Human.id_seq\n",
    "        Human.id_seq += 1\n",
    "        Human.population +=1\n",
    "        Human.database.append(self)\n",
    "        \n",
    "        \n",
    "    def introduce(self):\n",
    "        print(\"Hi, My name is\", self.name, \"My age is \", self.age)\n",
    "        \n",
    "    def die(self):\n",
    "        if self.is_alive:\n",
    "            print(self.name, \"is dying\")\n",
    "            self.is_alive = False\n",
    "            Human.population -= 1\n",
    "        else:\n",
    "            print(\"{} is already dead\".format(self.name))"
   ]
  },
  {
   "cell_type": "code",
   "execution_count": 23,
   "metadata": {},
   "outputs": [],
   "source": [
    "h1 = Human(\"Mohit\", 23)\n",
    "h2 = Human(\"Prateek\", 27)"
   ]
  },
  {
   "cell_type": "code",
   "execution_count": 24,
   "metadata": {},
   "outputs": [
    {
     "data": {
      "text/plain": [
       "2"
      ]
     },
     "execution_count": 24,
     "metadata": {},
     "output_type": "execute_result"
    }
   ],
   "source": [
    "Human.population"
   ]
  },
  {
   "cell_type": "code",
   "execution_count": 25,
   "metadata": {},
   "outputs": [
    {
     "data": {
      "text/plain": [
       "True"
      ]
     },
     "execution_count": 25,
     "metadata": {},
     "output_type": "execute_result"
    }
   ],
   "source": [
    "h1.is_alive"
   ]
  },
  {
   "cell_type": "code",
   "execution_count": 26,
   "metadata": {},
   "outputs": [
    {
     "name": "stdout",
     "output_type": "stream",
     "text": [
      "Mohit is dying\n"
     ]
    }
   ],
   "source": [
    "h1.die()"
   ]
  },
  {
   "cell_type": "code",
   "execution_count": 27,
   "metadata": {},
   "outputs": [
    {
     "data": {
      "text/plain": [
       "False"
      ]
     },
     "execution_count": 27,
     "metadata": {},
     "output_type": "execute_result"
    }
   ],
   "source": [
    "h1.is_alive"
   ]
  },
  {
   "cell_type": "code",
   "execution_count": 28,
   "metadata": {},
   "outputs": [
    {
     "data": {
      "text/plain": [
       "1"
      ]
     },
     "execution_count": 28,
     "metadata": {},
     "output_type": "execute_result"
    }
   ],
   "source": [
    "Human.population"
   ]
  },
  {
   "cell_type": "code",
   "execution_count": 29,
   "metadata": {},
   "outputs": [
    {
     "name": "stdout",
     "output_type": "stream",
     "text": [
      "Mohit is already dead\n"
     ]
    }
   ],
   "source": [
    "h1.die()"
   ]
  },
  {
   "cell_type": "code",
   "execution_count": 30,
   "metadata": {},
   "outputs": [
    {
     "data": {
      "text/plain": [
       "1"
      ]
     },
     "execution_count": 30,
     "metadata": {},
     "output_type": "execute_result"
    }
   ],
   "source": [
    "Human.population"
   ]
  },
  {
   "cell_type": "code",
   "execution_count": null,
   "metadata": {},
   "outputs": [],
   "source": []
  },
  {
   "cell_type": "markdown",
   "metadata": {},
   "source": [
    "### Magic Functions\n",
    "    \n",
    "    - they are called automatically when some particular event occur.\n",
    "    \n",
    "    e.g :  __repr__ , __init__, __str__"
   ]
  },
  {
   "cell_type": "code",
   "execution_count": 75,
   "metadata": {},
   "outputs": [],
   "source": [
    "class Human():\n",
    "    id_seq = 101\n",
    "    database = []\n",
    "    population = 0\n",
    "\n",
    "    def __init__(self, name, age, is_alive=True):\n",
    "        self.name = name\n",
    "        self.age = age\n",
    "        self.is_alive = is_alive\n",
    "        # adding id of object\n",
    "        self.id = Human.id_seq\n",
    "        Human.id_seq += 1\n",
    "        Human.database.append(self)\n",
    "        Human.population +=1\n",
    "    \n",
    "    def introduce(self):\n",
    "        print(\"Hi, My name is\", self.name, \"My age is \", self.age)\n",
    "        \n",
    "    def die(self):\n",
    "        if self.is_alive:\n",
    "            print(self.name, \"is dying...\")\n",
    "            self.is_alive = False\n",
    "            Human.population -=1\n",
    "        else:\n",
    "            print(\"{} is already dead.\".format(self.name))\n",
    "        \n",
    "    #magic function  :-Represent any object\n",
    "    # We don't need to call these functions as they are automatically executed\n",
    "    \n",
    "    def __repr__(self):\n",
    "        \"\"\"\n",
    "        this function needs to return a string\n",
    "        \"\"\"\n",
    "        return \"[{}, {}, {}, {}]\".format(self.id, self.name, self.age, self.is_alive)\n",
    "    "
   ]
  },
  {
   "cell_type": "code",
   "execution_count": 31,
   "metadata": {},
   "outputs": [
    {
     "data": {
      "text/plain": [
       "['__class__',\n",
       " '__delattr__',\n",
       " '__dict__',\n",
       " '__dir__',\n",
       " '__doc__',\n",
       " '__eq__',\n",
       " '__format__',\n",
       " '__ge__',\n",
       " '__getattribute__',\n",
       " '__gt__',\n",
       " '__hash__',\n",
       " '__init__',\n",
       " '__init_subclass__',\n",
       " '__le__',\n",
       " '__lt__',\n",
       " '__module__',\n",
       " '__ne__',\n",
       " '__new__',\n",
       " '__reduce__',\n",
       " '__reduce_ex__',\n",
       " '__repr__',\n",
       " '__setattr__',\n",
       " '__sizeof__',\n",
       " '__str__',\n",
       " '__subclasshook__',\n",
       " '__weakref__',\n",
       " 'age',\n",
       " 'database',\n",
       " 'die',\n",
       " 'id',\n",
       " 'id_seq',\n",
       " 'introduce',\n",
       " 'is_alive',\n",
       " 'name',\n",
       " 'population']"
      ]
     },
     "execution_count": 31,
     "metadata": {},
     "output_type": "execute_result"
    }
   ],
   "source": [
    "dir(h1)"
   ]
  },
  {
   "cell_type": "code",
   "execution_count": 76,
   "metadata": {},
   "outputs": [],
   "source": [
    "h1 = Human(\"Mohit\", 23)\n",
    "h2 = Human(\"Prateek\", 27)"
   ]
  },
  {
   "cell_type": "code",
   "execution_count": 77,
   "metadata": {},
   "outputs": [
    {
     "name": "stdout",
     "output_type": "stream",
     "text": [
      "[1, Mohit, 23, True]\n"
     ]
    }
   ],
   "source": [
    "print(h1)"
   ]
  },
  {
   "cell_type": "code",
   "execution_count": 78,
   "metadata": {},
   "outputs": [
    {
     "name": "stdout",
     "output_type": "stream",
     "text": [
      "[2, Prateek, 27, True]\n"
     ]
    }
   ],
   "source": [
    "print(h2)"
   ]
  },
  {
   "cell_type": "code",
   "execution_count": 80,
   "metadata": {},
   "outputs": [
    {
     "data": {
      "text/plain": [
       "[[1, Mohit, 23, True], [2, Prateek, 27, True]]"
      ]
     },
     "execution_count": 80,
     "metadata": {},
     "output_type": "execute_result"
    }
   ],
   "source": [
    "Human.database"
   ]
  },
  {
   "cell_type": "code",
   "execution_count": 81,
   "metadata": {},
   "outputs": [
    {
     "name": "stdout",
     "output_type": "stream",
     "text": [
      "Mohit is dying...\n"
     ]
    }
   ],
   "source": [
    "h1.die()"
   ]
  },
  {
   "cell_type": "code",
   "execution_count": 82,
   "metadata": {},
   "outputs": [
    {
     "name": "stdout",
     "output_type": "stream",
     "text": [
      "[1, Mohit, 23, False]\n"
     ]
    }
   ],
   "source": [
    "print(h1)"
   ]
  },
  {
   "cell_type": "code",
   "execution_count": 84,
   "metadata": {},
   "outputs": [
    {
     "data": {
      "text/plain": [
       "[[1, Mohit, 23, False], [2, Prateek, 27, True]]"
      ]
     },
     "execution_count": 84,
     "metadata": {},
     "output_type": "execute_result"
    }
   ],
   "source": [
    "Human.database"
   ]
  },
  {
   "cell_type": "code",
   "execution_count": null,
   "metadata": {},
   "outputs": [],
   "source": []
  },
  {
   "cell_type": "markdown",
   "metadata": {},
   "source": [
    "# Inheritance\n",
    "    - a process where one class acquire all the methods and properties of another class\n",
    "   **Parent class** is the class being inherited from, also called base class.\n",
    "\n",
    "   **Child class** is the class that inherits from another class, also called derived class.\n",
    "   \n",
    "**Syntax** : \n",
    "\n",
    "`class ChildClassName(ParentClassName)`\n",
    "    \n",
    "    ...\n",
    "    \n",
    "<img src=\"./images/inheritance.png\">"
   ]
  },
  {
   "cell_type": "code",
   "execution_count": 32,
   "metadata": {},
   "outputs": [],
   "source": [
    "# Parent Class\n",
    "class Human():\n",
    "    id_seq = 101\n",
    "    database = []\n",
    "    population = 0\n",
    "\n",
    "    def __init__(self, name, age, is_alive=True):\n",
    "        self.name = name\n",
    "        self.age = age\n",
    "        self.is_alive = is_alive\n",
    "        # adding id of object\n",
    "        self.id = Human.id_seq\n",
    "        Human.id_seq += 1\n",
    "        Human.database.append(self)\n",
    "        Human.population +=1\n",
    "    \n",
    "    def introduce(self):\n",
    "        print(\"Hi, My name is\", self.name, \"My age is \", self.age)\n",
    "        \n",
    "    def die(self):\n",
    "        if self.is_alive:\n",
    "            print(self.name, \"is dying...\")\n",
    "            self.is_alive = False\n",
    "            Human.population -=1\n",
    "        else:\n",
    "            print(\"{} is already dead.\".format(self.name))\n",
    "        \n",
    "    def __repr__(self):\n",
    "        return \"[{}, {}, {}, {}]\".format(self.id, self.name, self.age, self.is_alive)\n",
    "    "
   ]
  },
  {
   "cell_type": "code",
   "execution_count": 33,
   "metadata": {},
   "outputs": [],
   "source": [
    "# Child Class\n",
    "class Hitman(Human):\n",
    "    \n",
    "    #constructor\n",
    "    def __init__(self, name, age):\n",
    "        # Calling the constructor of human class\n",
    "        super().__init__(name, age) #super will always refer to the parent class.\n",
    "\n",
    "        #additional hitman properties\n",
    "        self.kills = 0\n",
    "        self.kill_list = []"
   ]
  },
  {
   "cell_type": "code",
   "execution_count": 34,
   "metadata": {},
   "outputs": [],
   "source": [
    "h1 = Human(\"Mohit\", 23)\n",
    "h2 = Human(\"Prateek\", 27)\n",
    "h3 = Human(\"Jatin\", 26)"
   ]
  },
  {
   "cell_type": "code",
   "execution_count": 35,
   "metadata": {},
   "outputs": [
    {
     "data": {
      "text/plain": [
       "3"
      ]
     },
     "execution_count": 35,
     "metadata": {},
     "output_type": "execute_result"
    }
   ],
   "source": [
    "Human.population"
   ]
  },
  {
   "cell_type": "code",
   "execution_count": 36,
   "metadata": {},
   "outputs": [
    {
     "data": {
      "text/plain": [
       "[[101, Mohit, 23, True], [102, Prateek, 27, True], [103, Jatin, 26, True]]"
      ]
     },
     "execution_count": 36,
     "metadata": {},
     "output_type": "execute_result"
    }
   ],
   "source": [
    "Human.database"
   ]
  },
  {
   "cell_type": "code",
   "execution_count": 37,
   "metadata": {},
   "outputs": [],
   "source": [
    "# creating a hitman\n",
    "bond = Hitman(\"James\", 30)"
   ]
  },
  {
   "cell_type": "code",
   "execution_count": 38,
   "metadata": {},
   "outputs": [
    {
     "data": {
      "text/plain": [
       "4"
      ]
     },
     "execution_count": 38,
     "metadata": {},
     "output_type": "execute_result"
    }
   ],
   "source": [
    "Human.population"
   ]
  },
  {
   "cell_type": "code",
   "execution_count": 39,
   "metadata": {},
   "outputs": [
    {
     "data": {
      "text/plain": [
       "[[101, Mohit, 23, True],\n",
       " [102, Prateek, 27, True],\n",
       " [103, Jatin, 26, True],\n",
       " [104, James, 30, True]]"
      ]
     },
     "execution_count": 39,
     "metadata": {},
     "output_type": "execute_result"
    }
   ],
   "source": [
    "Human.database"
   ]
  },
  {
   "cell_type": "code",
   "execution_count": 40,
   "metadata": {},
   "outputs": [
    {
     "name": "stdout",
     "output_type": "stream",
     "text": [
      "[104, James, 30, True]\n"
     ]
    }
   ],
   "source": [
    "print(bond)"
   ]
  },
  {
   "cell_type": "code",
   "execution_count": 41,
   "metadata": {},
   "outputs": [
    {
     "name": "stdout",
     "output_type": "stream",
     "text": [
      "Hi, My name is James My age is  30\n"
     ]
    }
   ],
   "source": [
    "bond.introduce()"
   ]
  },
  {
   "cell_type": "code",
   "execution_count": null,
   "metadata": {},
   "outputs": [],
   "source": []
  },
  {
   "cell_type": "markdown",
   "metadata": {},
   "source": [
    "### Add kill functionality to Hitman"
   ]
  },
  {
   "cell_type": "code",
   "execution_count": 45,
   "metadata": {},
   "outputs": [],
   "source": [
    "# Parent Class\n",
    "\n",
    "class Human():\n",
    "    id_seq = 101\n",
    "    database = []\n",
    "    population = 0\n",
    "\n",
    "    def __init__(self, name, age, is_alive=True):\n",
    "        self.name = name\n",
    "        self.age = age\n",
    "        self.is_alive = is_alive\n",
    "        # adding id of object\n",
    "        self.id = Human.id_seq\n",
    "        Human.id_seq += 1\n",
    "        Human.database.append(self)\n",
    "        Human.population +=1\n",
    "    \n",
    "    def introduce(self):\n",
    "        print(\"Hi, My name is\", self.name, \"My age is \", self.age)\n",
    "        \n",
    "    def die(self):\n",
    "        if self.is_alive:\n",
    "            print(self.name, \"is dying...\")\n",
    "            self.is_alive = False\n",
    "            Human.population -=1\n",
    "        else:\n",
    "            print(\"{} is already dead.\".format(self.name))\n",
    "        \n",
    "    def __repr__(self):\n",
    "        return \"[{}, {}, {}, {}]\".format(self.id, self.name, self.age, self.is_alive)"
   ]
  },
  {
   "cell_type": "code",
   "execution_count": 46,
   "metadata": {},
   "outputs": [],
   "source": [
    "# Child Class\n",
    "class Hitman(Human):\n",
    "    \n",
    "    def __init__(self, name, age):\n",
    "        super().__init__(name, age)\n",
    "        \n",
    "        self.kills = 0\n",
    "        self.kill_list = []\n",
    "        \n",
    "    def kill(self, person):\n",
    "        \n",
    "        \"\"\"\n",
    "        person will be an obj of Human\n",
    "        \"\"\"\n",
    "        \n",
    "        if person.is_alive:\n",
    "            print(\"{} is killing {}\".format(self.name, person.name))\n",
    "            person.die()\n",
    "            self.kills+=1\n",
    "            self.kill_list.append(person)\n",
    "        else:\n",
    "            print(\"{} is already dead\".format(person.name))"
   ]
  },
  {
   "cell_type": "code",
   "execution_count": 47,
   "metadata": {},
   "outputs": [],
   "source": [
    "h1 = Human(\"Mohit\", 23)\n",
    "h2 = Human(\"Prateek\", 27)\n",
    "h3 = Human(\"Jatin\", 26)"
   ]
  },
  {
   "cell_type": "code",
   "execution_count": 48,
   "metadata": {},
   "outputs": [
    {
     "data": {
      "text/plain": [
       "3"
      ]
     },
     "execution_count": 48,
     "metadata": {},
     "output_type": "execute_result"
    }
   ],
   "source": [
    "Human.population"
   ]
  },
  {
   "cell_type": "code",
   "execution_count": 49,
   "metadata": {},
   "outputs": [
    {
     "data": {
      "text/plain": [
       "[[101, Mohit, 23, True], [102, Prateek, 27, True], [103, Jatin, 26, True]]"
      ]
     },
     "execution_count": 49,
     "metadata": {},
     "output_type": "execute_result"
    }
   ],
   "source": [
    "Human.database"
   ]
  },
  {
   "cell_type": "code",
   "execution_count": 50,
   "metadata": {},
   "outputs": [],
   "source": [
    "bond = Hitman(\"James\", 30)"
   ]
  },
  {
   "cell_type": "code",
   "execution_count": 51,
   "metadata": {},
   "outputs": [
    {
     "data": {
      "text/plain": [
       "4"
      ]
     },
     "execution_count": 51,
     "metadata": {},
     "output_type": "execute_result"
    }
   ],
   "source": [
    "Human.population"
   ]
  },
  {
   "cell_type": "code",
   "execution_count": 52,
   "metadata": {},
   "outputs": [
    {
     "data": {
      "text/plain": [
       "[[101, Mohit, 23, True],\n",
       " [102, Prateek, 27, True],\n",
       " [103, Jatin, 26, True],\n",
       " [104, James, 30, True]]"
      ]
     },
     "execution_count": 52,
     "metadata": {},
     "output_type": "execute_result"
    }
   ],
   "source": [
    "Human.database"
   ]
  },
  {
   "cell_type": "code",
   "execution_count": 53,
   "metadata": {},
   "outputs": [
    {
     "name": "stdout",
     "output_type": "stream",
     "text": [
      "James is killing Jatin\n",
      "Jatin is dying...\n"
     ]
    }
   ],
   "source": [
    "bond.kill(h3)"
   ]
  },
  {
   "cell_type": "code",
   "execution_count": 54,
   "metadata": {},
   "outputs": [
    {
     "data": {
      "text/plain": [
       "1"
      ]
     },
     "execution_count": 54,
     "metadata": {},
     "output_type": "execute_result"
    }
   ],
   "source": [
    "bond.kills"
   ]
  },
  {
   "cell_type": "code",
   "execution_count": 55,
   "metadata": {},
   "outputs": [
    {
     "data": {
      "text/plain": [
       "[[103, Jatin, 26, False]]"
      ]
     },
     "execution_count": 55,
     "metadata": {},
     "output_type": "execute_result"
    }
   ],
   "source": [
    "bond.kill_list"
   ]
  },
  {
   "cell_type": "code",
   "execution_count": 56,
   "metadata": {},
   "outputs": [
    {
     "data": {
      "text/plain": [
       "3"
      ]
     },
     "execution_count": 56,
     "metadata": {},
     "output_type": "execute_result"
    }
   ],
   "source": [
    "Human.population"
   ]
  },
  {
   "cell_type": "code",
   "execution_count": 57,
   "metadata": {},
   "outputs": [
    {
     "data": {
      "text/plain": [
       "[[101, Mohit, 23, True],\n",
       " [102, Prateek, 27, True],\n",
       " [103, Jatin, 26, False],\n",
       " [104, James, 30, True]]"
      ]
     },
     "execution_count": 57,
     "metadata": {},
     "output_type": "execute_result"
    }
   ],
   "source": [
    "Human.database"
   ]
  },
  {
   "cell_type": "code",
   "execution_count": 58,
   "metadata": {},
   "outputs": [
    {
     "name": "stdout",
     "output_type": "stream",
     "text": [
      "Jatin is already dead\n"
     ]
    }
   ],
   "source": [
    "bond.kill(h3)"
   ]
  },
  {
   "cell_type": "code",
   "execution_count": null,
   "metadata": {},
   "outputs": [],
   "source": []
  },
  {
   "cell_type": "markdown",
   "metadata": {},
   "source": [
    "### Polymorphism\n",
    "   **poly** - many\n",
    "   **morph** - forms\n",
    "   \n",
    "    - One function Name can have different functionality.\n",
    "    \n",
    "<img src=\"./images/polymorphism.jpg\">    \n",
    "   \n",
    "**Function overriding**\n",
    "    - If derived class defines same function as defined in its base class, it is known as function overriding. this is used to achieve a polymorphism"
   ]
  },
  {
   "cell_type": "code",
   "execution_count": 60,
   "metadata": {},
   "outputs": [],
   "source": [
    "# Parent Class\n",
    "\n",
    "class Human():\n",
    "    id_seq = 101\n",
    "    database = []\n",
    "    population = 0\n",
    "\n",
    "    def __init__(self, name, age, is_alive=True):\n",
    "        self.name = name\n",
    "        self.age = age\n",
    "        self.is_alive = is_alive\n",
    "        # adding id of object\n",
    "        self.id = Human.id_seq\n",
    "        Human.id_seq += 1\n",
    "        Human.database.append(self)\n",
    "        Human.population +=1\n",
    "    \n",
    "    def introduce(self):\n",
    "        print(\"Hi, My name is\", self.name, \"My age is \", self.age)\n",
    "        \n",
    "    def die(self):\n",
    "        if self.is_alive:\n",
    "            print(self.name, \"is dying...\")\n",
    "            self.is_alive = False\n",
    "            Human.population -=1\n",
    "        else:\n",
    "            print(\"{} is already dead.\".format(self.name))\n",
    "        \n",
    "    def __repr__(self):\n",
    "        return \"[{}, {}, {}, {}]\".format(self.id, self.name, self.age, self.is_alive)"
   ]
  },
  {
   "cell_type": "code",
   "execution_count": 61,
   "metadata": {},
   "outputs": [],
   "source": [
    "# Child Class\n",
    "class Hitman(Human):\n",
    "    \n",
    "    def __init__(self, name, age):\n",
    "        super().__init__(name, age)\n",
    "        \n",
    "        self.kills = 0\n",
    "        self.kill_list = []\n",
    "        \n",
    "    def kill(self, person):\n",
    "        \"\"\"\n",
    "        person will be an obj of Human\n",
    "        \"\"\"\n",
    "        if person.is_alive:\n",
    "            print(\"{} is killing {}\".format(self.name, person.name))\n",
    "            person.die()\n",
    "            self.kills+=1\n",
    "            self.kill_list.append(person)\n",
    "        else:\n",
    "            print(\"{} is already dead\".format(person.name))\n",
    "            \n",
    "    # function overriding\n",
    "    def introduce(self):\n",
    "        print(\"Hi, my name is {}, I've killed {} people\".format(self.name, self.kills))"
   ]
  },
  {
   "cell_type": "code",
   "execution_count": 62,
   "metadata": {},
   "outputs": [],
   "source": [
    "h1 = Human(\"Mohit\", 23)\n",
    "h2 = Human(\"Prateek\", 27)\n",
    "h3 = Human(\"Jatin\", 26)"
   ]
  },
  {
   "cell_type": "code",
   "execution_count": 63,
   "metadata": {},
   "outputs": [],
   "source": [
    "bond = Hitman(\"James\", 30)"
   ]
  },
  {
   "cell_type": "code",
   "execution_count": 64,
   "metadata": {},
   "outputs": [
    {
     "name": "stdout",
     "output_type": "stream",
     "text": [
      "James is killing Jatin\n",
      "Jatin is dying...\n"
     ]
    }
   ],
   "source": [
    "bond.kill(h3)"
   ]
  },
  {
   "cell_type": "code",
   "execution_count": 65,
   "metadata": {},
   "outputs": [
    {
     "name": "stdout",
     "output_type": "stream",
     "text": [
      "Hi, My name is Mohit My age is  23\n"
     ]
    }
   ],
   "source": [
    "h1.introduce()"
   ]
  },
  {
   "cell_type": "code",
   "execution_count": 66,
   "metadata": {},
   "outputs": [
    {
     "name": "stdout",
     "output_type": "stream",
     "text": [
      "Hi, my name is James, I've killed 1 people\n"
     ]
    }
   ],
   "source": [
    "bond.introduce()"
   ]
  },
  {
   "cell_type": "code",
   "execution_count": 67,
   "metadata": {},
   "outputs": [
    {
     "name": "stdout",
     "output_type": "stream",
     "text": [
      "James is killing Mohit\n",
      "Mohit is dying...\n"
     ]
    }
   ],
   "source": [
    "bond.kill(h1)"
   ]
  },
  {
   "cell_type": "code",
   "execution_count": 68,
   "metadata": {},
   "outputs": [
    {
     "name": "stdout",
     "output_type": "stream",
     "text": [
      "Hi, my name is James, I've killed 2 people\n"
     ]
    }
   ],
   "source": [
    "bond.introduce()"
   ]
  },
  {
   "cell_type": "code",
   "execution_count": 69,
   "metadata": {},
   "outputs": [
    {
     "name": "stdout",
     "output_type": "stream",
     "text": [
      "Hi, My name is Prateek My age is  27\n"
     ]
    }
   ],
   "source": [
    "h2.introduce()"
   ]
  },
  {
   "cell_type": "code",
   "execution_count": null,
   "metadata": {},
   "outputs": [],
   "source": [
    " "
   ]
  },
  {
   "cell_type": "code",
   "execution_count": 70,
   "metadata": {},
   "outputs": [],
   "source": [
    "## Coding Exercise"
   ]
  },
  {
   "cell_type": "code",
   "execution_count": 79,
   "metadata": {},
   "outputs": [],
   "source": [
    "# Write only the classes and their member functions.\n",
    "# No need to initialize and call functions.\n",
    "\n",
    "\n",
    "class SchoolMember:\n",
    "    ### Write Code for SchoolMember class ###\n",
    "    def __init__(self,name,age):\n",
    "        self.name=name\n",
    "        self.age=age\n",
    "    \n",
    "    def introduce(self):\n",
    "        print(\"My name is {}. I am {} years old.\".format(self.name,self.age))\n",
    "    ### Code ends here ###\n",
    "    \n",
    "    \n",
    "    \n",
    "class Student(SchoolMember):\n",
    "     ### Write Code for Student class ###\n",
    "        def __init__(self,name,age,my_class,roll_no):\n",
    "            super().__init__(name,age)\n",
    "            self.my_class=my_class\n",
    "            self.roll_no=roll_no\n",
    "        \n",
    "        def introduce(self):\n",
    "            print(\"I am in {} class. My roll number is {}.\".format(self.my_class,self.roll_no))\n",
    "\n",
    "    ### Code ends here ###\n",
    "    \n",
    "    \n",
    "    \n",
    "class Teacher(SchoolMember):\n",
    "     ### Write Code for Teacher class ###\n",
    "        def __init__(self,name,age,subject,salary):\n",
    "            super().__init__(name,age)\n",
    "            self.salary=salary\n",
    "            self.subject=subject\n",
    "        \n",
    "        def introduce(self):\n",
    "            print(\"I teach {} subject. My salary is {}.\".format(self.subject,self.salary))\n",
    "    \n",
    "    ### Code ends here ###\n",
    "    \n",
    "    \n",
    "    "
   ]
  },
  {
   "cell_type": "code",
   "execution_count": 80,
   "metadata": {},
   "outputs": [],
   "source": [
    "obj=SchoolMember(\"Swraj\",20)"
   ]
  },
  {
   "cell_type": "code",
   "execution_count": 81,
   "metadata": {},
   "outputs": [
    {
     "name": "stdout",
     "output_type": "stream",
     "text": [
      "My name is Swraj. I am 20 years old.\n"
     ]
    }
   ],
   "source": [
    "obj.name\n",
    "obj.introduce()"
   ]
  },
  {
   "cell_type": "code",
   "execution_count": 82,
   "metadata": {},
   "outputs": [],
   "source": [
    "obj1=Student(\"Swraj\",20,12,10)"
   ]
  },
  {
   "cell_type": "code",
   "execution_count": 83,
   "metadata": {},
   "outputs": [
    {
     "name": "stdout",
     "output_type": "stream",
     "text": [
      "I am in 12 class. My roll number is 10.\n"
     ]
    }
   ],
   "source": [
    "obj1.introduce()"
   ]
  },
  {
   "cell_type": "code",
   "execution_count": null,
   "metadata": {},
   "outputs": [],
   "source": []
  }
 ],
 "metadata": {
  "kernelspec": {
   "display_name": "Python 3",
   "language": "python",
   "name": "python3"
  },
  "language_info": {
   "codemirror_mode": {
    "name": "ipython",
    "version": 3
   },
   "file_extension": ".py",
   "mimetype": "text/x-python",
   "name": "python",
   "nbconvert_exporter": "python",
   "pygments_lexer": "ipython3",
   "version": "3.6.12"
  }
 },
 "nbformat": 4,
 "nbformat_minor": 4
}
