{
 "cells": [
  {
   "cell_type": "code",
   "execution_count": 1,
   "metadata": {},
   "outputs": [
    {
     "name": "stdout",
     "output_type": "stream",
     "text": [
      "['1', '2', '3', '4', '5']\n",
      "<class 'list'>\n"
     ]
    }
   ],
   "source": [
    "num_list_char=\"1 2 3 4 5\".split()\n",
    "print(num_list_char)\n",
    "print(type(num_list_char))"
   ]
  },
  {
   "cell_type": "code",
   "execution_count": 3,
   "metadata": {},
   "outputs": [
    {
     "name": "stdout",
     "output_type": "stream",
     "text": [
      "[1, 2, 3, 4, 5]\n"
     ]
    }
   ],
   "source": [
    "num_list_int=[int(x) for x in num_list_char] #List Comprehension\n",
    "print(num_list_int)"
   ]
  },
  {
   "cell_type": "code",
   "execution_count": 9,
   "metadata": {},
   "outputs": [
    {
     "name": "stdout",
     "output_type": "stream",
     "text": [
      "welcome to the python class Swraj\n",
      "welcome to the python class Swraj\n",
      "welcome to the python class Swraj\n",
      "welcome to the python class Swraj\n",
      "welcome to the python class Swraj\n"
     ]
    }
   ],
   "source": [
    "def Print(name,n=3):\n",
    "    for i in range(n):\n",
    "        print(\"welcome to the python class {}\".format(name))\n",
    "Print(\"Swraj\",5)"
   ]
  },
  {
   "cell_type": "code",
   "execution_count": 10,
   "metadata": {},
   "outputs": [],
   "source": [
    "def add(a,b):\n",
    "    return a+b"
   ]
  },
  {
   "cell_type": "code",
   "execution_count": 12,
   "metadata": {},
   "outputs": [
    {
     "name": "stdout",
     "output_type": "stream",
     "text": [
      "3\n"
     ]
    }
   ],
   "source": [
    "x=add(1,2)\n",
    "print(x)"
   ]
  },
  {
   "cell_type": "code",
   "execution_count": 2,
   "metadata": {},
   "outputs": [],
   "source": [
    "def div(a,b):\n",
    "    try:\n",
    "        return a/b\n",
    "    except:\n",
    "        print(\"Error\")\n",
    "    finally:#finally statement alwaays gets executed\n",
    "        print(\"Wrapping Up\")"
   ]
  },
  {
   "cell_type": "code",
   "execution_count": 3,
   "metadata": {},
   "outputs": [
    {
     "name": "stdout",
     "output_type": "stream",
     "text": [
      "Error\n",
      "Wrapping Up\n"
     ]
    }
   ],
   "source": [
    "div(10,0)"
   ]
  },
  {
   "cell_type": "code",
   "execution_count": 34,
   "metadata": {},
   "outputs": [],
   "source": [
    "x=10\n",
    "def show():\n",
    "    global x\n",
    "    x+=5\n",
    "    print(x)"
   ]
  },
  {
   "cell_type": "code",
   "execution_count": 35,
   "metadata": {},
   "outputs": [
    {
     "name": "stdout",
     "output_type": "stream",
     "text": [
      "15\n",
      "15\n"
     ]
    }
   ],
   "source": [
    "show()\n",
    "print(x)"
   ]
  },
  {
   "cell_type": "code",
   "execution_count": 40,
   "metadata": {},
   "outputs": [],
   "source": [
    "del x"
   ]
  },
  {
   "cell_type": "code",
   "execution_count": 45,
   "metadata": {},
   "outputs": [],
   "source": [
    "#Enclousers\n",
    "def outer():\n",
    "    x=10\n",
    "    \n",
    "    def inner():\n",
    "        nonlocal x\n",
    "        x+=5\n",
    "        print(x)\n",
    "    inner()\n",
    "    print(x)"
   ]
  },
  {
   "cell_type": "code",
   "execution_count": 46,
   "metadata": {},
   "outputs": [
    {
     "name": "stdout",
     "output_type": "stream",
     "text": [
      "15\n",
      "15\n"
     ]
    }
   ],
   "source": [
    "outer()"
   ]
  },
  {
   "cell_type": "code",
   "execution_count": 47,
   "metadata": {},
   "outputs": [],
   "source": [
    "def show(a,b,c):\n",
    "    print(a)\n",
    "    print(b)\n",
    "    print(c)"
   ]
  },
  {
   "cell_type": "code",
   "execution_count": 51,
   "metadata": {},
   "outputs": [
    {
     "name": "stdout",
     "output_type": "stream",
     "text": [
      "My\n",
      "Hello\n",
      "Dear\n"
     ]
    }
   ],
   "source": [
    "show(b=\"Hello\",a=\"My\",c=\"Dear\")"
   ]
  },
  {
   "cell_type": "code",
   "execution_count": 53,
   "metadata": {},
   "outputs": [
    {
     "name": "stdout",
     "output_type": "stream",
     "text": [
      "Swraj is Trying to Learn Python\n"
     ]
    }
   ],
   "source": [
    "print(\"Swraj\",\"is\",\"Trying\",\"to\",\"Learn\",\"Python\")"
   ]
  },
  {
   "cell_type": "code",
   "execution_count": 1,
   "metadata": {},
   "outputs": [],
   "source": [
    "def show(*args):\n",
    "    print(args)\n",
    "    print(type(args))"
   ]
  },
  {
   "cell_type": "code",
   "execution_count": 2,
   "metadata": {},
   "outputs": [
    {
     "name": "stdout",
     "output_type": "stream",
     "text": [
      "('Swraj', 'Kant', 'Sharma')\n",
      "<class 'tuple'>\n"
     ]
    }
   ],
   "source": [
    "show(\"Swraj\",\"Kant\",\"Sharma\")"
   ]
  },
  {
   "cell_type": "code",
   "execution_count": 57,
   "metadata": {},
   "outputs": [],
   "source": [
    "def show(a,b,c,*args,d=10,e=20,**kwargs):\n",
    "    print(a)\n",
    "    print(b);\n",
    "    print(args)\n",
    "    print(d)\n",
    "    print(kwargs)"
   ]
  },
  {
   "cell_type": "code",
   "execution_count": 62,
   "metadata": {},
   "outputs": [
    {
     "name": "stdout",
     "output_type": "stream",
     "text": [
      "10\n",
      "20\n",
      "('Swraj', 'Kant')\n",
      "100\n",
      "{'name': 'Swraj kant', 'title': 'sharma'}\n"
     ]
    }
   ],
   "source": [
    "show(10,20,30,\"Swraj\",\"Kant\",d=100,name=\"Swraj kant\",title=\"sharma\")"
   ]
  },
  {
   "cell_type": "code",
   "execution_count": 7,
   "metadata": {},
   "outputs": [
    {
     "data": {
      "text/plain": [
       "[('D', 5), ('C', 7), ('B', 15), ('A', 10)]"
      ]
     },
     "execution_count": 7,
     "metadata": {},
     "output_type": "execute_result"
    }
   ],
   "source": [
    "a=[(\"A\",10),(\"D\",5),(\"C\",7),(\"B\",15)]\n",
    "sorted(a,key=lambda x:x[0],reverse=True)"
   ]
  },
  {
   "cell_type": "code",
   "execution_count": 72,
   "metadata": {},
   "outputs": [],
   "source": [
    "##Dictionary in python are like Hashmap in c++\n",
    "user={\n",
    "    \"swraj\": \"Swraj@28\",\n",
    "    \"xyz\": \"1234\"\n",
    "}"
   ]
  },
  {
   "cell_type": "code",
   "execution_count": 77,
   "metadata": {},
   "outputs": [],
   "source": [
    "def show(username,password):\n",
    "    if username in user and user[username]==password:\n",
    "        print(\"hello world\")\n",
    "    else:\n",
    "        print(\"invalid username or password\")"
   ]
  },
  {
   "cell_type": "code",
   "execution_count": 80,
   "metadata": {},
   "outputs": [
    {
     "name": "stdout",
     "output_type": "stream",
     "text": [
      "hello world\n"
     ]
    }
   ],
   "source": [
    "show(\"swraj\",\"Swraj@28\")"
   ]
  },
  {
   "cell_type": "code",
   "execution_count": 89,
   "metadata": {},
   "outputs": [],
   "source": [
    "def login_required(func):\n",
    "    def wrapper_function(username,password,*args,**kwargs):\n",
    "        if username in user and user[username]==password:\n",
    "            func(*args,**kwargs)\n",
    "        else:\n",
    "            print(\"Not Authenticated\")\n",
    "    return wrapper_function\n"
   ]
  },
  {
   "cell_type": "code",
   "execution_count": 90,
   "metadata": {},
   "outputs": [],
   "source": [
    "@login_required #decorators\n",
    "def add(a,b):\n",
    "    print(a+b)"
   ]
  },
  {
   "cell_type": "code",
   "execution_count": 93,
   "metadata": {},
   "outputs": [
    {
     "name": "stdout",
     "output_type": "stream",
     "text": [
      "3\n"
     ]
    }
   ],
   "source": [
    "add(\"swraj\",\"Swraj@28\",1,2)"
   ]
  },
  {
   "cell_type": "code",
   "execution_count": 4,
   "metadata": {},
   "outputs": [
    {
     "name": "stdout",
     "output_type": "stream",
     "text": [
      "1\n",
      "2\n",
      "(3, 4, 5)\n",
      "<class 'tuple'>\n",
      "{'name': 'Swraj', 'passion': 'coding'}\n",
      "<class 'dict'>\n",
      "10\n",
      "20\n"
     ]
    }
   ],
   "source": [
    "def fun(a,b,*args,d=10,e=20,**kwargs):#Correct format to pass the parameters\n",
    "    print(a)\n",
    "    print(b)\n",
    "    print(args)\n",
    "    print(type(args))\n",
    "    print(kwargs)\n",
    "    print(type(kwargs))\n",
    "    print(d)\n",
    "    print(e)\n",
    "\n",
    "fun(1,2,3,4,5,name=\"Swraj\",passion=\"coding\")"
   ]
  },
  {
   "cell_type": "code",
   "execution_count": 7,
   "metadata": {},
   "outputs": [
    {
     "name": "stdout",
     "output_type": "stream",
     "text": [
      "<class 'str'>\n",
      "<class 'str'>\n",
      "<class 'str'>\n"
     ]
    }
   ],
   "source": [
    "x=\"swraj\"\n",
    "y='swraj'\n",
    "z='''\n",
    "this is swraj kant sharma.\n",
    "i am 2 yerar btech student\n",
    "'''\n",
    "print(type(x))\n",
    "print(type(y))\n",
    "print(type(z))"
   ]
  },
  {
   "cell_type": "code",
   "execution_count": 13,
   "metadata": {},
   "outputs": [
    {
     "data": {
      "text/plain": [
       "65"
      ]
     },
     "execution_count": 13,
     "metadata": {},
     "output_type": "execute_result"
    }
   ],
   "source": [
    "ord(\"A\")"
   ]
  },
  {
   "cell_type": "code",
   "execution_count": 12,
   "metadata": {},
   "outputs": [
    {
     "data": {
      "text/plain": [
       "'A'"
      ]
     },
     "execution_count": 12,
     "metadata": {},
     "output_type": "execute_result"
    }
   ],
   "source": [
    "chr(65)"
   ]
  },
  {
   "cell_type": "code",
   "execution_count": 14,
   "metadata": {},
   "outputs": [
    {
     "name": "stdout",
     "output_type": "stream",
     "text": [
      "swrajcoding\n",
      "codingswraj\n"
     ]
    }
   ],
   "source": [
    "a=\"swraj\"\n",
    "b=\"coding\"\n",
    "print(a+b)\n",
    "print(b+a)"
   ]
  },
  {
   "cell_type": "code",
   "execution_count": 27,
   "metadata": {},
   "outputs": [
    {
     "name": "stdout",
     "output_type": "stream",
     "text": [
      "1+2+3=6\n"
     ]
    }
   ],
   "source": [
    "a=1\n",
    "b=2\n",
    "c=3\n",
    "print(\"%d+%d+%d=\" % (a,b,c),end=\"\")\n",
    "print(a+b+c)"
   ]
  },
  {
   "cell_type": "code",
   "execution_count": 29,
   "metadata": {},
   "outputs": [
    {
     "name": "stdout",
     "output_type": "stream",
     "text": [
      "2-1-3\n"
     ]
    }
   ],
   "source": [
    "print(\"{1}-{0}-{2}\".format(a,b,c))"
   ]
  },
  {
   "cell_type": "code",
   "execution_count": 33,
   "metadata": {},
   "outputs": [
    {
     "name": "stdout",
     "output_type": "stream",
     "text": [
      "sharma swraj kant\n"
     ]
    }
   ],
   "source": [
    "print(\"{lastname} {firstname}\".format(firstname=\"swraj kant\",lastname=\"sharma\"))"
   ]
  },
  {
   "cell_type": "code",
   "execution_count": 34,
   "metadata": {},
   "outputs": [],
   "source": [
    "firstname=\"Swraj kant\"\n",
    "lastname=\"sharma\""
   ]
  },
  {
   "cell_type": "code",
   "execution_count": 35,
   "metadata": {},
   "outputs": [
    {
     "name": "stdout",
     "output_type": "stream",
     "text": [
      "sharma Swraj kant\n"
     ]
    }
   ],
   "source": [
    "print(f\"{lastname} {firstname}\")"
   ]
  },
  {
   "cell_type": "code",
   "execution_count": 44,
   "metadata": {},
   "outputs": [
    {
     "name": "stdout",
     "output_type": "stream",
     "text": [
      "swraj   \n"
     ]
    }
   ],
   "source": [
    "a=\"swraj   \"\n",
    "print(a)"
   ]
  },
  {
   "cell_type": "code",
   "execution_count": 45,
   "metadata": {},
   "outputs": [
    {
     "name": "stdout",
     "output_type": "stream",
     "text": [
      "swraj\n"
     ]
    }
   ],
   "source": [
    "print(a.strip())#remove all the white spaces from left to thr right of the string"
   ]
  },
  {
   "cell_type": "code",
   "execution_count": 50,
   "metadata": {},
   "outputs": [
    {
     "data": {
      "text/plain": [
       "'swbrbj'"
      ]
     },
     "execution_count": 50,
     "metadata": {},
     "output_type": "execute_result"
    }
   ],
   "source": [
    "x=\"swaraj\"\n",
    "x.replace('a','b')"
   ]
  },
  {
   "cell_type": "code",
   "execution_count": 52,
   "metadata": {},
   "outputs": [
    {
     "data": {
      "text/plain": [
       "9"
      ]
     },
     "execution_count": 52,
     "metadata": {},
     "output_type": "execute_result"
    }
   ],
   "source": [
    "x=\"aaaaaaaaabbbbb\"\n",
    "x.count('a')"
   ]
  },
  {
   "cell_type": "code",
   "execution_count": 55,
   "metadata": {},
   "outputs": [
    {
     "data": {
      "text/plain": [
       "2"
      ]
     },
     "execution_count": 55,
     "metadata": {},
     "output_type": "execute_result"
    }
   ],
   "source": [
    "x.count('aaaa')"
   ]
  },
  {
   "cell_type": "code",
   "execution_count": 57,
   "metadata": {},
   "outputs": [
    {
     "name": "stdout",
     "output_type": "stream",
     "text": [
      "('apple', 2, 'banana', 3)\n",
      "<class 'tuple'>\n"
     ]
    }
   ],
   "source": [
    "a=(\"apple\",2,\"banana\",3)\n",
    "print(a)\n",
    "print(type(a))"
   ]
  },
  {
   "cell_type": "code",
   "execution_count": 58,
   "metadata": {},
   "outputs": [
    {
     "name": "stdout",
     "output_type": "stream",
     "text": [
      "<class 'tuple'>\n"
     ]
    }
   ],
   "source": [
    "b=()\n",
    "print(type(b))"
   ]
  },
  {
   "cell_type": "code",
   "execution_count": 1,
   "metadata": {},
   "outputs": [
    {
     "name": "stdout",
     "output_type": "stream",
     "text": [
      "<class 'list'>\n",
      "[1, 2, 3, 4]\n",
      "<class 'list'>\n"
     ]
    }
   ],
   "source": [
    "c=[1,2,3,4]\n",
    "print(type(c))\n",
    "print(c)\n",
    "print(type(c))"
   ]
  },
  {
   "cell_type": "code",
   "execution_count": 71,
   "metadata": {},
   "outputs": [
    {
     "name": "stdout",
     "output_type": "stream",
     "text": [
      "['ram', 'rohan', 'ashish', 'monika', 'jay', 1, 2]\n",
      "<class 'str'>\n"
     ]
    }
   ],
   "source": [
    "a=[\"ram\",\"rohan\",\"ashish\",\"monika\",\"jay\",1,2]\n",
    "# a.sort(reverse=True)\n",
    "print(a)\n",
    "print(type(a[0]))"
   ]
  },
  {
   "cell_type": "code",
   "execution_count": 72,
   "metadata": {},
   "outputs": [
    {
     "name": "stdout",
     "output_type": "stream",
     "text": [
      "['swraj', 'rohan', 'ashish', 'monika', 'jay', 1, 2]\n"
     ]
    }
   ],
   "source": [
    "a[0]=\"swraj\"\n",
    "print(a)"
   ]
  },
  {
   "cell_type": "code",
   "execution_count": 74,
   "metadata": {},
   "outputs": [
    {
     "name": "stdout",
     "output_type": "stream",
     "text": [
      "Enter a list elements separated by space 1 2 3 4 5\n",
      "\n",
      "\n",
      "user list is  ['1', '2', '3', '4', '5']\n",
      "Sum =  15\n"
     ]
    }
   ],
   "source": [
    "#Taking list as an input in form of a string\n",
    "input_string = input(\"Enter a list elements separated by space \")\n",
    "\n",
    "print(\"\\n\")\n",
    "userList = input_string.split()\n",
    "print(\"user list is \", userList)\n",
    "# Calculating the sum of input list elements\n",
    "sum1 = 0\n",
    "for num in userList:\n",
    "    sum1 += int(num)\n",
    "print(\"Sum = \", sum1)"
   ]
  },
  {
   "cell_type": "code",
   "execution_count": 4,
   "metadata": {},
   "outputs": [
    {
     "name": "stdout",
     "output_type": "stream",
     "text": [
      "Enter the size of the List : 5\n",
      "1\n",
      "2\n",
      "3\n",
      "4\n",
      "5\n",
      "[1, 2, 3, 4, 5]\n",
      "<class 'int'>\n"
     ]
    }
   ],
   "source": [
    "#Taking List as an input directly from user\n",
    "numberlist =[]\n",
    "n=int(input(\"Enter the size of the List : \"))\n",
    "for i in range(0,n):\n",
    "    item=int(input())\n",
    "    numberlist.append(item)\n",
    "print(numberlist)\n",
    "print(type(numberlist[0]))"
   ]
  },
  {
   "cell_type": "code",
   "execution_count": 78,
   "metadata": {},
   "outputs": [
    {
     "name": "stdout",
     "output_type": "stream",
     "text": [
      "['This', 'is', 'swraj', 'kant', 'sharma']\n",
      "<class 'str'>\n"
     ]
    }
   ],
   "source": [
    "txt=\"This is swraj kant sharma\"\n",
    "x=txt.split()\n",
    "print(x)\n",
    "print(type(x[0]))"
   ]
  },
  {
   "cell_type": "code",
   "execution_count": 89,
   "metadata": {},
   "outputs": [
    {
     "name": "stdout",
     "output_type": "stream",
     "text": [
      "1 2 3 4 5\n",
      "['1', '2', '3', '4', '5']\n",
      "15\n"
     ]
    }
   ],
   "source": [
    "List=(input())\n",
    "x=List.split()\n",
    "print(x)\n",
    "sum=0\n",
    "for num in x:\n",
    "    sum += int(num)\n",
    "print(sum)"
   ]
  },
  {
   "cell_type": "code",
   "execution_count": 94,
   "metadata": {},
   "outputs": [
    {
     "name": "stdout",
     "output_type": "stream",
     "text": [
      "['1', '2', '3', '4', '5']\n",
      "[1, 2, 3, 4, 5]\n",
      "<class 'str'>\n",
      "<class 'int'>\n",
      "15\n"
     ]
    }
   ],
   "source": [
    "#List Comphrehension\n",
    "List_char=\"1 2 3 4 5\".split()\n",
    "print(List_char)\n",
    "List_int=[int(x) for x in List_char]\n",
    "print(List_int)\n",
    "print(type(List_char[0]))\n",
    "print(type(List_int[0]))\n",
    "sum=0\n",
    "for x in List_int:\n",
    "    sum+=x\n",
    "print(sum)"
   ]
  },
  {
   "cell_type": "code",
   "execution_count": 95,
   "metadata": {},
   "outputs": [
    {
     "name": "stdout",
     "output_type": "stream",
     "text": [
      "5\n",
      "1 2 3 4 5\n",
      "User List:  [1, 2, 3, 4, 5]\n"
     ]
    }
   ],
   "source": [
    "#List Comphrehension By User Input\n",
    "n = int(input())\n",
    "numList = list(int(num) for num in input().strip().split())[:n]\n",
    "print(\"User List: \", numList)"
   ]
  },
  {
   "cell_type": "markdown",
   "metadata": {},
   "source": [
    "### Shortcut For a MArkdown cell\n",
    "press Escape+m\n",
    "### Convert a markdown cell to a code cell\n",
    "press Escape+y\n",
    "### Deleting a particular cell\n",
    "press Escape dd\n",
    "### Adding a cell above to a given cell\n",
    "press Escape a\n",
    "### Adding a cell below to a given cell\n",
    "press Escpae b"
   ]
  },
  {
   "cell_type": "code",
   "execution_count": 2,
   "metadata": {},
   "outputs": [
    {
     "name": "stdout",
     "output_type": "stream",
     "text": [
      "jarwS\n"
     ]
    }
   ],
   "source": [
    "#Reversing a String\n",
    "S=\"Swraj\"\n",
    "print(S[::-1])"
   ]
  },
  {
   "cell_type": "code",
   "execution_count": 3,
   "metadata": {},
   "outputs": [
    {
     "name": "stdout",
     "output_type": "stream",
     "text": [
      "[5, 4, 3, 2, 1]\n"
     ]
    }
   ],
   "source": [
    "#Reversing a List\n",
    "a=[1,2,3,4,5]\n",
    "print(a[::-1])"
   ]
  },
  {
   "cell_type": "code",
   "execution_count": 6,
   "metadata": {},
   "outputs": [
    {
     "name": "stdout",
     "output_type": "stream",
     "text": [
      "0 1\n",
      "1 2\n",
      "2 3\n",
      "3 4\n",
      "4 5\n",
      "(0, 1)\n",
      "(1, 2)\n",
      "(2, 3)\n",
      "(3, 4)\n",
      "(4, 5)\n",
      "<class 'tuple'>\n"
     ]
    }
   ],
   "source": [
    "a=[1,2,3,4,5]\n",
    "for idx,value in enumerate(a):\n",
    "    print(idx,value)\n",
    "for value in enumerate(a):\n",
    "    print(value)\n",
    "print(type(value))"
   ]
  },
  {
   "cell_type": "code",
   "execution_count": 2,
   "metadata": {},
   "outputs": [
    {
     "name": "stdout",
     "output_type": "stream",
     "text": [
      "0.0009932518005371094 0.0\n"
     ]
    }
   ],
   "source": [
    "import time\n",
    "import numpy as np\n",
    "\n",
    "size_of_vec = 1000\n",
    "\n",
    "def pure_python_version():\n",
    "    t1 = time.time()\n",
    "    X = range(size_of_vec)\n",
    "    Y = range(size_of_vec)\n",
    "    Z = [X[i] + Y[i] for i in range(len(X)) ]\n",
    "    return time.time() - t1\n",
    "\n",
    "def numpy_version():\n",
    "    t1 = time.time()\n",
    "    X = np.arange(size_of_vec)\n",
    "    Y = np.arange(size_of_vec)\n",
    "    Z = X + Y\n",
    "    return time.time() - t1\n",
    "\n",
    "\n",
    "t1 = pure_python_version()\n",
    "t2 = numpy_version()\n",
    "print(t1, t2)\n",
    "# print(\"Numpy is in this example \" + str(t1/t2) + \" faster!\")"
   ]
  },
  {
   "cell_type": "code",
   "execution_count": 6,
   "metadata": {},
   "outputs": [
    {
     "name": "stdout",
     "output_type": "stream",
     "text": [
      "140727089790304\n",
      "140727089790304\n",
      "140727089790304\n"
     ]
    }
   ],
   "source": [
    "a=10\n",
    "b=10\n",
    "c=10\n",
    "print(id(a))\n",
    "print(id(b))\n",
    "print(id(c))"
   ]
  },
  {
   "cell_type": "code",
   "execution_count": 7,
   "metadata": {},
   "outputs": [
    {
     "name": "stdout",
     "output_type": "stream",
     "text": [
      "8\n"
     ]
    }
   ],
   "source": [
    "x=8\n",
    "y=x\n",
    "x=100\n",
    "print(y)"
   ]
  },
  {
   "cell_type": "code",
   "execution_count": 4,
   "metadata": {},
   "outputs": [],
   "source": [
    "import numpy as np"
   ]
  },
  {
   "cell_type": "code",
   "execution_count": 5,
   "metadata": {},
   "outputs": [],
   "source": [
    "a=np.arange(10)"
   ]
  },
  {
   "cell_type": "code",
   "execution_count": 6,
   "metadata": {},
   "outputs": [
    {
     "name": "stdout",
     "output_type": "stream",
     "text": [
      "[0 1 2 3 4 5 6 7 8 9]\n"
     ]
    }
   ],
   "source": [
    "print(a)"
   ]
  },
  {
   "cell_type": "code",
   "execution_count": 7,
   "metadata": {},
   "outputs": [
    {
     "name": "stdout",
     "output_type": "stream",
     "text": [
      "[ 5  6  7  8  9 10 11 12 13 14]\n"
     ]
    }
   ],
   "source": [
    "print(a+5)"
   ]
  },
  {
   "cell_type": "code",
   "execution_count": 14,
   "metadata": {},
   "outputs": [
    {
     "name": "stdout",
     "output_type": "stream",
     "text": [
      "[4 6 0 5 3 9 2 7 8 1]\n"
     ]
    }
   ],
   "source": [
    "np.random.seed(1)\n",
    "np.random.shuffle(a)\n",
    "print(a)"
   ]
  },
  {
   "cell_type": "code",
   "execution_count": 6,
   "metadata": {},
   "outputs": [
    {
     "name": "stdout",
     "output_type": "stream",
     "text": [
      "Size of the array : 5\n",
      "Elements : 1\n",
      "Elements : 2\n",
      "Elements : 3\n",
      "Elements : 4\n",
      "Elements : 5\n",
      "[1 2 3 4 5]\n",
      "<class 'numpy.ndarray'>\n"
     ]
    }
   ],
   "source": [
    "import numpy as np\n",
    "a=[]\n",
    "n=int(input(\"Size of the array : \"))\n",
    "for i in range(n):\n",
    "    a.append(int(input(\"Elements : \")))\n",
    "np_array=np.array(a)\n",
    "\n",
    "print(np_array)\n",
    "print(type(np_array))\n"
   ]
  },
  {
   "cell_type": "code",
   "execution_count": null,
   "metadata": {},
   "outputs": [],
   "source": []
  },
  {
   "cell_type": "code",
   "execution_count": null,
   "metadata": {},
   "outputs": [],
   "source": []
  }
 ],
 "metadata": {
  "kernelspec": {
   "display_name": "Python 3",
   "language": "python",
   "name": "python3"
  },
  "language_info": {
   "codemirror_mode": {
    "name": "ipython",
    "version": 3
   },
   "file_extension": ".py",
   "mimetype": "text/x-python",
   "name": "python",
   "nbconvert_exporter": "python",
   "pygments_lexer": "ipython3",
   "version": "3.6.12"
  }
 },
 "nbformat": 4,
 "nbformat_minor": 4
}
